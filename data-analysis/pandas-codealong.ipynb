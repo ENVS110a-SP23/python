{
 "cells": [
  {
   "cell_type": "markdown",
   "metadata": {},
   "source": [
    "# Pandas\n",
    "\n",
    "While NumPy can be used to import data, it is optimized around numerical data. Many data sets include categorical variables. For these data sets, it is best to use a library called `pandas`, which focuses on creating and manipulating data frames. "
   ]
  },
  {
   "cell_type": "code",
   "execution_count": 1,
   "metadata": {},
   "outputs": [],
   "source": []
  },
  {
   "cell_type": "markdown",
   "metadata": {},
   "source": [
    "### Read data\n",
    "With `pandas` imported, we can read in .csv files with the `pandas` function `read_csv()`.\n",
    "\n",
    "In that function, we can specify the file we want to use with a URL or with the path to a local file as a string.\n",
    "\n",
    "This saves the data in a structure called a DataFrame.\n",
    "\n",
    "We are going to be using data on [long term average precipitation and temperature values in Boston from ~1980s-2010 from NOAA](https://www.ncei.noaa.gov/data/normals-monthly/doc/NORMAL_MLY_documentation.pdf)."
   ]
  },
  {
   "cell_type": "code",
   "execution_count": 87,
   "metadata": {},
   "outputs": [],
   "source": [
    "filename = \"\"\n",
    "# filename = \"https://raw.githubusercontent.com/ENVS110a-SP23/python/main/data/boston_precip_temp.csv\"\n",
    "\n"
   ]
  },
  {
   "cell_type": "markdown",
   "metadata": {},
   "source": [
    "Our data is now saved as a data frame in Python as the variable `df`. With the data now in the environment, we can take a look at the first few rows with `df.head()`."
   ]
  },
  {
   "cell_type": "code",
   "execution_count": null,
   "metadata": {},
   "outputs": [],
   "source": []
  },
  {
   "cell_type": "markdown",
   "metadata": {},
   "source": [
    "We can see that this data frame has several different columns, with information about stations, precipitation and temperature."
   ]
  },
  {
   "cell_type": "markdown",
   "metadata": {},
   "source": [
    "If you have an excel file you can also `pd.read_excel()`. You can specify the sheet name, as well. The default is the first sheet, and you can provide either a single sheet name, or a list of sheets you want as an alternative, which gives you a dictionary of pandas DataFrames.\n",
    "\n",
    "If you say `sheet_name=None`, you will get all of the sheets back."
   ]
  },
  {
   "cell_type": "code",
   "execution_count": 5,
   "metadata": {},
   "outputs": [],
   "source": [
    "data_dir = \"\"\n",
    "\n",
    "\n",
    "# xlsx = \"https://raw.githubusercontent.com/ENVS110a-SP23/python/main/data/boston_precip_temp.xlsx\"\n",
    "\n",
    "\n"
   ]
  },
  {
   "cell_type": "code",
   "execution_count": 4,
   "metadata": {},
   "outputs": [],
   "source": [
    "# pd.read_excel(xlsx)"
   ]
  },
  {
   "cell_type": "code",
   "execution_count": 3,
   "metadata": {},
   "outputs": [],
   "source": [
    "pd.read_excel(xlsx, sheet_name=['Sheet1','Sheet2'])"
   ]
  },
  {
   "cell_type": "code",
   "execution_count": null,
   "metadata": {},
   "outputs": [],
   "source": [
    "pd.read_excel(xlsx)"
   ]
  },
  {
   "cell_type": "markdown",
   "metadata": {},
   "source": [
    "## Making sure data is in correct form\n",
    "\n",
    "When the data does not have the standard format, there can be issues. This tends to happen when the first line of the .csv file is not column names.\n",
    "\n",
    "For an example, we'll take a look at [a data set of two files on arctic vegetation plots](http://dx.doi.org/10.3334/ORNLDAAC/1358)."
   ]
  },
  {
   "cell_type": "code",
   "execution_count": 2,
   "metadata": {},
   "outputs": [],
   "source": [
    "environmental_data = data_dir + \"Arrigetch_Peaks_Environmental_Data_raw.csv\"\n",
    "environmental_data = \"https://raw.githubusercontent.com/ENVS110a-SP23/python/main/data/Arrigetch_Peaks_Environmental_Data_raw.csv\"\n",
    "pd.read_csv(environmental_data)"
   ]
  },
  {
   "cell_type": "code",
   "execution_count": 6,
   "metadata": {},
   "outputs": [],
   "source": [
    "species_file = data_dir + \"/Arrigetch_Peaks_Species_Data_raw.csv\"\n",
    "species_file = \"/Users/fordfishman/GitHub/envs110/python/data/Arrigetch_Peaks_Species_Data_raw.csv\"\n",
    "\n",
    "pd.read_csv(species_file)"
   ]
  },
  {
   "cell_type": "markdown",
   "metadata": {},
   "source": [
    "### Question\n",
    "\n",
    "For in-class questions, we'll be working with a data set called Gapminder. It is in the `data` subdirectory in this repo as `gapminder.csv`. You can also find it at this stable url: `https://raw.githubusercontent.com/ENVS110a-SP23/python/main/data/gapminder.csv`.\n",
    "\n",
    "Load this data set and display the first few rows with `.head()`. **Make sure to save it as a different variable name than `df` to make sure you don't overwrite the precipitation and temperature data frame.**"
   ]
  },
  {
   "cell_type": "code",
   "execution_count": null,
   "metadata": {},
   "outputs": [],
   "source": [
    "# your code here"
   ]
  },
  {
   "cell_type": "markdown",
   "metadata": {},
   "source": [
    "## Summarize data frame\n",
    "\n",
    "It is important to understand the data we are working with before we begin analysis. First, let's look at the dimenions of the data frame using `df.shape`. It gives the number of rows by the number of columns."
   ]
  },
  {
   "cell_type": "code",
   "execution_count": 8,
   "metadata": {},
   "outputs": [
    {
     "data": {
      "text/plain": [
       "(300, 7)"
      ]
     },
     "execution_count": 8,
     "metadata": {},
     "output_type": "execute_result"
    }
   ],
   "source": [
    "df.shape"
   ]
  },
  {
   "cell_type": "markdown",
   "metadata": {},
   "source": [
    "This shows that our data frame has 300 rows by 7 columns.\n",
    "\n",
    "We can get out those numbers individually through indexing."
   ]
  },
  {
   "cell_type": "code",
   "execution_count": 44,
   "metadata": {},
   "outputs": [
    {
     "name": "stdout",
     "output_type": "stream",
     "text": [
      "rows: 300\n",
      "cols: 8\n"
     ]
    }
   ],
   "source": [
    "print(\"rows:\", df.shape[0])\n",
    "print(\"cols:\", df.shape[1])"
   ]
  },
  {
   "cell_type": "markdown",
   "metadata": {},
   "source": [
    "`len(df)` also gets back how many rows you have."
   ]
  },
  {
   "cell_type": "code",
   "execution_count": 82,
   "metadata": {},
   "outputs": [
    {
     "data": {
      "text/plain": [
       "300"
      ]
     },
     "execution_count": 82,
     "metadata": {},
     "output_type": "execute_result"
    }
   ],
   "source": [
    "len(df)"
   ]
  },
  {
   "cell_type": "markdown",
   "metadata": {},
   "source": [
    "We can also use `df.columns` to display the column names."
   ]
  },
  {
   "cell_type": "code",
   "execution_count": 13,
   "metadata": {},
   "outputs": [
    {
     "data": {
      "text/plain": [
       "Index(['station', 'name', 'date', 'temp', 'diurnal_temp_range', 'precip-total',\n",
       "       'snow-totals'],\n",
       "      dtype='object')"
      ]
     },
     "execution_count": 13,
     "metadata": {},
     "output_type": "execute_result"
    }
   ],
   "source": [
    "df.columns"
   ]
  },
  {
   "cell_type": "markdown",
   "metadata": {},
   "source": [
    "## Renaming columns and rows\n",
    "\n",
    "We can rename as many columns as you want with `df.rename(columns = {old_name:new_name,...})`. \n",
    "\n",
    "Note that you need to re-assign to `df` or make a new variable if you want to save the renamed columns."
   ]
  },
  {
   "cell_type": "code",
   "execution_count": 89,
   "metadata": {},
   "outputs": [
    {
     "data": {
      "text/html": [
       "<div>\n",
       "<style scoped>\n",
       "    .dataframe tbody tr th:only-of-type {\n",
       "        vertical-align: middle;\n",
       "    }\n",
       "\n",
       "    .dataframe tbody tr th {\n",
       "        vertical-align: top;\n",
       "    }\n",
       "\n",
       "    .dataframe thead th {\n",
       "        text-align: right;\n",
       "    }\n",
       "</style>\n",
       "<table border=\"1\" class=\"dataframe\">\n",
       "  <thead>\n",
       "    <tr style=\"text-align: right;\">\n",
       "      <th></th>\n",
       "      <th>station</th>\n",
       "      <th>station_name</th>\n",
       "      <th>date</th>\n",
       "      <th>temp</th>\n",
       "      <th>dtr</th>\n",
       "      <th>precip-total</th>\n",
       "      <th>snow-totals</th>\n",
       "    </tr>\n",
       "  </thead>\n",
       "  <tbody>\n",
       "    <tr>\n",
       "      <th>0</th>\n",
       "      <td>USW00054704</td>\n",
       "      <td>NORWOOD MEMORIAL AIRPORT, MA US</td>\n",
       "      <td>1</td>\n",
       "      <td>25.9</td>\n",
       "      <td>19.7</td>\n",
       "      <td>3.43</td>\n",
       "      <td>NaN</td>\n",
       "    </tr>\n",
       "    <tr>\n",
       "      <th>1</th>\n",
       "      <td>USW00054704</td>\n",
       "      <td>NORWOOD MEMORIAL AIRPORT, MA US</td>\n",
       "      <td>2</td>\n",
       "      <td>28.9</td>\n",
       "      <td>21.0</td>\n",
       "      <td>3.25</td>\n",
       "      <td>NaN</td>\n",
       "    </tr>\n",
       "    <tr>\n",
       "      <th>2</th>\n",
       "      <td>USW00054704</td>\n",
       "      <td>NORWOOD MEMORIAL AIRPORT, MA US</td>\n",
       "      <td>3</td>\n",
       "      <td>36.4</td>\n",
       "      <td>21.5</td>\n",
       "      <td>4.45</td>\n",
       "      <td>NaN</td>\n",
       "    </tr>\n",
       "    <tr>\n",
       "      <th>3</th>\n",
       "      <td>USW00054704</td>\n",
       "      <td>NORWOOD MEMORIAL AIRPORT, MA US</td>\n",
       "      <td>4</td>\n",
       "      <td>46.8</td>\n",
       "      <td>22.7</td>\n",
       "      <td>4.19</td>\n",
       "      <td>NaN</td>\n",
       "    </tr>\n",
       "    <tr>\n",
       "      <th>4</th>\n",
       "      <td>USW00054704</td>\n",
       "      <td>NORWOOD MEMORIAL AIRPORT, MA US</td>\n",
       "      <td>5</td>\n",
       "      <td>56.4</td>\n",
       "      <td>24.9</td>\n",
       "      <td>3.68</td>\n",
       "      <td>NaN</td>\n",
       "    </tr>\n",
       "    <tr>\n",
       "      <th>...</th>\n",
       "      <td>...</td>\n",
       "      <td>...</td>\n",
       "      <td>...</td>\n",
       "      <td>...</td>\n",
       "      <td>...</td>\n",
       "      <td>...</td>\n",
       "      <td>...</td>\n",
       "    </tr>\n",
       "    <tr>\n",
       "      <th>295</th>\n",
       "      <td>USC00195984</td>\n",
       "      <td>NORTON, MA US</td>\n",
       "      <td>8</td>\n",
       "      <td>69.9</td>\n",
       "      <td>23.1</td>\n",
       "      <td>4.04</td>\n",
       "      <td>0.0</td>\n",
       "    </tr>\n",
       "    <tr>\n",
       "      <th>296</th>\n",
       "      <td>USC00195984</td>\n",
       "      <td>NORTON, MA US</td>\n",
       "      <td>9</td>\n",
       "      <td>61.8</td>\n",
       "      <td>23.9</td>\n",
       "      <td>3.99</td>\n",
       "      <td>0.0</td>\n",
       "    </tr>\n",
       "    <tr>\n",
       "      <th>297</th>\n",
       "      <td>USC00195984</td>\n",
       "      <td>NORTON, MA US</td>\n",
       "      <td>10</td>\n",
       "      <td>50.6</td>\n",
       "      <td>22.8</td>\n",
       "      <td>4.39</td>\n",
       "      <td>-7777.0</td>\n",
       "    </tr>\n",
       "    <tr>\n",
       "      <th>298</th>\n",
       "      <td>USC00195984</td>\n",
       "      <td>NORTON, MA US</td>\n",
       "      <td>11</td>\n",
       "      <td>42.0</td>\n",
       "      <td>20.8</td>\n",
       "      <td>4.79</td>\n",
       "      <td>1.5</td>\n",
       "    </tr>\n",
       "    <tr>\n",
       "      <th>299</th>\n",
       "      <td>USC00195984</td>\n",
       "      <td>NORTON, MA US</td>\n",
       "      <td>12</td>\n",
       "      <td>31.8</td>\n",
       "      <td>20.0</td>\n",
       "      <td>4.74</td>\n",
       "      <td>9.7</td>\n",
       "    </tr>\n",
       "  </tbody>\n",
       "</table>\n",
       "<p>300 rows × 7 columns</p>\n",
       "</div>"
      ],
      "text/plain": [
       "         station                     station_name  date  temp   dtr  \\\n",
       "0    USW00054704  NORWOOD MEMORIAL AIRPORT, MA US     1  25.9  19.7   \n",
       "1    USW00054704  NORWOOD MEMORIAL AIRPORT, MA US     2  28.9  21.0   \n",
       "2    USW00054704  NORWOOD MEMORIAL AIRPORT, MA US     3  36.4  21.5   \n",
       "3    USW00054704  NORWOOD MEMORIAL AIRPORT, MA US     4  46.8  22.7   \n",
       "4    USW00054704  NORWOOD MEMORIAL AIRPORT, MA US     5  56.4  24.9   \n",
       "..           ...                              ...   ...   ...   ...   \n",
       "295  USC00195984                    NORTON, MA US     8  69.9  23.1   \n",
       "296  USC00195984                    NORTON, MA US     9  61.8  23.9   \n",
       "297  USC00195984                    NORTON, MA US    10  50.6  22.8   \n",
       "298  USC00195984                    NORTON, MA US    11  42.0  20.8   \n",
       "299  USC00195984                    NORTON, MA US    12  31.8  20.0   \n",
       "\n",
       "     precip-total  snow-totals  \n",
       "0            3.43          NaN  \n",
       "1            3.25          NaN  \n",
       "2            4.45          NaN  \n",
       "3            4.19          NaN  \n",
       "4            3.68          NaN  \n",
       "..            ...          ...  \n",
       "295          4.04          0.0  \n",
       "296          3.99          0.0  \n",
       "297          4.39      -7777.0  \n",
       "298          4.79          1.5  \n",
       "299          4.74          9.7  \n",
       "\n",
       "[300 rows x 7 columns]"
      ]
     },
     "execution_count": 89,
     "metadata": {},
     "output_type": "execute_result"
    }
   ],
   "source": [
    "df.rename(columns={'diurnal_temp_range': 'dtr', 'name':'station_name'})"
   ]
  },
  {
   "cell_type": "markdown",
   "metadata": {},
   "source": [
    "We can also re-assign row names by saying `index` instead of `columns`. This is more rare, however."
   ]
  },
  {
   "cell_type": "code",
   "execution_count": 94,
   "metadata": {},
   "outputs": [
    {
     "data": {
      "text/html": [
       "<div>\n",
       "<style scoped>\n",
       "    .dataframe tbody tr th:only-of-type {\n",
       "        vertical-align: middle;\n",
       "    }\n",
       "\n",
       "    .dataframe tbody tr th {\n",
       "        vertical-align: top;\n",
       "    }\n",
       "\n",
       "    .dataframe thead th {\n",
       "        text-align: right;\n",
       "    }\n",
       "</style>\n",
       "<table border=\"1\" class=\"dataframe\">\n",
       "  <thead>\n",
       "    <tr style=\"text-align: right;\">\n",
       "      <th></th>\n",
       "      <th>station</th>\n",
       "      <th>name</th>\n",
       "      <th>date</th>\n",
       "      <th>temp</th>\n",
       "      <th>diurnal_temp_range</th>\n",
       "      <th>precip-total</th>\n",
       "      <th>snow-totals</th>\n",
       "    </tr>\n",
       "  </thead>\n",
       "  <tbody>\n",
       "    <tr>\n",
       "      <th>first</th>\n",
       "      <td>USW00054704</td>\n",
       "      <td>NORWOOD MEMORIAL AIRPORT, MA US</td>\n",
       "      <td>1</td>\n",
       "      <td>25.9</td>\n",
       "      <td>19.7</td>\n",
       "      <td>3.43</td>\n",
       "      <td>NaN</td>\n",
       "    </tr>\n",
       "    <tr>\n",
       "      <th>second</th>\n",
       "      <td>USW00054704</td>\n",
       "      <td>NORWOOD MEMORIAL AIRPORT, MA US</td>\n",
       "      <td>2</td>\n",
       "      <td>28.9</td>\n",
       "      <td>21.0</td>\n",
       "      <td>3.25</td>\n",
       "      <td>NaN</td>\n",
       "    </tr>\n",
       "    <tr>\n",
       "      <th>2</th>\n",
       "      <td>USW00054704</td>\n",
       "      <td>NORWOOD MEMORIAL AIRPORT, MA US</td>\n",
       "      <td>3</td>\n",
       "      <td>36.4</td>\n",
       "      <td>21.5</td>\n",
       "      <td>4.45</td>\n",
       "      <td>NaN</td>\n",
       "    </tr>\n",
       "    <tr>\n",
       "      <th>3</th>\n",
       "      <td>USW00054704</td>\n",
       "      <td>NORWOOD MEMORIAL AIRPORT, MA US</td>\n",
       "      <td>4</td>\n",
       "      <td>46.8</td>\n",
       "      <td>22.7</td>\n",
       "      <td>4.19</td>\n",
       "      <td>NaN</td>\n",
       "    </tr>\n",
       "    <tr>\n",
       "      <th>4</th>\n",
       "      <td>USW00054704</td>\n",
       "      <td>NORWOOD MEMORIAL AIRPORT, MA US</td>\n",
       "      <td>5</td>\n",
       "      <td>56.4</td>\n",
       "      <td>24.9</td>\n",
       "      <td>3.68</td>\n",
       "      <td>NaN</td>\n",
       "    </tr>\n",
       "    <tr>\n",
       "      <th>...</th>\n",
       "      <td>...</td>\n",
       "      <td>...</td>\n",
       "      <td>...</td>\n",
       "      <td>...</td>\n",
       "      <td>...</td>\n",
       "      <td>...</td>\n",
       "      <td>...</td>\n",
       "    </tr>\n",
       "    <tr>\n",
       "      <th>295</th>\n",
       "      <td>USC00195984</td>\n",
       "      <td>NORTON, MA US</td>\n",
       "      <td>8</td>\n",
       "      <td>69.9</td>\n",
       "      <td>23.1</td>\n",
       "      <td>4.04</td>\n",
       "      <td>0.0</td>\n",
       "    </tr>\n",
       "    <tr>\n",
       "      <th>296</th>\n",
       "      <td>USC00195984</td>\n",
       "      <td>NORTON, MA US</td>\n",
       "      <td>9</td>\n",
       "      <td>61.8</td>\n",
       "      <td>23.9</td>\n",
       "      <td>3.99</td>\n",
       "      <td>0.0</td>\n",
       "    </tr>\n",
       "    <tr>\n",
       "      <th>297</th>\n",
       "      <td>USC00195984</td>\n",
       "      <td>NORTON, MA US</td>\n",
       "      <td>10</td>\n",
       "      <td>50.6</td>\n",
       "      <td>22.8</td>\n",
       "      <td>4.39</td>\n",
       "      <td>-7777.0</td>\n",
       "    </tr>\n",
       "    <tr>\n",
       "      <th>298</th>\n",
       "      <td>USC00195984</td>\n",
       "      <td>NORTON, MA US</td>\n",
       "      <td>11</td>\n",
       "      <td>42.0</td>\n",
       "      <td>20.8</td>\n",
       "      <td>4.79</td>\n",
       "      <td>1.5</td>\n",
       "    </tr>\n",
       "    <tr>\n",
       "      <th>299</th>\n",
       "      <td>USC00195984</td>\n",
       "      <td>NORTON, MA US</td>\n",
       "      <td>12</td>\n",
       "      <td>31.8</td>\n",
       "      <td>20.0</td>\n",
       "      <td>4.74</td>\n",
       "      <td>9.7</td>\n",
       "    </tr>\n",
       "  </tbody>\n",
       "</table>\n",
       "<p>300 rows × 7 columns</p>\n",
       "</div>"
      ],
      "text/plain": [
       "            station                             name  date  temp  \\\n",
       "first   USW00054704  NORWOOD MEMORIAL AIRPORT, MA US     1  25.9   \n",
       "second  USW00054704  NORWOOD MEMORIAL AIRPORT, MA US     2  28.9   \n",
       "2       USW00054704  NORWOOD MEMORIAL AIRPORT, MA US     3  36.4   \n",
       "3       USW00054704  NORWOOD MEMORIAL AIRPORT, MA US     4  46.8   \n",
       "4       USW00054704  NORWOOD MEMORIAL AIRPORT, MA US     5  56.4   \n",
       "...             ...                              ...   ...   ...   \n",
       "295     USC00195984                    NORTON, MA US     8  69.9   \n",
       "296     USC00195984                    NORTON, MA US     9  61.8   \n",
       "297     USC00195984                    NORTON, MA US    10  50.6   \n",
       "298     USC00195984                    NORTON, MA US    11  42.0   \n",
       "299     USC00195984                    NORTON, MA US    12  31.8   \n",
       "\n",
       "        diurnal_temp_range  precip-total  snow-totals  \n",
       "first                 19.7          3.43          NaN  \n",
       "second                21.0          3.25          NaN  \n",
       "2                     21.5          4.45          NaN  \n",
       "3                     22.7          4.19          NaN  \n",
       "4                     24.9          3.68          NaN  \n",
       "...                    ...           ...          ...  \n",
       "295                   23.1          4.04          0.0  \n",
       "296                   23.9          3.99          0.0  \n",
       "297                   22.8          4.39      -7777.0  \n",
       "298                   20.8          4.79          1.5  \n",
       "299                   20.0          4.74          9.7  \n",
       "\n",
       "[300 rows x 7 columns]"
      ]
     },
     "execution_count": 94,
     "metadata": {},
     "output_type": "execute_result"
    }
   ],
   "source": [
    "df.rename(index={0: 'first', 1:'second'})"
   ]
  },
  {
   "cell_type": "markdown",
   "metadata": {},
   "source": [
    "### Question \n",
    "\n",
    "Using the gapminder data frame, print out the column names. Rename the `age5_surviving` and `babies_per_woman` columns to be shorter."
   ]
  },
  {
   "cell_type": "code",
   "execution_count": null,
   "metadata": {},
   "outputs": [],
   "source": [
    "# your code here: "
   ]
  },
  {
   "cell_type": "markdown",
   "metadata": {},
   "source": [
    "### Categorical variables\n",
    "Next, let's summarize the categorical, non-numerical variables. For instance, we can identify how many unique regions we have in the data set.\n",
    "\n",
    "First, to select a column, we use the notation `df['COLUMN_NAME']`."
   ]
  },
  {
   "cell_type": "code",
   "execution_count": 14,
   "metadata": {},
   "outputs": [
    {
     "data": {
      "text/plain": [
       "0      NORWOOD MEMORIAL AIRPORT, MA US\n",
       "1      NORWOOD MEMORIAL AIRPORT, MA US\n",
       "2      NORWOOD MEMORIAL AIRPORT, MA US\n",
       "3      NORWOOD MEMORIAL AIRPORT, MA US\n",
       "4      NORWOOD MEMORIAL AIRPORT, MA US\n",
       "                    ...               \n",
       "295                      NORTON, MA US\n",
       "296                      NORTON, MA US\n",
       "297                      NORTON, MA US\n",
       "298                      NORTON, MA US\n",
       "299                      NORTON, MA US\n",
       "Name: name, Length: 300, dtype: object"
      ]
     },
     "execution_count": 14,
     "metadata": {},
     "output_type": "execute_result"
    }
   ],
   "source": [
    "df['name']"
   ]
  },
  {
   "cell_type": "markdown",
   "metadata": {},
   "source": [
    "Depending on your column name, you can also refer to the column with `df.column_name` as well."
   ]
  },
  {
   "cell_type": "code",
   "execution_count": 84,
   "metadata": {},
   "outputs": [
    {
     "data": {
      "text/plain": [
       "0      19.7\n",
       "1      21.0\n",
       "2      21.5\n",
       "3      22.7\n",
       "4      24.9\n",
       "       ... \n",
       "295    23.1\n",
       "296    23.9\n",
       "297    22.8\n",
       "298    20.8\n",
       "299    20.0\n",
       "Name: diurnal_temp_range, Length: 300, dtype: float64"
      ]
     },
     "execution_count": 84,
     "metadata": {},
     "output_type": "execute_result"
    }
   ],
   "source": [
    "df.diurnal_temp_range"
   ]
  },
  {
   "cell_type": "markdown",
   "metadata": {},
   "source": [
    "To identify unique entries in this column, we can use the `pd.unique()` function. "
   ]
  },
  {
   "cell_type": "code",
   "execution_count": 16,
   "metadata": {},
   "outputs": [
    {
     "data": {
      "text/plain": [
       "array(['NORWOOD MEMORIAL AIRPORT, MA US', 'NATICK, MA US',\n",
       "       'MAYNARD, MA US', 'READING, MA US', 'BLUE HILL LCD, MA US',\n",
       "       'JAMAICA PLAIN, MA US', 'LAWRENCE, MA US',\n",
       "       'SOUTH WEYMOUTH NAS, MA US', 'MARBLEHEAD, MA US',\n",
       "       'MIDDLETON, MA US', 'BRIDGEWATER, MA US', 'GROVELAND, MA US',\n",
       "       'MILFORD, MA US', 'BROCKTON, MA US',\n",
       "       'BEVERLY MUNICIPAL AIRPORT, MA US', 'FRANKLIN, MA US',\n",
       "       'HINGHAM, MA US', 'HAVERHILL, MA US', 'BOSTON, MA US',\n",
       "       'BEDFORD HANSCOM FIELD, MA US', 'BEVERLY, MA US', 'LOWELL, MA US',\n",
       "       'WALPOLE 2, MA US', 'LAWRENCE MUNICIPAL AIRPORT, MA US',\n",
       "       'NORTON, MA US'], dtype=object)"
      ]
     },
     "execution_count": 16,
     "metadata": {},
     "output_type": "execute_result"
    }
   ],
   "source": [
    "pd.unique( df['name'] )"
   ]
  },
  {
   "cell_type": "markdown",
   "metadata": {},
   "source": [
    "We can also just use the `len()` function to see how many unique values we have."
   ]
  },
  {
   "cell_type": "code",
   "execution_count": 18,
   "metadata": {},
   "outputs": [
    {
     "data": {
      "text/plain": [
       "25"
      ]
     },
     "execution_count": 18,
     "metadata": {},
     "output_type": "execute_result"
    }
   ],
   "source": [
    "len( pd.unique( df['name'] ) ) # this is called nesting functions -> calling functions within other functions"
   ]
  },
  {
   "cell_type": "markdown",
   "metadata": {},
   "source": [
    "### Numerical variables"
   ]
  },
  {
   "cell_type": "markdown",
   "metadata": {},
   "source": [
    "Numerical columns can be summarized in several ways. Let's find the mean first.\n",
    "\n",
    "To make things simpler, we'll just do calculations on the `population`, `life_expectancy`, and `babies_per_woman` columns. We can put those names in a `list` and then specify that list for the columns."
   ]
  },
  {
   "cell_type": "code",
   "execution_count": 19,
   "metadata": {},
   "outputs": [
    {
     "data": {
      "text/html": [
       "<div>\n",
       "<style scoped>\n",
       "    .dataframe tbody tr th:only-of-type {\n",
       "        vertical-align: middle;\n",
       "    }\n",
       "\n",
       "    .dataframe tbody tr th {\n",
       "        vertical-align: top;\n",
       "    }\n",
       "\n",
       "    .dataframe thead th {\n",
       "        text-align: right;\n",
       "    }\n",
       "</style>\n",
       "<table border=\"1\" class=\"dataframe\">\n",
       "  <thead>\n",
       "    <tr style=\"text-align: right;\">\n",
       "      <th></th>\n",
       "      <th>date</th>\n",
       "      <th>temp</th>\n",
       "      <th>diurnal_temp_range</th>\n",
       "      <th>precip-total</th>\n",
       "      <th>snow-totals</th>\n",
       "    </tr>\n",
       "  </thead>\n",
       "  <tbody>\n",
       "    <tr>\n",
       "      <th>0</th>\n",
       "      <td>1</td>\n",
       "      <td>25.9</td>\n",
       "      <td>19.7</td>\n",
       "      <td>3.43</td>\n",
       "      <td>NaN</td>\n",
       "    </tr>\n",
       "    <tr>\n",
       "      <th>1</th>\n",
       "      <td>2</td>\n",
       "      <td>28.9</td>\n",
       "      <td>21.0</td>\n",
       "      <td>3.25</td>\n",
       "      <td>NaN</td>\n",
       "    </tr>\n",
       "    <tr>\n",
       "      <th>2</th>\n",
       "      <td>3</td>\n",
       "      <td>36.4</td>\n",
       "      <td>21.5</td>\n",
       "      <td>4.45</td>\n",
       "      <td>NaN</td>\n",
       "    </tr>\n",
       "    <tr>\n",
       "      <th>3</th>\n",
       "      <td>4</td>\n",
       "      <td>46.8</td>\n",
       "      <td>22.7</td>\n",
       "      <td>4.19</td>\n",
       "      <td>NaN</td>\n",
       "    </tr>\n",
       "    <tr>\n",
       "      <th>4</th>\n",
       "      <td>5</td>\n",
       "      <td>56.4</td>\n",
       "      <td>24.9</td>\n",
       "      <td>3.68</td>\n",
       "      <td>NaN</td>\n",
       "    </tr>\n",
       "    <tr>\n",
       "      <th>...</th>\n",
       "      <td>...</td>\n",
       "      <td>...</td>\n",
       "      <td>...</td>\n",
       "      <td>...</td>\n",
       "      <td>...</td>\n",
       "    </tr>\n",
       "    <tr>\n",
       "      <th>295</th>\n",
       "      <td>8</td>\n",
       "      <td>69.9</td>\n",
       "      <td>23.1</td>\n",
       "      <td>4.04</td>\n",
       "      <td>0.0</td>\n",
       "    </tr>\n",
       "    <tr>\n",
       "      <th>296</th>\n",
       "      <td>9</td>\n",
       "      <td>61.8</td>\n",
       "      <td>23.9</td>\n",
       "      <td>3.99</td>\n",
       "      <td>0.0</td>\n",
       "    </tr>\n",
       "    <tr>\n",
       "      <th>297</th>\n",
       "      <td>10</td>\n",
       "      <td>50.6</td>\n",
       "      <td>22.8</td>\n",
       "      <td>4.39</td>\n",
       "      <td>-7777.0</td>\n",
       "    </tr>\n",
       "    <tr>\n",
       "      <th>298</th>\n",
       "      <td>11</td>\n",
       "      <td>42.0</td>\n",
       "      <td>20.8</td>\n",
       "      <td>4.79</td>\n",
       "      <td>1.5</td>\n",
       "    </tr>\n",
       "    <tr>\n",
       "      <th>299</th>\n",
       "      <td>12</td>\n",
       "      <td>31.8</td>\n",
       "      <td>20.0</td>\n",
       "      <td>4.74</td>\n",
       "      <td>9.7</td>\n",
       "    </tr>\n",
       "  </tbody>\n",
       "</table>\n",
       "<p>300 rows × 5 columns</p>\n",
       "</div>"
      ],
      "text/plain": [
       "     date  temp  diurnal_temp_range  precip-total  snow-totals\n",
       "0       1  25.9                19.7          3.43          NaN\n",
       "1       2  28.9                21.0          3.25          NaN\n",
       "2       3  36.4                21.5          4.45          NaN\n",
       "3       4  46.8                22.7          4.19          NaN\n",
       "4       5  56.4                24.9          3.68          NaN\n",
       "..    ...   ...                 ...           ...          ...\n",
       "295     8  69.9                23.1          4.04          0.0\n",
       "296     9  61.8                23.9          3.99          0.0\n",
       "297    10  50.6                22.8          4.39      -7777.0\n",
       "298    11  42.0                20.8          4.79          1.5\n",
       "299    12  31.8                20.0          4.74          9.7\n",
       "\n",
       "[300 rows x 5 columns]"
      ]
     },
     "execution_count": 19,
     "metadata": {},
     "output_type": "execute_result"
    }
   ],
   "source": [
    "num_cols = [ 'date', 'temp', 'diurnal_temp_range', 'precip-total','snow-totals' ] # numerical columns\n",
    "\n",
    "df[num_cols]"
   ]
  },
  {
   "cell_type": "code",
   "execution_count": 41,
   "metadata": {},
   "outputs": [
    {
     "data": {
      "text/plain": [
       "station                object\n",
       "name                   object\n",
       "date                    int64\n",
       "temp                  float64\n",
       "diurnal_temp_range    float64\n",
       "precip-total          float64\n",
       "snow-totals           float64\n",
       "temp_C                float64\n",
       "dtype: object"
      ]
     },
     "execution_count": 41,
     "metadata": {},
     "output_type": "execute_result"
    }
   ],
   "source": [
    "df.dtypes"
   ]
  },
  {
   "cell_type": "code",
   "execution_count": 42,
   "metadata": {},
   "outputs": [
    {
     "data": {
      "text/html": [
       "<div>\n",
       "<style scoped>\n",
       "    .dataframe tbody tr th:only-of-type {\n",
       "        vertical-align: middle;\n",
       "    }\n",
       "\n",
       "    .dataframe tbody tr th {\n",
       "        vertical-align: top;\n",
       "    }\n",
       "\n",
       "    .dataframe thead th {\n",
       "        text-align: right;\n",
       "    }\n",
       "</style>\n",
       "<table border=\"1\" class=\"dataframe\">\n",
       "  <thead>\n",
       "    <tr style=\"text-align: right;\">\n",
       "      <th></th>\n",
       "      <th>date</th>\n",
       "      <th>temp</th>\n",
       "      <th>diurnal_temp_range</th>\n",
       "      <th>precip-total</th>\n",
       "      <th>snow-totals</th>\n",
       "      <th>temp_C</th>\n",
       "    </tr>\n",
       "  </thead>\n",
       "  <tbody>\n",
       "    <tr>\n",
       "      <th>0</th>\n",
       "      <td>1</td>\n",
       "      <td>25.9</td>\n",
       "      <td>19.7</td>\n",
       "      <td>3.43</td>\n",
       "      <td>NaN</td>\n",
       "      <td>-3.388889</td>\n",
       "    </tr>\n",
       "    <tr>\n",
       "      <th>1</th>\n",
       "      <td>2</td>\n",
       "      <td>28.9</td>\n",
       "      <td>21.0</td>\n",
       "      <td>3.25</td>\n",
       "      <td>NaN</td>\n",
       "      <td>-1.722222</td>\n",
       "    </tr>\n",
       "    <tr>\n",
       "      <th>2</th>\n",
       "      <td>3</td>\n",
       "      <td>36.4</td>\n",
       "      <td>21.5</td>\n",
       "      <td>4.45</td>\n",
       "      <td>NaN</td>\n",
       "      <td>2.444444</td>\n",
       "    </tr>\n",
       "    <tr>\n",
       "      <th>3</th>\n",
       "      <td>4</td>\n",
       "      <td>46.8</td>\n",
       "      <td>22.7</td>\n",
       "      <td>4.19</td>\n",
       "      <td>NaN</td>\n",
       "      <td>8.222222</td>\n",
       "    </tr>\n",
       "    <tr>\n",
       "      <th>4</th>\n",
       "      <td>5</td>\n",
       "      <td>56.4</td>\n",
       "      <td>24.9</td>\n",
       "      <td>3.68</td>\n",
       "      <td>NaN</td>\n",
       "      <td>13.555556</td>\n",
       "    </tr>\n",
       "    <tr>\n",
       "      <th>...</th>\n",
       "      <td>...</td>\n",
       "      <td>...</td>\n",
       "      <td>...</td>\n",
       "      <td>...</td>\n",
       "      <td>...</td>\n",
       "      <td>...</td>\n",
       "    </tr>\n",
       "    <tr>\n",
       "      <th>295</th>\n",
       "      <td>8</td>\n",
       "      <td>69.9</td>\n",
       "      <td>23.1</td>\n",
       "      <td>4.04</td>\n",
       "      <td>0.0</td>\n",
       "      <td>21.055556</td>\n",
       "    </tr>\n",
       "    <tr>\n",
       "      <th>296</th>\n",
       "      <td>9</td>\n",
       "      <td>61.8</td>\n",
       "      <td>23.9</td>\n",
       "      <td>3.99</td>\n",
       "      <td>0.0</td>\n",
       "      <td>16.555556</td>\n",
       "    </tr>\n",
       "    <tr>\n",
       "      <th>297</th>\n",
       "      <td>10</td>\n",
       "      <td>50.6</td>\n",
       "      <td>22.8</td>\n",
       "      <td>4.39</td>\n",
       "      <td>-7777.0</td>\n",
       "      <td>10.333333</td>\n",
       "    </tr>\n",
       "    <tr>\n",
       "      <th>298</th>\n",
       "      <td>11</td>\n",
       "      <td>42.0</td>\n",
       "      <td>20.8</td>\n",
       "      <td>4.79</td>\n",
       "      <td>1.5</td>\n",
       "      <td>5.555556</td>\n",
       "    </tr>\n",
       "    <tr>\n",
       "      <th>299</th>\n",
       "      <td>12</td>\n",
       "      <td>31.8</td>\n",
       "      <td>20.0</td>\n",
       "      <td>4.74</td>\n",
       "      <td>9.7</td>\n",
       "      <td>-0.111111</td>\n",
       "    </tr>\n",
       "  </tbody>\n",
       "</table>\n",
       "<p>300 rows × 6 columns</p>\n",
       "</div>"
      ],
      "text/plain": [
       "     date  temp  diurnal_temp_range  precip-total  snow-totals     temp_C\n",
       "0       1  25.9                19.7          3.43          NaN  -3.388889\n",
       "1       2  28.9                21.0          3.25          NaN  -1.722222\n",
       "2       3  36.4                21.5          4.45          NaN   2.444444\n",
       "3       4  46.8                22.7          4.19          NaN   8.222222\n",
       "4       5  56.4                24.9          3.68          NaN  13.555556\n",
       "..    ...   ...                 ...           ...          ...        ...\n",
       "295     8  69.9                23.1          4.04          0.0  21.055556\n",
       "296     9  61.8                23.9          3.99          0.0  16.555556\n",
       "297    10  50.6                22.8          4.39      -7777.0  10.333333\n",
       "298    11  42.0                20.8          4.79          1.5   5.555556\n",
       "299    12  31.8                20.0          4.74          9.7  -0.111111\n",
       "\n",
       "[300 rows x 6 columns]"
      ]
     },
     "execution_count": 42,
     "metadata": {},
     "output_type": "execute_result"
    }
   ],
   "source": [
    "df.select_dtypes(include=['int64', 'float64'])"
   ]
  },
  {
   "cell_type": "code",
   "execution_count": 43,
   "metadata": {},
   "outputs": [
    {
     "data": {
      "text/html": [
       "<div>\n",
       "<style scoped>\n",
       "    .dataframe tbody tr th:only-of-type {\n",
       "        vertical-align: middle;\n",
       "    }\n",
       "\n",
       "    .dataframe tbody tr th {\n",
       "        vertical-align: top;\n",
       "    }\n",
       "\n",
       "    .dataframe thead th {\n",
       "        text-align: right;\n",
       "    }\n",
       "</style>\n",
       "<table border=\"1\" class=\"dataframe\">\n",
       "  <thead>\n",
       "    <tr style=\"text-align: right;\">\n",
       "      <th></th>\n",
       "      <th>date</th>\n",
       "      <th>temp</th>\n",
       "      <th>diurnal_temp_range</th>\n",
       "      <th>precip-total</th>\n",
       "      <th>snow-totals</th>\n",
       "      <th>temp_C</th>\n",
       "    </tr>\n",
       "  </thead>\n",
       "  <tbody>\n",
       "    <tr>\n",
       "      <th>0</th>\n",
       "      <td>1</td>\n",
       "      <td>25.9</td>\n",
       "      <td>19.7</td>\n",
       "      <td>3.43</td>\n",
       "      <td>NaN</td>\n",
       "      <td>-3.388889</td>\n",
       "    </tr>\n",
       "    <tr>\n",
       "      <th>1</th>\n",
       "      <td>2</td>\n",
       "      <td>28.9</td>\n",
       "      <td>21.0</td>\n",
       "      <td>3.25</td>\n",
       "      <td>NaN</td>\n",
       "      <td>-1.722222</td>\n",
       "    </tr>\n",
       "    <tr>\n",
       "      <th>2</th>\n",
       "      <td>3</td>\n",
       "      <td>36.4</td>\n",
       "      <td>21.5</td>\n",
       "      <td>4.45</td>\n",
       "      <td>NaN</td>\n",
       "      <td>2.444444</td>\n",
       "    </tr>\n",
       "    <tr>\n",
       "      <th>3</th>\n",
       "      <td>4</td>\n",
       "      <td>46.8</td>\n",
       "      <td>22.7</td>\n",
       "      <td>4.19</td>\n",
       "      <td>NaN</td>\n",
       "      <td>8.222222</td>\n",
       "    </tr>\n",
       "    <tr>\n",
       "      <th>4</th>\n",
       "      <td>5</td>\n",
       "      <td>56.4</td>\n",
       "      <td>24.9</td>\n",
       "      <td>3.68</td>\n",
       "      <td>NaN</td>\n",
       "      <td>13.555556</td>\n",
       "    </tr>\n",
       "    <tr>\n",
       "      <th>...</th>\n",
       "      <td>...</td>\n",
       "      <td>...</td>\n",
       "      <td>...</td>\n",
       "      <td>...</td>\n",
       "      <td>...</td>\n",
       "      <td>...</td>\n",
       "    </tr>\n",
       "    <tr>\n",
       "      <th>295</th>\n",
       "      <td>8</td>\n",
       "      <td>69.9</td>\n",
       "      <td>23.1</td>\n",
       "      <td>4.04</td>\n",
       "      <td>0.0</td>\n",
       "      <td>21.055556</td>\n",
       "    </tr>\n",
       "    <tr>\n",
       "      <th>296</th>\n",
       "      <td>9</td>\n",
       "      <td>61.8</td>\n",
       "      <td>23.9</td>\n",
       "      <td>3.99</td>\n",
       "      <td>0.0</td>\n",
       "      <td>16.555556</td>\n",
       "    </tr>\n",
       "    <tr>\n",
       "      <th>297</th>\n",
       "      <td>10</td>\n",
       "      <td>50.6</td>\n",
       "      <td>22.8</td>\n",
       "      <td>4.39</td>\n",
       "      <td>-7777.0</td>\n",
       "      <td>10.333333</td>\n",
       "    </tr>\n",
       "    <tr>\n",
       "      <th>298</th>\n",
       "      <td>11</td>\n",
       "      <td>42.0</td>\n",
       "      <td>20.8</td>\n",
       "      <td>4.79</td>\n",
       "      <td>1.5</td>\n",
       "      <td>5.555556</td>\n",
       "    </tr>\n",
       "    <tr>\n",
       "      <th>299</th>\n",
       "      <td>12</td>\n",
       "      <td>31.8</td>\n",
       "      <td>20.0</td>\n",
       "      <td>4.74</td>\n",
       "      <td>9.7</td>\n",
       "      <td>-0.111111</td>\n",
       "    </tr>\n",
       "  </tbody>\n",
       "</table>\n",
       "<p>300 rows × 6 columns</p>\n",
       "</div>"
      ],
      "text/plain": [
       "     date  temp  diurnal_temp_range  precip-total  snow-totals     temp_C\n",
       "0       1  25.9                19.7          3.43          NaN  -3.388889\n",
       "1       2  28.9                21.0          3.25          NaN  -1.722222\n",
       "2       3  36.4                21.5          4.45          NaN   2.444444\n",
       "3       4  46.8                22.7          4.19          NaN   8.222222\n",
       "4       5  56.4                24.9          3.68          NaN  13.555556\n",
       "..    ...   ...                 ...           ...          ...        ...\n",
       "295     8  69.9                23.1          4.04          0.0  21.055556\n",
       "296     9  61.8                23.9          3.99          0.0  16.555556\n",
       "297    10  50.6                22.8          4.39      -7777.0  10.333333\n",
       "298    11  42.0                20.8          4.79          1.5   5.555556\n",
       "299    12  31.8                20.0          4.74          9.7  -0.111111\n",
       "\n",
       "[300 rows x 6 columns]"
      ]
     },
     "execution_count": 43,
     "metadata": {},
     "output_type": "execute_result"
    }
   ],
   "source": [
    "df.select_dtypes(exclude=['object'])"
   ]
  },
  {
   "cell_type": "markdown",
   "metadata": {},
   "source": [
    "With this set of columns, we can run `.mean()` to find the mean of each column."
   ]
  },
  {
   "cell_type": "code",
   "execution_count": 20,
   "metadata": {},
   "outputs": [
    {
     "data": {
      "text/plain": [
       "date                    6.500000\n",
       "temp                   49.424638\n",
       "diurnal_temp_range     20.128986\n",
       "precip-total            4.068467\n",
       "snow-totals          -384.763333\n",
       "dtype: float64"
      ]
     },
     "execution_count": 20,
     "metadata": {},
     "output_type": "execute_result"
    }
   ],
   "source": [
    "df[num_cols].mean() # returns the mean of each column"
   ]
  },
  {
   "cell_type": "markdown",
   "metadata": {},
   "source": [
    "If we want a larger variety of summary statistics, we can use the `.describe()` method."
   ]
  },
  {
   "cell_type": "code",
   "execution_count": 21,
   "metadata": {},
   "outputs": [
    {
     "data": {
      "text/html": [
       "<div>\n",
       "<style scoped>\n",
       "    .dataframe tbody tr th:only-of-type {\n",
       "        vertical-align: middle;\n",
       "    }\n",
       "\n",
       "    .dataframe tbody tr th {\n",
       "        vertical-align: top;\n",
       "    }\n",
       "\n",
       "    .dataframe thead th {\n",
       "        text-align: right;\n",
       "    }\n",
       "</style>\n",
       "<table border=\"1\" class=\"dataframe\">\n",
       "  <thead>\n",
       "    <tr style=\"text-align: right;\">\n",
       "      <th></th>\n",
       "      <th>date</th>\n",
       "      <th>temp</th>\n",
       "      <th>diurnal_temp_range</th>\n",
       "      <th>precip-total</th>\n",
       "      <th>snow-totals</th>\n",
       "    </tr>\n",
       "  </thead>\n",
       "  <tbody>\n",
       "    <tr>\n",
       "      <th>count</th>\n",
       "      <td>300.00000</td>\n",
       "      <td>276.000000</td>\n",
       "      <td>276.000000</td>\n",
       "      <td>300.000000</td>\n",
       "      <td>180.000000</td>\n",
       "    </tr>\n",
       "    <tr>\n",
       "      <th>mean</th>\n",
       "      <td>6.50000</td>\n",
       "      <td>49.424638</td>\n",
       "      <td>20.128986</td>\n",
       "      <td>4.068467</td>\n",
       "      <td>-384.763333</td>\n",
       "    </tr>\n",
       "    <tr>\n",
       "      <th>std</th>\n",
       "      <td>3.45782</td>\n",
       "      <td>15.701830</td>\n",
       "      <td>2.597781</td>\n",
       "      <td>0.464102</td>\n",
       "      <td>1700.634258</td>\n",
       "    </tr>\n",
       "    <tr>\n",
       "      <th>min</th>\n",
       "      <td>1.00000</td>\n",
       "      <td>23.600000</td>\n",
       "      <td>13.000000</td>\n",
       "      <td>2.790000</td>\n",
       "      <td>-7777.000000</td>\n",
       "    </tr>\n",
       "    <tr>\n",
       "      <th>25%</th>\n",
       "      <td>3.75000</td>\n",
       "      <td>34.675000</td>\n",
       "      <td>18.275000</td>\n",
       "      <td>3.750000</td>\n",
       "      <td>0.000000</td>\n",
       "    </tr>\n",
       "    <tr>\n",
       "      <th>50%</th>\n",
       "      <td>6.50000</td>\n",
       "      <td>49.200000</td>\n",
       "      <td>20.200000</td>\n",
       "      <td>4.030000</td>\n",
       "      <td>0.600000</td>\n",
       "    </tr>\n",
       "    <tr>\n",
       "      <th>75%</th>\n",
       "      <td>9.25000</td>\n",
       "      <td>64.675000</td>\n",
       "      <td>21.825000</td>\n",
       "      <td>4.390000</td>\n",
       "      <td>9.200000</td>\n",
       "    </tr>\n",
       "    <tr>\n",
       "      <th>max</th>\n",
       "      <td>12.00000</td>\n",
       "      <td>74.300000</td>\n",
       "      <td>26.400000</td>\n",
       "      <td>5.580000</td>\n",
       "      <td>18.900000</td>\n",
       "    </tr>\n",
       "  </tbody>\n",
       "</table>\n",
       "</div>"
      ],
      "text/plain": [
       "            date        temp  diurnal_temp_range  precip-total  snow-totals\n",
       "count  300.00000  276.000000          276.000000    300.000000   180.000000\n",
       "mean     6.50000   49.424638           20.128986      4.068467  -384.763333\n",
       "std      3.45782   15.701830            2.597781      0.464102  1700.634258\n",
       "min      1.00000   23.600000           13.000000      2.790000 -7777.000000\n",
       "25%      3.75000   34.675000           18.275000      3.750000     0.000000\n",
       "50%      6.50000   49.200000           20.200000      4.030000     0.600000\n",
       "75%      9.25000   64.675000           21.825000      4.390000     9.200000\n",
       "max     12.00000   74.300000           26.400000      5.580000    18.900000"
      ]
     },
     "execution_count": 21,
     "metadata": {},
     "output_type": "execute_result"
    }
   ],
   "source": [
    "df[num_cols].describe()"
   ]
  },
  {
   "cell_type": "markdown",
   "metadata": {},
   "source": [
    "We can also break down subgroupings of our data with the method `.groupby()`."
   ]
  },
  {
   "cell_type": "code",
   "execution_count": 22,
   "metadata": {},
   "outputs": [
    {
     "data": {
      "text/html": [
       "<div>\n",
       "<style scoped>\n",
       "    .dataframe tbody tr th:only-of-type {\n",
       "        vertical-align: middle;\n",
       "    }\n",
       "\n",
       "    .dataframe tbody tr th {\n",
       "        vertical-align: top;\n",
       "    }\n",
       "\n",
       "    .dataframe thead th {\n",
       "        text-align: right;\n",
       "    }\n",
       "</style>\n",
       "<table border=\"1\" class=\"dataframe\">\n",
       "  <thead>\n",
       "    <tr style=\"text-align: right;\">\n",
       "      <th></th>\n",
       "      <th>count</th>\n",
       "      <th>mean</th>\n",
       "      <th>std</th>\n",
       "      <th>min</th>\n",
       "      <th>25%</th>\n",
       "      <th>50%</th>\n",
       "      <th>75%</th>\n",
       "      <th>max</th>\n",
       "    </tr>\n",
       "    <tr>\n",
       "      <th>name</th>\n",
       "      <th></th>\n",
       "      <th></th>\n",
       "      <th></th>\n",
       "      <th></th>\n",
       "      <th></th>\n",
       "      <th></th>\n",
       "      <th></th>\n",
       "      <th></th>\n",
       "    </tr>\n",
       "  </thead>\n",
       "  <tbody>\n",
       "    <tr>\n",
       "      <th>BEDFORD HANSCOM FIELD, MA US</th>\n",
       "      <td>12.0</td>\n",
       "      <td>49.875000</td>\n",
       "      <td>16.572273</td>\n",
       "      <td>26.1</td>\n",
       "      <td>36.200</td>\n",
       "      <td>49.70</td>\n",
       "      <td>63.625</td>\n",
       "      <td>72.9</td>\n",
       "    </tr>\n",
       "    <tr>\n",
       "      <th>BEVERLY MUNICIPAL AIRPORT, MA US</th>\n",
       "      <td>12.0</td>\n",
       "      <td>48.450000</td>\n",
       "      <td>15.964876</td>\n",
       "      <td>26.0</td>\n",
       "      <td>34.825</td>\n",
       "      <td>48.00</td>\n",
       "      <td>62.575</td>\n",
       "      <td>70.4</td>\n",
       "    </tr>\n",
       "    <tr>\n",
       "      <th>BEVERLY, MA US</th>\n",
       "      <td>12.0</td>\n",
       "      <td>47.641667</td>\n",
       "      <td>15.575882</td>\n",
       "      <td>26.2</td>\n",
       "      <td>34.350</td>\n",
       "      <td>47.15</td>\n",
       "      <td>61.125</td>\n",
       "      <td>69.1</td>\n",
       "    </tr>\n",
       "    <tr>\n",
       "      <th>BLUE HILL LCD, MA US</th>\n",
       "      <td>12.0</td>\n",
       "      <td>49.075000</td>\n",
       "      <td>16.792213</td>\n",
       "      <td>25.5</td>\n",
       "      <td>34.450</td>\n",
       "      <td>49.15</td>\n",
       "      <td>63.850</td>\n",
       "      <td>71.9</td>\n",
       "    </tr>\n",
       "    <tr>\n",
       "      <th>BOSTON, MA US</th>\n",
       "      <td>12.0</td>\n",
       "      <td>51.375000</td>\n",
       "      <td>15.970320</td>\n",
       "      <td>29.0</td>\n",
       "      <td>37.400</td>\n",
       "      <td>51.05</td>\n",
       "      <td>65.600</td>\n",
       "      <td>73.4</td>\n",
       "    </tr>\n",
       "    <tr>\n",
       "      <th>BRIDGEWATER, MA US</th>\n",
       "      <td>12.0</td>\n",
       "      <td>49.158333</td>\n",
       "      <td>15.903599</td>\n",
       "      <td>26.6</td>\n",
       "      <td>35.400</td>\n",
       "      <td>48.65</td>\n",
       "      <td>62.750</td>\n",
       "      <td>71.4</td>\n",
       "    </tr>\n",
       "    <tr>\n",
       "      <th>BROCKTON, MA US</th>\n",
       "      <td>12.0</td>\n",
       "      <td>49.091667</td>\n",
       "      <td>15.875679</td>\n",
       "      <td>27.0</td>\n",
       "      <td>35.550</td>\n",
       "      <td>48.55</td>\n",
       "      <td>62.800</td>\n",
       "      <td>71.1</td>\n",
       "    </tr>\n",
       "    <tr>\n",
       "      <th>FRANKLIN, MA US</th>\n",
       "      <td>0.0</td>\n",
       "      <td>NaN</td>\n",
       "      <td>NaN</td>\n",
       "      <td>NaN</td>\n",
       "      <td>NaN</td>\n",
       "      <td>NaN</td>\n",
       "      <td>NaN</td>\n",
       "      <td>NaN</td>\n",
       "    </tr>\n",
       "    <tr>\n",
       "      <th>GROVELAND, MA US</th>\n",
       "      <td>12.0</td>\n",
       "      <td>48.066667</td>\n",
       "      <td>16.596842</td>\n",
       "      <td>24.6</td>\n",
       "      <td>33.925</td>\n",
       "      <td>47.90</td>\n",
       "      <td>62.225</td>\n",
       "      <td>70.9</td>\n",
       "    </tr>\n",
       "    <tr>\n",
       "      <th>HAVERHILL, MA US</th>\n",
       "      <td>12.0</td>\n",
       "      <td>47.933333</td>\n",
       "      <td>16.924180</td>\n",
       "      <td>24.1</td>\n",
       "      <td>33.575</td>\n",
       "      <td>47.80</td>\n",
       "      <td>62.600</td>\n",
       "      <td>71.2</td>\n",
       "    </tr>\n",
       "    <tr>\n",
       "      <th>HINGHAM, MA US</th>\n",
       "      <td>12.0</td>\n",
       "      <td>50.591667</td>\n",
       "      <td>15.560934</td>\n",
       "      <td>28.8</td>\n",
       "      <td>37.025</td>\n",
       "      <td>50.25</td>\n",
       "      <td>64.100</td>\n",
       "      <td>72.2</td>\n",
       "    </tr>\n",
       "    <tr>\n",
       "      <th>JAMAICA PLAIN, MA US</th>\n",
       "      <td>12.0</td>\n",
       "      <td>50.375000</td>\n",
       "      <td>16.572602</td>\n",
       "      <td>26.9</td>\n",
       "      <td>36.275</td>\n",
       "      <td>49.95</td>\n",
       "      <td>64.900</td>\n",
       "      <td>73.1</td>\n",
       "    </tr>\n",
       "    <tr>\n",
       "      <th>LAWRENCE MUNICIPAL AIRPORT, MA US</th>\n",
       "      <td>12.0</td>\n",
       "      <td>49.075000</td>\n",
       "      <td>16.572163</td>\n",
       "      <td>25.2</td>\n",
       "      <td>34.975</td>\n",
       "      <td>49.05</td>\n",
       "      <td>63.150</td>\n",
       "      <td>71.8</td>\n",
       "    </tr>\n",
       "    <tr>\n",
       "      <th>LAWRENCE, MA US</th>\n",
       "      <td>12.0</td>\n",
       "      <td>50.158333</td>\n",
       "      <td>16.877013</td>\n",
       "      <td>26.0</td>\n",
       "      <td>35.925</td>\n",
       "      <td>50.15</td>\n",
       "      <td>64.825</td>\n",
       "      <td>72.9</td>\n",
       "    </tr>\n",
       "    <tr>\n",
       "      <th>LOWELL, MA US</th>\n",
       "      <td>12.0</td>\n",
       "      <td>48.375000</td>\n",
       "      <td>17.352292</td>\n",
       "      <td>23.6</td>\n",
       "      <td>33.450</td>\n",
       "      <td>48.20</td>\n",
       "      <td>63.275</td>\n",
       "      <td>72.1</td>\n",
       "    </tr>\n",
       "    <tr>\n",
       "      <th>MARBLEHEAD, MA US</th>\n",
       "      <td>12.0</td>\n",
       "      <td>49.891667</td>\n",
       "      <td>15.664694</td>\n",
       "      <td>27.9</td>\n",
       "      <td>35.950</td>\n",
       "      <td>49.60</td>\n",
       "      <td>63.925</td>\n",
       "      <td>71.3</td>\n",
       "    </tr>\n",
       "    <tr>\n",
       "      <th>MAYNARD, MA US</th>\n",
       "      <td>12.0</td>\n",
       "      <td>49.116667</td>\n",
       "      <td>17.089382</td>\n",
       "      <td>24.8</td>\n",
       "      <td>34.700</td>\n",
       "      <td>49.05</td>\n",
       "      <td>63.650</td>\n",
       "      <td>72.3</td>\n",
       "    </tr>\n",
       "    <tr>\n",
       "      <th>MIDDLETON, MA US</th>\n",
       "      <td>12.0</td>\n",
       "      <td>50.941667</td>\n",
       "      <td>16.239036</td>\n",
       "      <td>27.9</td>\n",
       "      <td>36.675</td>\n",
       "      <td>50.85</td>\n",
       "      <td>65.300</td>\n",
       "      <td>72.9</td>\n",
       "    </tr>\n",
       "    <tr>\n",
       "      <th>MILFORD, MA US</th>\n",
       "      <td>0.0</td>\n",
       "      <td>NaN</td>\n",
       "      <td>NaN</td>\n",
       "      <td>NaN</td>\n",
       "      <td>NaN</td>\n",
       "      <td>NaN</td>\n",
       "      <td>NaN</td>\n",
       "      <td>NaN</td>\n",
       "    </tr>\n",
       "    <tr>\n",
       "      <th>NATICK, MA US</th>\n",
       "      <td>12.0</td>\n",
       "      <td>48.600000</td>\n",
       "      <td>16.525407</td>\n",
       "      <td>25.2</td>\n",
       "      <td>34.575</td>\n",
       "      <td>48.25</td>\n",
       "      <td>62.725</td>\n",
       "      <td>71.3</td>\n",
       "    </tr>\n",
       "    <tr>\n",
       "      <th>NORTON, MA US</th>\n",
       "      <td>12.0</td>\n",
       "      <td>49.150000</td>\n",
       "      <td>16.189138</td>\n",
       "      <td>26.5</td>\n",
       "      <td>35.550</td>\n",
       "      <td>48.70</td>\n",
       "      <td>62.850</td>\n",
       "      <td>71.8</td>\n",
       "    </tr>\n",
       "    <tr>\n",
       "      <th>NORWOOD MEMORIAL AIRPORT, MA US</th>\n",
       "      <td>12.0</td>\n",
       "      <td>48.466667</td>\n",
       "      <td>16.009448</td>\n",
       "      <td>25.9</td>\n",
       "      <td>35.100</td>\n",
       "      <td>48.15</td>\n",
       "      <td>61.950</td>\n",
       "      <td>70.8</td>\n",
       "    </tr>\n",
       "    <tr>\n",
       "      <th>READING, MA US</th>\n",
       "      <td>12.0</td>\n",
       "      <td>49.183333</td>\n",
       "      <td>16.359475</td>\n",
       "      <td>26.0</td>\n",
       "      <td>35.250</td>\n",
       "      <td>49.00</td>\n",
       "      <td>63.125</td>\n",
       "      <td>71.7</td>\n",
       "    </tr>\n",
       "    <tr>\n",
       "      <th>SOUTH WEYMOUTH NAS, MA US</th>\n",
       "      <td>12.0</td>\n",
       "      <td>51.950000</td>\n",
       "      <td>15.970968</td>\n",
       "      <td>29.7</td>\n",
       "      <td>38.350</td>\n",
       "      <td>51.70</td>\n",
       "      <td>65.600</td>\n",
       "      <td>74.3</td>\n",
       "    </tr>\n",
       "    <tr>\n",
       "      <th>WALPOLE 2, MA US</th>\n",
       "      <td>12.0</td>\n",
       "      <td>50.225000</td>\n",
       "      <td>16.265475</td>\n",
       "      <td>27.3</td>\n",
       "      <td>36.400</td>\n",
       "      <td>49.95</td>\n",
       "      <td>64.225</td>\n",
       "      <td>72.5</td>\n",
       "    </tr>\n",
       "  </tbody>\n",
       "</table>\n",
       "</div>"
      ],
      "text/plain": [
       "                                   count       mean        std   min     25%  \\\n",
       "name                                                                           \n",
       "BEDFORD HANSCOM FIELD, MA US        12.0  49.875000  16.572273  26.1  36.200   \n",
       "BEVERLY MUNICIPAL AIRPORT, MA US    12.0  48.450000  15.964876  26.0  34.825   \n",
       "BEVERLY, MA US                      12.0  47.641667  15.575882  26.2  34.350   \n",
       "BLUE HILL LCD, MA US                12.0  49.075000  16.792213  25.5  34.450   \n",
       "BOSTON, MA US                       12.0  51.375000  15.970320  29.0  37.400   \n",
       "BRIDGEWATER, MA US                  12.0  49.158333  15.903599  26.6  35.400   \n",
       "BROCKTON, MA US                     12.0  49.091667  15.875679  27.0  35.550   \n",
       "FRANKLIN, MA US                      0.0        NaN        NaN   NaN     NaN   \n",
       "GROVELAND, MA US                    12.0  48.066667  16.596842  24.6  33.925   \n",
       "HAVERHILL, MA US                    12.0  47.933333  16.924180  24.1  33.575   \n",
       "HINGHAM, MA US                      12.0  50.591667  15.560934  28.8  37.025   \n",
       "JAMAICA PLAIN, MA US                12.0  50.375000  16.572602  26.9  36.275   \n",
       "LAWRENCE MUNICIPAL AIRPORT, MA US   12.0  49.075000  16.572163  25.2  34.975   \n",
       "LAWRENCE, MA US                     12.0  50.158333  16.877013  26.0  35.925   \n",
       "LOWELL, MA US                       12.0  48.375000  17.352292  23.6  33.450   \n",
       "MARBLEHEAD, MA US                   12.0  49.891667  15.664694  27.9  35.950   \n",
       "MAYNARD, MA US                      12.0  49.116667  17.089382  24.8  34.700   \n",
       "MIDDLETON, MA US                    12.0  50.941667  16.239036  27.9  36.675   \n",
       "MILFORD, MA US                       0.0        NaN        NaN   NaN     NaN   \n",
       "NATICK, MA US                       12.0  48.600000  16.525407  25.2  34.575   \n",
       "NORTON, MA US                       12.0  49.150000  16.189138  26.5  35.550   \n",
       "NORWOOD MEMORIAL AIRPORT, MA US     12.0  48.466667  16.009448  25.9  35.100   \n",
       "READING, MA US                      12.0  49.183333  16.359475  26.0  35.250   \n",
       "SOUTH WEYMOUTH NAS, MA US           12.0  51.950000  15.970968  29.7  38.350   \n",
       "WALPOLE 2, MA US                    12.0  50.225000  16.265475  27.3  36.400   \n",
       "\n",
       "                                     50%     75%   max  \n",
       "name                                                    \n",
       "BEDFORD HANSCOM FIELD, MA US       49.70  63.625  72.9  \n",
       "BEVERLY MUNICIPAL AIRPORT, MA US   48.00  62.575  70.4  \n",
       "BEVERLY, MA US                     47.15  61.125  69.1  \n",
       "BLUE HILL LCD, MA US               49.15  63.850  71.9  \n",
       "BOSTON, MA US                      51.05  65.600  73.4  \n",
       "BRIDGEWATER, MA US                 48.65  62.750  71.4  \n",
       "BROCKTON, MA US                    48.55  62.800  71.1  \n",
       "FRANKLIN, MA US                      NaN     NaN   NaN  \n",
       "GROVELAND, MA US                   47.90  62.225  70.9  \n",
       "HAVERHILL, MA US                   47.80  62.600  71.2  \n",
       "HINGHAM, MA US                     50.25  64.100  72.2  \n",
       "JAMAICA PLAIN, MA US               49.95  64.900  73.1  \n",
       "LAWRENCE MUNICIPAL AIRPORT, MA US  49.05  63.150  71.8  \n",
       "LAWRENCE, MA US                    50.15  64.825  72.9  \n",
       "LOWELL, MA US                      48.20  63.275  72.1  \n",
       "MARBLEHEAD, MA US                  49.60  63.925  71.3  \n",
       "MAYNARD, MA US                     49.05  63.650  72.3  \n",
       "MIDDLETON, MA US                   50.85  65.300  72.9  \n",
       "MILFORD, MA US                       NaN     NaN   NaN  \n",
       "NATICK, MA US                      48.25  62.725  71.3  \n",
       "NORTON, MA US                      48.70  62.850  71.8  \n",
       "NORWOOD MEMORIAL AIRPORT, MA US    48.15  61.950  70.8  \n",
       "READING, MA US                     49.00  63.125  71.7  \n",
       "SOUTH WEYMOUTH NAS, MA US          51.70  65.600  74.3  \n",
       "WALPOLE 2, MA US                   49.95  64.225  72.5  "
      ]
     },
     "execution_count": 22,
     "metadata": {},
     "output_type": "execute_result"
    }
   ],
   "source": [
    "grouped_data = df.groupby('name')\n",
    "grouped_data['temp'].describe()"
   ]
  },
  {
   "cell_type": "markdown",
   "metadata": {},
   "source": [
    "### Question\n",
    "\n",
    "Using the gapminder data, use `.groupby()` to get summary statistics by region."
   ]
  },
  {
   "cell_type": "code",
   "execution_count": null,
   "metadata": {},
   "outputs": [],
   "source": [
    "## your code here: "
   ]
  },
  {
   "cell_type": "markdown",
   "metadata": {},
   "source": [
    "### Accessing rows and specific entries\n",
    "\n",
    "You can also to access a specific row using `df.loc[ROW, :]`. The colon specifies to select all columns for that row number."
   ]
  },
  {
   "cell_type": "code",
   "execution_count": 23,
   "metadata": {},
   "outputs": [
    {
     "data": {
      "text/plain": [
       "station                                   USW00054704\n",
       "name                  NORWOOD MEMORIAL AIRPORT, MA US\n",
       "date                                                1\n",
       "temp                                             25.9\n",
       "diurnal_temp_range                               19.7\n",
       "precip-total                                     3.43\n",
       "snow-totals                                       NaN\n",
       "Name: 0, dtype: object"
      ]
     },
     "execution_count": 23,
     "metadata": {},
     "output_type": "execute_result"
    }
   ],
   "source": [
    "df.loc[0, :] # the first row"
   ]
  },
  {
   "cell_type": "markdown",
   "metadata": {},
   "source": [
    "We can use `.loc` to find the value of specific entries, as well."
   ]
  },
  {
   "cell_type": "code",
   "execution_count": 24,
   "metadata": {},
   "outputs": [
    {
     "data": {
      "text/plain": [
       "'NORWOOD MEMORIAL AIRPORT, MA US'"
      ]
     },
     "execution_count": 24,
     "metadata": {},
     "output_type": "execute_result"
    }
   ],
   "source": [
    "df.loc[0, 'name'] # first row entry for column"
   ]
  },
  {
   "cell_type": "markdown",
   "metadata": {},
   "source": [
    "## for loops"
   ]
  },
  {
   "cell_type": "code",
   "execution_count": 53,
   "metadata": {},
   "outputs": [
    {
     "name": "stdout",
     "output_type": "stream",
     "text": [
      "25.9\n",
      "28.9\n",
      "36.4\n",
      "46.8\n",
      "56.4\n",
      "65.7\n",
      "70.8\n",
      "68.7\n",
      "60.7\n",
      "49.5\n",
      "40.6\n",
      "31.2\n",
      "25.2\n",
      "28.5\n",
      "35.9\n",
      "46.5\n",
      "56.8\n",
      "66.1\n",
      "71.3\n",
      "69.7\n",
      "61.6\n",
      "50.0\n",
      "41.0\n",
      "30.6\n",
      "24.8\n",
      "28.1\n",
      "36.1\n",
      "47.6\n",
      "58.0\n",
      "67.1\n",
      "72.3\n",
      "70.9\n",
      "62.5\n",
      "50.5\n",
      "41.0\n",
      "30.5\n",
      "26.0\n",
      "29.1\n",
      "36.5\n",
      "47.1\n",
      "57.1\n",
      "66.2\n",
      "71.7\n",
      "70.2\n",
      "62.1\n",
      "50.9\n",
      "41.8\n",
      "31.5\n",
      "25.5\n",
      "27.9\n",
      "35.5\n",
      "46.7\n",
      "57.1\n",
      "66.1\n",
      "71.9\n",
      "70.5\n",
      "63.1\n",
      "51.6\n",
      "41.7\n",
      "31.3\n",
      "26.9\n",
      "30.1\n",
      "37.5\n",
      "47.7\n",
      "58.1\n",
      "67.9\n",
      "73.1\n",
      "71.5\n",
      "63.9\n",
      "52.2\n",
      "43.0\n",
      "32.6\n",
      "26.0\n",
      "29.2\n",
      "37.2\n",
      "48.1\n",
      "58.3\n",
      "67.6\n",
      "72.9\n",
      "71.9\n",
      "63.9\n",
      "52.2\n",
      "42.5\n",
      "32.1\n",
      "29.7\n",
      "32.4\n",
      "39.6\n",
      "49.1\n",
      "59.0\n",
      "68.6\n",
      "74.3\n",
      "72.5\n",
      "64.6\n",
      "54.3\n",
      "44.7\n",
      "34.6\n",
      "27.9\n",
      "30.8\n",
      "36.8\n",
      "46.5\n",
      "56.3\n",
      "65.8\n",
      "71.3\n",
      "70.3\n",
      "63.3\n",
      "52.7\n",
      "43.6\n",
      "33.4\n",
      "27.9\n",
      "30.8\n",
      "37.6\n",
      "48.2\n",
      "58.5\n",
      "67.7\n",
      "72.9\n",
      "71.7\n",
      "64.5\n",
      "53.5\n",
      "44.1\n",
      "33.9\n",
      "26.6\n",
      "29.9\n",
      "36.3\n",
      "46.1\n",
      "56.6\n",
      "65.9\n",
      "71.4\n",
      "69.5\n",
      "61.7\n",
      "51.2\n",
      "42.0\n",
      "32.7\n",
      "24.6\n",
      "27.6\n",
      "35.1\n",
      "46.2\n",
      "56.1\n",
      "65.6\n",
      "70.9\n",
      "69.3\n",
      "61.1\n",
      "49.6\n",
      "40.3\n",
      "30.4\n",
      "nan\n",
      "nan\n",
      "nan\n",
      "nan\n",
      "nan\n",
      "nan\n",
      "nan\n",
      "nan\n",
      "nan\n",
      "nan\n",
      "nan\n",
      "nan\n",
      "27.0\n",
      "29.6\n",
      "36.7\n",
      "46.3\n",
      "56.2\n",
      "65.5\n",
      "71.1\n",
      "69.9\n",
      "61.9\n",
      "50.8\n",
      "42.0\n",
      "32.1\n",
      "26.0\n",
      "28.8\n",
      "35.9\n",
      "45.5\n",
      "55.4\n",
      "64.9\n",
      "70.4\n",
      "69.2\n",
      "61.8\n",
      "50.5\n",
      "41.4\n",
      "31.6\n",
      "nan\n",
      "nan\n",
      "nan\n",
      "nan\n",
      "nan\n",
      "nan\n",
      "nan\n",
      "nan\n",
      "nan\n",
      "nan\n",
      "nan\n",
      "nan\n",
      "28.8\n",
      "31.5\n",
      "38.0\n",
      "47.8\n",
      "57.5\n",
      "66.8\n",
      "72.2\n",
      "70.6\n",
      "63.2\n",
      "52.7\n",
      "43.9\n",
      "34.1\n",
      "24.1\n",
      "26.8\n",
      "34.8\n",
      "45.7\n",
      "55.9\n",
      "65.3\n",
      "71.2\n",
      "69.7\n",
      "61.7\n",
      "49.9\n",
      "40.2\n",
      "29.9\n",
      "29.0\n",
      "31.7\n",
      "38.3\n",
      "48.1\n",
      "57.9\n",
      "67.7\n",
      "73.4\n",
      "72.1\n",
      "64.9\n",
      "54.0\n",
      "44.7\n",
      "34.7\n",
      "26.1\n",
      "29.4\n",
      "37.7\n",
      "48.2\n",
      "57.9\n",
      "67.0\n",
      "72.9\n",
      "71.2\n",
      "62.5\n",
      "51.2\n",
      "42.7\n",
      "31.7\n",
      "26.2\n",
      "28.0\n",
      "35.4\n",
      "45.0\n",
      "54.6\n",
      "63.6\n",
      "69.1\n",
      "68.2\n",
      "60.3\n",
      "49.3\n",
      "40.8\n",
      "31.2\n",
      "23.6\n",
      "27.1\n",
      "34.6\n",
      "46.4\n",
      "57.1\n",
      "66.5\n",
      "72.1\n",
      "70.5\n",
      "62.2\n",
      "50.0\n",
      "40.4\n",
      "30.0\n",
      "27.3\n",
      "30.4\n",
      "37.7\n",
      "48.1\n",
      "58.2\n",
      "67.3\n",
      "72.5\n",
      "71.1\n",
      "63.2\n",
      "51.8\n",
      "42.6\n",
      "32.5\n",
      "25.2\n",
      "28.8\n",
      "36.2\n",
      "47.3\n",
      "57.1\n",
      "66.3\n",
      "71.8\n",
      "70.3\n",
      "62.1\n",
      "50.8\n",
      "41.7\n",
      "31.3\n",
      "26.5\n",
      "28.9\n",
      "36.8\n",
      "46.8\n",
      "56.9\n",
      "66.0\n",
      "71.8\n",
      "69.9\n",
      "61.8\n",
      "50.6\n",
      "42.0\n",
      "31.8\n"
     ]
    }
   ],
   "source": [
    "for i in range(len(df)):\n",
    "    print(df.loc[i,\"temp\"])"
   ]
  },
  {
   "cell_type": "code",
   "execution_count": 55,
   "metadata": {},
   "outputs": [
    {
     "name": "stdout",
     "output_type": "stream",
     "text": [
      "USW00054704\n",
      "NORWOOD MEMORIAL AIRPORT, MA US\n",
      "1\n",
      "25.9\n",
      "19.7\n",
      "3.43\n",
      "nan\n",
      "-3.3888888888888897\n"
     ]
    }
   ],
   "source": [
    "for col in df.columns:\n",
    "    \n",
    "    print(df.loc[0,col])"
   ]
  },
  {
   "cell_type": "markdown",
   "metadata": {},
   "source": [
    "### Math"
   ]
  },
  {
   "cell_type": "markdown",
   "metadata": {},
   "source": [
    "If we multiply a data frame by a single number, each value in the column will be muliplied by that value."
   ]
  },
  {
   "cell_type": "markdown",
   "metadata": {},
   "source": [
    "We can turn this into a new column by assigning to `df['new_col_name']`."
   ]
  },
  {
   "cell_type": "code",
   "execution_count": 36,
   "metadata": {},
   "outputs": [
    {
     "data": {
      "text/plain": [
       "0      -3.388889\n",
       "1      -1.722222\n",
       "2       2.444444\n",
       "3       8.222222\n",
       "4      13.555556\n",
       "         ...    \n",
       "295    21.055556\n",
       "296    16.555556\n",
       "297    10.333333\n",
       "298     5.555556\n",
       "299    -0.111111\n",
       "Name: temp_C, Length: 300, dtype: float64"
      ]
     },
     "execution_count": 36,
     "metadata": {},
     "output_type": "execute_result"
    }
   ],
   "source": [
    "df['temp_C'] = (df['temp'] - 32) * (5/9)\n",
    "df.temp_C"
   ]
  },
  {
   "cell_type": "markdown",
   "metadata": {},
   "source": [
    "Numpy functions work very well with numerical columns."
   ]
  },
  {
   "cell_type": "code",
   "execution_count": 51,
   "metadata": {},
   "outputs": [
    {
     "data": {
      "text/plain": [
       "0      1.413300\n",
       "1      1.460898\n",
       "2      1.561101\n",
       "3      1.670246\n",
       "4      1.751279\n",
       "         ...   \n",
       "295    1.844477\n",
       "296    1.790988\n",
       "297    1.704151\n",
       "298    1.623249\n",
       "299    1.502427\n",
       "Name: temp, Length: 300, dtype: float64"
      ]
     },
     "execution_count": 51,
     "metadata": {},
     "output_type": "execute_result"
    }
   ],
   "source": [
    "import numpy as np\n",
    "\n",
    "np.log10(df.temp)"
   ]
  },
  {
   "cell_type": "markdown",
   "metadata": {},
   "source": [
    "This new column is now reflected in the data frame. "
   ]
  },
  {
   "cell_type": "code",
   "execution_count": 40,
   "metadata": {},
   "outputs": [
    {
     "name": "stdout",
     "output_type": "stream",
     "text": [
      "Index(['station', 'name', 'date', 'temp', 'diurnal_temp_range', 'precip-total',\n",
      "       'snow-totals', 'temp_C'],\n",
      "      dtype='object')\n"
     ]
    }
   ],
   "source": [
    "print(df.columns)"
   ]
  },
  {
   "cell_type": "markdown",
   "metadata": {},
   "source": [
    "We can also do math between columns, since they have the same length. Elements of the same row are added, substacted, multiplied, or divided. \n"
   ]
  },
  {
   "cell_type": "code",
   "execution_count": 39,
   "metadata": {},
   "outputs": [
    {
     "data": {
      "text/plain": [
       "0       6.2\n",
       "1       7.9\n",
       "2      14.9\n",
       "3      24.1\n",
       "4      31.5\n",
       "       ... \n",
       "295    46.8\n",
       "296    37.9\n",
       "297    27.8\n",
       "298    21.2\n",
       "299    11.8\n",
       "Length: 300, dtype: float64"
      ]
     },
     "execution_count": 39,
     "metadata": {},
     "output_type": "execute_result"
    }
   ],
   "source": [
    "df['temp'] - df['diurnal_temp_range'] "
   ]
  },
  {
   "cell_type": "code",
   "execution_count": 44,
   "metadata": {},
   "outputs": [],
   "source": [
    "### Your code here:\n"
   ]
  },
  {
   "cell_type": "markdown",
   "metadata": {},
   "source": [
    "### Create your own data frame\n",
    "\n",
    "To make your own data frame without a .csv, we use the function `pd.DataFrame()`. There are many ways to use this function to construct a data frame. \n",
    "\n",
    "Here, we show how to convert a dictionary of lists into a data frame. Each list will be its own column, and you need to make sure the lists are all the same length. The keys of each list should be the column names."
   ]
  },
  {
   "cell_type": "code",
   "execution_count": 45,
   "metadata": {},
   "outputs": [
    {
     "data": {
      "text/html": [
       "<div>\n",
       "<style scoped>\n",
       "    .dataframe tbody tr th:only-of-type {\n",
       "        vertical-align: middle;\n",
       "    }\n",
       "\n",
       "    .dataframe tbody tr th {\n",
       "        vertical-align: top;\n",
       "    }\n",
       "\n",
       "    .dataframe thead th {\n",
       "        text-align: right;\n",
       "    }\n",
       "</style>\n",
       "<table border=\"1\" class=\"dataframe\">\n",
       "  <thead>\n",
       "    <tr style=\"text-align: right;\">\n",
       "      <th></th>\n",
       "      <th>a</th>\n",
       "      <th>b</th>\n",
       "      <th>c</th>\n",
       "    </tr>\n",
       "  </thead>\n",
       "  <tbody>\n",
       "    <tr>\n",
       "      <th>0</th>\n",
       "      <td>1</td>\n",
       "      <td>apple</td>\n",
       "      <td>-2.0</td>\n",
       "    </tr>\n",
       "    <tr>\n",
       "      <th>1</th>\n",
       "      <td>3</td>\n",
       "      <td>banana</td>\n",
       "      <td>-3.0</td>\n",
       "    </tr>\n",
       "    <tr>\n",
       "      <th>2</th>\n",
       "      <td>5</td>\n",
       "      <td>apple</td>\n",
       "      <td>-5.0</td>\n",
       "    </tr>\n",
       "  </tbody>\n",
       "</table>\n",
       "</div>"
      ],
      "text/plain": [
       "   a       b    c\n",
       "0  1   apple -2.0\n",
       "1  3  banana -3.0\n",
       "2  5   apple -5.0"
      ]
     },
     "execution_count": 45,
     "metadata": {},
     "output_type": "execute_result"
    }
   ],
   "source": [
    "data_dict = {\n",
    "    'a': [1, 3, 5],\n",
    "    'b': ['apple', 'banana', 'apple'],\n",
    "    'c': [-2., -3., -5.]\n",
    "}\n",
    "\n",
    "pd.DataFrame(data_dict)"
   ]
  },
  {
   "cell_type": "markdown",
   "metadata": {},
   "source": [
    "You can also use lists of lists or 2D NumPy arrays to create data frames. Each list will be a row, instead of a column, and you will need to specify the column name as another argument in `pd.DataFrame()` called `columns`."
   ]
  },
  {
   "cell_type": "code",
   "execution_count": 46,
   "metadata": {},
   "outputs": [
    {
     "data": {
      "text/html": [
       "<div>\n",
       "<style scoped>\n",
       "    .dataframe tbody tr th:only-of-type {\n",
       "        vertical-align: middle;\n",
       "    }\n",
       "\n",
       "    .dataframe tbody tr th {\n",
       "        vertical-align: top;\n",
       "    }\n",
       "\n",
       "    .dataframe thead th {\n",
       "        text-align: right;\n",
       "    }\n",
       "</style>\n",
       "<table border=\"1\" class=\"dataframe\">\n",
       "  <thead>\n",
       "    <tr style=\"text-align: right;\">\n",
       "      <th></th>\n",
       "      <th>a</th>\n",
       "      <th>b</th>\n",
       "      <th>c</th>\n",
       "    </tr>\n",
       "  </thead>\n",
       "  <tbody>\n",
       "    <tr>\n",
       "      <th>0</th>\n",
       "      <td>1</td>\n",
       "      <td>apple</td>\n",
       "      <td>-2.0</td>\n",
       "    </tr>\n",
       "    <tr>\n",
       "      <th>1</th>\n",
       "      <td>3</td>\n",
       "      <td>banana</td>\n",
       "      <td>-3.0</td>\n",
       "    </tr>\n",
       "    <tr>\n",
       "      <th>2</th>\n",
       "      <td>5</td>\n",
       "      <td>apple</td>\n",
       "      <td>-5.0</td>\n",
       "    </tr>\n",
       "  </tbody>\n",
       "</table>\n",
       "</div>"
      ],
      "text/plain": [
       "   a       b    c\n",
       "0  1   apple -2.0\n",
       "1  3  banana -3.0\n",
       "2  5   apple -5.0"
      ]
     },
     "execution_count": 46,
     "metadata": {},
     "output_type": "execute_result"
    }
   ],
   "source": [
    "data_list = [\n",
    "    [1, 'apple', -2.],\n",
    "    [3, 'banana', -3.],\n",
    "    [5, 'apple', -5.]\n",
    "]\n",
    "pd.DataFrame(data_list, columns=['a', 'b', 'c'])"
   ]
  },
  {
   "cell_type": "markdown",
   "metadata": {},
   "source": [
    "Note: we need to save this as a variable to use it in the future."
   ]
  },
  {
   "cell_type": "markdown",
   "metadata": {},
   "source": [
    "### Export data frame as .csv\n",
    "\n",
    "If you have made modifications to a data set in Python and want to export that to a new .csv, you can easily do that with the `.to_csv()` method that all pandas data frames have."
   ]
  },
  {
   "cell_type": "code",
   "execution_count": 55,
   "metadata": {},
   "outputs": [],
   "source": [
    "my_df = pd.DataFrame(data_list, columns=['a', 'b', 'c'])\n",
    "\n",
    "my_df.to_csv('fruits.csv', index=False) # index = False makes sure row names are not saved as their own columns"
   ]
  },
  {
   "cell_type": "markdown",
   "metadata": {},
   "source": [
    "#### Question: Putting it together\n",
    "\n",
    "In assignment 2, we moved information gathered from some researchers into a nested data structure. Instead, transfer these data into a Pandas dataframe. Display the data frame, and export it as a .csv file.\n",
    "\n",
    "As a reminder, each list is in the same order as the researchers name -> all of Haley McCann's data is at index `0`."
   ]
  },
  {
   "cell_type": "code",
   "execution_count": null,
   "metadata": {},
   "outputs": [],
   "source": [
    "researchers = ['Haley McCann', 'Siena Welch', 'Jaylin Mercado', 'Ismael Hayden', 'Nina Bright']\n",
    "\n",
    "temperatures = [29.75, 12.63, 31.58, 7.16, 32.51]\n",
    "\n",
    "populations = [442, 336, 505, 913, 933]\n",
    "\n",
    "dates = ['5/25/2022','3/18/2022','6/28/2022','11/11/2022','7/6/2023']\n",
    "\n",
    "### Your code here:\n"
   ]
  },
  {
   "cell_type": "markdown",
   "metadata": {},
   "source": [
    "## Resources\n",
    "\n",
    "- [NumPy docs](https://numpy.org/doc/stable/index.html)\n",
    "- [NumPy getting started](https://numpy.org/doc/stable/user/quickstart.html)\n",
    "- [Random samples with NumPy](https://numpy.org/doc/stable/reference/random/index.html)\n",
    "- [Pandas docs](https://pandas.pydata.org/docs/)\n",
    "- [Pandas getting started](https://pandas.pydata.org/docs/getting_started/index.html#getting-started)\n",
    "- [Pandas cheatsheet](https://pandas.pydata.org/Pandas_Cheat_Sheet.pdf)\n",
    "- [PySpark for big data](https://spark.apache.org/docs/latest/api/python/)\n",
    "\n",
    "This lesson is adapted from \n",
    "[Software Carpentry](http://swcarpentry.github.io/python-novice-gapminder/design/)."
   ]
  }
 ],
 "metadata": {
  "kernelspec": {
   "display_name": "Python 3.9.12 ('base')",
   "language": "python",
   "name": "python3"
  },
  "language_info": {
   "codemirror_mode": {
    "name": "ipython",
    "version": 3
   },
   "file_extension": ".py",
   "mimetype": "text/x-python",
   "name": "python",
   "nbconvert_exporter": "python",
   "pygments_lexer": "ipython3",
   "version": "3.9.12"
  },
  "orig_nbformat": 4,
  "vscode": {
   "interpreter": {
    "hash": "b52b534d3e8b2df8a7f375ea8b488ed7c2e546a5d77230d70bd2c6badbd8c861"
   }
  }
 },
 "nbformat": 4,
 "nbformat_minor": 2
}
