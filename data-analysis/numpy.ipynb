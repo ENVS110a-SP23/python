{
 "cells": [
  {
   "cell_type": "markdown",
   "metadata": {},
   "source": [
    "# NumPy"
   ]
  },
  {
   "cell_type": "markdown",
   "metadata": {},
   "source": [
    "While base Python has many useful tools for a wide-variety purposes, open-source external libraries greatly expand Python's uses. NumPy (Numerical Python) is a critical library for manipulating numbers, performing matrix operations, and mathematics in general. \n",
    "\n",
    "To use this library, we first have to **import** it with the keyword `import`."
   ]
  },
  {
   "cell_type": "code",
   "execution_count": 2,
   "metadata": {},
   "outputs": [],
   "source": [
    "import numpy"
   ]
  },
  {
   "cell_type": "markdown",
   "metadata": {},
   "source": [
    "We now have access to the various tools and functions that NumPy has to offer. The foundation of NumPy is the array, a data structure for holding numbers designed for math. \n",
    "\n",
    "The simplest array is a single dimensional vector, essentially a Python list that we can do math with. To make an array, we tend to create a list and convert it to an array with `numpy.array()`."
   ]
  },
  {
   "cell_type": "code",
   "execution_count": 3,
   "metadata": {},
   "outputs": [
    {
     "name": "stdout",
     "output_type": "stream",
     "text": [
      "[1 2 3]\n"
     ]
    }
   ],
   "source": [
    "my_list = [1, 2, 3] # create list\n",
    "\n",
    "my_array = numpy.array(my_list) # convert list to array\n",
    "print(my_array)"
   ]
  },
  {
   "cell_type": "markdown",
   "metadata": {},
   "source": [
    "You can always do simple math operations between a number (int or float) and an array."
   ]
  },
  {
   "cell_type": "code",
   "execution_count": 4,
   "metadata": {},
   "outputs": [
    {
     "data": {
      "text/plain": [
       "array([20, 40, 60])"
      ]
     },
     "execution_count": 4,
     "metadata": {},
     "output_type": "execute_result"
    }
   ],
   "source": [
    "20 * my_array # 20 * [ 1, 2, 3 ]"
   ]
  },
  {
   "cell_type": "markdown",
   "metadata": {},
   "source": [
    "If we have arrays of the same length, we can do the same operations on them between elements in the same positions."
   ]
  },
  {
   "cell_type": "code",
   "execution_count": 5,
   "metadata": {},
   "outputs": [
    {
     "data": {
      "text/plain": [
       "array([4, 4, 4])"
      ]
     },
     "execution_count": 5,
     "metadata": {},
     "output_type": "execute_result"
    }
   ],
   "source": [
    "your_array = numpy.array( [3, 2, 1] ) # you can create the list within the array() function\n",
    "\n",
    "my_array + your_array # [ 1, 2, 3 ] + [3, 2, 1]"
   ]
  },
  {
   "cell_type": "code",
   "execution_count": 6,
   "metadata": {},
   "outputs": [
    {
     "data": {
      "text/plain": [
       "array([3, 4, 3])"
      ]
     },
     "execution_count": 6,
     "metadata": {},
     "output_type": "execute_result"
    }
   ],
   "source": [
    "my_array * your_array # [ 1, 2, 3 ] * [3, 2, 1]"
   ]
  },
  {
   "cell_type": "markdown",
   "metadata": {},
   "source": [
    "You can also use numpy functions like `add()` and `multiply()` to do these actions, as well. "
   ]
  },
  {
   "cell_type": "code",
   "execution_count": 7,
   "metadata": {},
   "outputs": [
    {
     "name": "stdout",
     "output_type": "stream",
     "text": [
      "[4 4 4]\n",
      "[3 4 3]\n"
     ]
    }
   ],
   "source": [
    "print( numpy.add(your_array, my_array) )\n",
    "print( numpy.multiply(your_array, my_array) )"
   ]
  },
  {
   "cell_type": "markdown",
   "metadata": {},
   "source": [
    "#### Bonus\n",
    "It is common practice in Python to use `import numpy as np` when importing NumPy. This allows you to only need to type `np.` (e.g., `np.add()`) when using a tool within NumPy, which is a bit less clunky and faster."
   ]
  },
  {
   "cell_type": "code",
   "execution_count": 8,
   "metadata": {},
   "outputs": [
    {
     "data": {
      "text/plain": [
       "array([], dtype=float64)"
      ]
     },
     "execution_count": 8,
     "metadata": {},
     "output_type": "execute_result"
    }
   ],
   "source": [
    "import numpy as np\n",
    "\n",
    "np.array([]) # a blank numpy array"
   ]
  },
  {
   "cell_type": "markdown",
   "metadata": {},
   "source": [
    "You could technically import NumPy as any variable name, but **DO NOT DO THIS** to avoid confusion."
   ]
  },
  {
   "cell_type": "code",
   "execution_count": 9,
   "metadata": {},
   "outputs": [],
   "source": [
    "### DONT RUN THIS\n",
    "# import numpy as pandas"
   ]
  },
  {
   "cell_type": "markdown",
   "metadata": {},
   "source": [
    "#### Question: NumPy math\n",
    "\n",
    "Create two NumPy arrays of the same length and subtract one from the other."
   ]
  },
  {
   "cell_type": "code",
   "execution_count": 10,
   "metadata": {},
   "outputs": [],
   "source": [
    "### your code here:"
   ]
  },
  {
   "cell_type": "markdown",
   "metadata": {},
   "source": [
    "## 2D Array\n",
    "\n",
    "NumPy arrays really come into their own when they're used as matrices. Let's first make a 3 x 3 array. To do this, we will call `numpy.array()` with a list that contains other lists, also called a **nested list**. "
   ]
  },
  {
   "cell_type": "code",
   "execution_count": 11,
   "metadata": {},
   "outputs": [
    {
     "data": {
      "text/plain": [
       "array([[1, 2, 3],\n",
       "       [4, 5, 6],\n",
       "       [7, 8, 9]])"
      ]
     },
     "execution_count": 11,
     "metadata": {},
     "output_type": "execute_result"
    }
   ],
   "source": [
    "# a 3 x 3 array - essentially a matrix\n",
    "numpy.array( [[1, 2, 3],\n",
    "              [4, 5, 6],\n",
    "              [7, 8, 9]] )"
   ]
  },
  {
   "cell_type": "markdown",
   "metadata": {},
   "source": [
    "We can get the dimensions of the array by checking the `.shape` attribute."
   ]
  },
  {
   "cell_type": "code",
   "execution_count": 12,
   "metadata": {},
   "outputs": [
    {
     "data": {
      "text/plain": [
       "(3, 3)"
      ]
     },
     "execution_count": 12,
     "metadata": {},
     "output_type": "execute_result"
    }
   ],
   "source": [
    "a = numpy.array( [[1, 1, 1],\n",
    "                  [1, 1, 1],\n",
    "                  [1, 1, 1]] )\n",
    "\n",
    "a.shape # the matrix dimensions, row by column"
   ]
  },
  {
   "cell_type": "markdown",
   "metadata": {},
   "source": [
    "Just like the single dimensional array, you can use the standard math operators between 2D arrays, though they have to be of the same shape."
   ]
  },
  {
   "cell_type": "code",
   "execution_count": 13,
   "metadata": {},
   "outputs": [
    {
     "data": {
      "text/plain": [
       "array([[11, 11, 11],\n",
       "       [11, 11, 11],\n",
       "       [11, 11, 11]])"
      ]
     },
     "execution_count": 13,
     "metadata": {},
     "output_type": "execute_result"
    }
   ],
   "source": [
    "b = numpy.array( [[10, 10, 10],\n",
    "                  [10, 10, 10],\n",
    "                  [10, 10, 10]] )\n",
    "a + b # 1 + 10 nine times"
   ]
  },
  {
   "cell_type": "markdown",
   "metadata": {},
   "source": [
    "Like a 1D vector, you can also do math operations with a single number."
   ]
  },
  {
   "cell_type": "code",
   "execution_count": 14,
   "metadata": {},
   "outputs": [
    {
     "data": {
      "text/plain": [
       "array([[-10, -10, -10],\n",
       "       [-10, -10, -10],\n",
       "       [-10, -10, -10]])"
      ]
     },
     "execution_count": 14,
     "metadata": {},
     "output_type": "execute_result"
    }
   ],
   "source": [
    "b - 20 # 10 - 20 nine times"
   ]
  },
  {
   "cell_type": "markdown",
   "metadata": {},
   "source": [
    "NumPy comes with many tools to do various more complicated math operations as well. For instance, `numpy.matmul` can be used for matrix multiplication. "
   ]
  },
  {
   "cell_type": "code",
   "execution_count": 15,
   "metadata": {},
   "outputs": [
    {
     "data": {
      "text/plain": [
       "array([[30, 30, 30],\n",
       "       [30, 30, 30],\n",
       "       [30, 30, 30]])"
      ]
     },
     "execution_count": 15,
     "metadata": {},
     "output_type": "execute_result"
    }
   ],
   "source": [
    "numpy.matmul(a, b)  "
   ]
  },
  {
   "cell_type": "markdown",
   "metadata": {},
   "source": [
    "Here is non-exhaustive list of other useful operations you can calculate with NumPy. Many of them use the submodule `linalg` that specializes in linear algebra operations.\n",
    "- Natural logarithm: `numpy.log()`\n",
    "- Base 10 log: `numpy.log10()`\n",
    "- Exponential ($e^x$): `numpy.exp()`\n",
    "- Mean: `numpy.mean()`\n",
    "- Median: `numpy.median()`\n",
    "- Maximum: `numpy.max()`\n",
    "- Minimum: `numpy.min()`\n",
    "- Standard deviation: `numpy.std()`\n",
    "- Variance: `numpy.var()`\n",
    "- Dot product: `numpy.dot()`\n",
    "- Determinant: `numpy.linalg.det()`\n",
    "- Vector/matrix norm: `numpy.linalg.norm()`\n",
    "- Matrix rank: `numpy.linalg.det()`\n",
    "- Matrix inverse: `numpy.linalg.inv()`\n",
    "- Eigenvalues/eigenvectors: `numpy.linalg.eig()`\n",
    "- Solutions to linear equations: `numpy.linalg.solve()`\n",
    "\n",
    "For full usage of these functions and more, please visit the [NumPy reference manual](https://numpy.org/doc/stable/reference/routines.linalg.html)."
   ]
  },
  {
   "cell_type": "markdown",
   "metadata": {},
   "source": [
    "#### Question: NumPy operations\n",
    "\n",
    "Create a 1D array called `a` with at least 5 values. Find its mean, median, min, max, and standard deviation.\n",
    "\n",
    "Create another 1D array called `b` with the same length as `a`. Use `numpy.dot(a,b)` to find the dot product of `a` and `b`. "
   ]
  },
  {
   "cell_type": "code",
   "execution_count": 16,
   "metadata": {},
   "outputs": [],
   "source": [
    "### your code here:"
   ]
  },
  {
   "cell_type": "markdown",
   "metadata": {},
   "source": [
    "### Question\n",
    "\n",
    "A common task in data analysis is **normalizing** data. This consists subtracting the mean from data and dividing by the standard deviation. \n",
    "\n",
    "Define a function that takes in a numpy array and calculates its mean (`numpy.mean()`) and standard deviation (`numpy.std()`). Subtract the original array by the mean and divide by the standard deviation. Return the normalized array.\n",
    "\n",
    "Test your function on a numpy array with several values. Compare the mean and standard deviation of the array before and after normalization. "
   ]
  },
  {
   "cell_type": "code",
   "execution_count": 17,
   "metadata": {},
   "outputs": [],
   "source": [
    "### your code here:\n"
   ]
  },
  {
   "cell_type": "markdown",
   "metadata": {},
   "source": [
    "### Indexing and slicing in NumPy\n",
    "\n",
    "Selecting a value in a 1D array is just like indexing in a Python list. If the array has a length of 4, indexes begin at 0 and end at 3. "
   ]
  },
  {
   "cell_type": "code",
   "execution_count": 18,
   "metadata": {},
   "outputs": [
    {
     "data": {
      "text/plain": [
       "8.3"
      ]
     },
     "execution_count": 18,
     "metadata": {},
     "output_type": "execute_result"
    }
   ],
   "source": [
    "x = np.array([3.2, 4.1, 5.6, 8.3])\n",
    "x[3] # the fourth item in the array"
   ]
  },
  {
   "cell_type": "markdown",
   "metadata": {},
   "source": [
    "2D arrays can be indexed in a similar manner with separate column index and row index -> array[row, col]. Both column and row numbers begin with 0.\n",
    "\n",
    "![array indexing](https://swcarpentry.github.io/python-novice-inflammation/fig/python-zero-index.svg)\n",
    "*Credit to [Software Carpentry](https://swcarpentry.github.io/python-novice-inflammation/02-numpy/index.html)*."
   ]
  },
  {
   "cell_type": "code",
   "execution_count": 19,
   "metadata": {},
   "outputs": [
    {
     "data": {
      "text/plain": [
       "8.0"
      ]
     },
     "execution_count": 19,
     "metadata": {},
     "output_type": "execute_result"
    }
   ],
   "source": [
    "y = numpy.array([[1., 2., 3., 4.], # adding the decimal makes them floats\n",
    "              [5., 6., 7., 8.]]) \n",
    "y[1,3] # returns the last value (8.0)"
   ]
  },
  {
   "cell_type": "markdown",
   "metadata": {},
   "source": [
    "Also like lists, we can use **negative indexing** to get the last values of a column and/or row."
   ]
  },
  {
   "cell_type": "code",
   "execution_count": 20,
   "metadata": {},
   "outputs": [
    {
     "data": {
      "text/plain": [
       "8.0"
      ]
     },
     "execution_count": 20,
     "metadata": {},
     "output_type": "execute_result"
    }
   ],
   "source": [
    "y[-1,-1] # last row, last column"
   ]
  },
  {
   "cell_type": "markdown",
   "metadata": {},
   "source": [
    "We can also using **slicing** to return portions of an array -> `array[i:j]`. Slicing is **inclusive** for the first index (`i`) and **exclusive** for the last index (`j`). `array[i:j]` returns values from `i` to `j-1`. "
   ]
  },
  {
   "cell_type": "code",
   "execution_count": 21,
   "metadata": {},
   "outputs": [
    {
     "name": "stdout",
     "output_type": "stream",
     "text": [
      "[3.2 4.1]\n"
     ]
    }
   ],
   "source": [
    "print(x[0:2]) # returns values from 0 to 1"
   ]
  },
  {
   "cell_type": "markdown",
   "metadata": {},
   "source": [
    "We can use this for 2D arrays, as well. We can slice rows, columns, or both at once."
   ]
  },
  {
   "cell_type": "code",
   "execution_count": 22,
   "metadata": {},
   "outputs": [
    {
     "name": "stdout",
     "output_type": "stream",
     "text": [
      "[3 7]\n",
      "[[ 5  6  7]\n",
      " [ 9 10 11]]\n"
     ]
    }
   ],
   "source": [
    "z = numpy.array([[1, 2, 3, 4],\n",
    "                 [5, 6, 7, 8],\n",
    "                 [9,10,11,12],\n",
    "                 [13,14,15,16]])\n",
    "\n",
    "print(z[0:2, 2]) # first 2 rows of the third column\n",
    "print(z[1:3, 0:3]) # rows 2 and 3 for columns 1-3"
   ]
  },
  {
   "cell_type": "markdown",
   "metadata": {},
   "source": [
    "### Question: Slicing\n",
    "\n",
    "Using slicing, create a variable containing the first two columns of `data`, and another variable containing the last two columns. Subtract the two sets of columns from each other and square the difference. "
   ]
  },
  {
   "cell_type": "code",
   "execution_count": 23,
   "metadata": {},
   "outputs": [],
   "source": [
    "data = numpy.array([[0.37568486, 0.39360456, 0.83055883, 0.67256725],\n",
    "                    [0.68017832, 0.90546118, 0.79336985, 0.80561814],\n",
    "                    [0.31127419, 0.29518634, 0.48364838, 0.56015636],\n",
    "                    [0.75994716, 0.01312868, 0.15958863, 0.98516761],\n",
    "                    [0.76733493, 0.19900552, 0.03471678, 0.06886277]])\n",
    "\n",
    "### your code here:\n",
    "\n",
    "\n"
   ]
  },
  {
   "cell_type": "markdown",
   "metadata": {},
   "source": [
    "### Boolean indexing\n",
    "\n",
    "Because numpy is focused around numerical values, we can also subset based on conditions.\n",
    "\n",
    "If you want to get all values of an array greater than 0, you can say `array[array > 0]`."
   ]
  },
  {
   "cell_type": "code",
   "execution_count": 27,
   "metadata": {},
   "outputs": [
    {
     "data": {
      "text/plain": [
       "array([1., 3.])"
      ]
     },
     "execution_count": 27,
     "metadata": {},
     "output_type": "execute_result"
    }
   ],
   "source": [
    "x = numpy.array([1., -1., -2., 3.])\n",
    "\n",
    "x[x > 0]"
   ]
  },
  {
   "cell_type": "markdown",
   "metadata": {},
   "source": [
    "### NumPy constants\n",
    "\n",
    "Math has many constants and important terms that are not present in vanilla Python. Here is a short list of some important ones:\n",
    "\n",
    "- Positive infinity ($+\\infty$): `numpy.Inf` or `numpy.inf` or `numpy.Infinity` or `numpy.PINF` or `numpy.infty`\n",
    "- Negative infinity ($\\infty$): `numpy.NINF`\n",
    "- Euler's constant $e$: `numpy.e`\n",
    "- Missing values/ Not a Number (NaN): `np.nan` or `np.NaN` or `np.NAN`\n",
    "- pi ($\\pi$): `np.pi`"
   ]
  },
  {
   "cell_type": "markdown",
   "metadata": {},
   "source": [
    "## Numpy random\n",
    "\n",
    "Numpy contains a submodule called `random`. It contains incredibly powerful tools for random sampling, randomizing list orders, and random number generation.\n",
    "\n",
    "We'll go through a few examples of how to use `numpy.random`."
   ]
  },
  {
   "cell_type": "markdown",
   "metadata": {},
   "source": [
    "`np.random.rand()` generates random floats between 0 and 1."
   ]
  },
  {
   "cell_type": "code",
   "execution_count": 25,
   "metadata": {},
   "outputs": [
    {
     "data": {
      "text/plain": [
       "array([0.25829512, 0.86059639, 0.51045683, 0.5108304 , 0.83965643,\n",
       "       0.69420288, 0.57987225, 0.8707505 , 0.1403405 , 0.84695063])"
      ]
     },
     "execution_count": 25,
     "metadata": {},
     "output_type": "execute_result"
    }
   ],
   "source": [
    "np.random.rand(10)"
   ]
  },
  {
   "cell_type": "markdown",
   "metadata": {},
   "source": [
    "We can provide one number for a 1D array output, or we can give a shape."
   ]
  },
  {
   "cell_type": "code",
   "execution_count": 29,
   "metadata": {},
   "outputs": [
    {
     "data": {
      "text/plain": [
       "array([[0.405686  , 0.55911381, 0.10216565, 0.1176069 ],\n",
       "       [0.54399612, 0.89415105, 0.4038699 , 0.91464262],\n",
       "       [0.8727333 , 0.78070018, 0.8072012 , 0.95182085],\n",
       "       [0.45871726, 0.93649965, 0.70878889, 0.04117096],\n",
       "       [0.04581515, 0.27093262, 0.81162693, 0.85181647]])"
      ]
     },
     "execution_count": 29,
     "metadata": {},
     "output_type": "execute_result"
    }
   ],
   "source": [
    "np.random.rand(5,4)"
   ]
  },
  {
   "cell_type": "markdown",
   "metadata": {},
   "source": [
    "`np.random.randint()` gives us back a random integer between a low and a high number. It includes the low number and excludes the high number. The third argument is the shape of the output."
   ]
  },
  {
   "cell_type": "code",
   "execution_count": 27,
   "metadata": {},
   "outputs": [
    {
     "data": {
      "text/plain": [
       "array([[66, 67, 61, 39],\n",
       "       [18, 42, 73, 35],\n",
       "       [59, 68, 24, 91]])"
      ]
     },
     "execution_count": 27,
     "metadata": {},
     "output_type": "execute_result"
    }
   ],
   "source": [
    "np.random.randint(0, 100, (3,4))"
   ]
  },
  {
   "cell_type": "markdown",
   "metadata": {},
   "source": [
    "`np.random.uniform()` gives you random floats between two intervals. All values between those intervals are equally likely."
   ]
  },
  {
   "cell_type": "code",
   "execution_count": 28,
   "metadata": {},
   "outputs": [
    {
     "data": {
      "text/plain": [
       "array([ 78.88838389, -47.47066046,  78.50047554, -82.99434746,\n",
       "       -32.23190278])"
      ]
     },
     "execution_count": 28,
     "metadata": {},
     "output_type": "execute_result"
    }
   ],
   "source": [
    "np.random.uniform(-100, 100, 5)"
   ]
  },
  {
   "cell_type": "markdown",
   "metadata": {},
   "source": [
    "`np.random.normal()` gives numbers centered around a mean, which is the first value. The second number defines the spread, or how far from the mean the values can be. The last argument is the shape."
   ]
  },
  {
   "cell_type": "code",
   "execution_count": 30,
   "metadata": {},
   "outputs": [
    {
     "data": {
      "text/plain": [
       "array([ 0.41727943,  0.16488726,  0.95159045, -0.164019  ,  0.6812153 ,\n",
       "       -0.49631379,  0.66193097, -0.53010887,  0.70356419, -0.53807628])"
      ]
     },
     "execution_count": 30,
     "metadata": {},
     "output_type": "execute_result"
    }
   ],
   "source": [
    "np.random.normal(0, 0.5, 10)"
   ]
  },
  {
   "cell_type": "markdown",
   "metadata": {},
   "source": [
    "You can get dramatically different values by changing the spread, or **standard deviation**.\n",
    "\n",
    "1/3 of all values will within 40 of 0 in the example below."
   ]
  },
  {
   "cell_type": "code",
   "execution_count": 31,
   "metadata": {},
   "outputs": [
    {
     "data": {
      "text/plain": [
       "array([ 42.89262833, -41.19252505,  23.10369224,   7.86300809,\n",
       "        -1.06910399, -66.537476  ,   2.32921206,  15.6455084 ,\n",
       "       -47.75769822,  -5.7709003 ])"
      ]
     },
     "execution_count": 31,
     "metadata": {},
     "output_type": "execute_result"
    }
   ],
   "source": [
    "np.random.normal(0, 40, 10)"
   ]
  },
  {
   "cell_type": "markdown",
   "metadata": {},
   "source": [
    "`np.random.shuffle()` randomly rearranges orders. Here we use a list. \n",
    "\n",
    "It re-generates the variable, overwriting the list we had."
   ]
  },
  {
   "cell_type": "code",
   "execution_count": 39,
   "metadata": {},
   "outputs": [
    {
     "name": "stdout",
     "output_type": "stream",
     "text": [
      "[1, 5, 2, 6, 3, 4, 8, 0, 7]\n"
     ]
    }
   ],
   "source": [
    "my_list = [0,1,2,3,4,5,6,7,8]\n",
    "\n",
    "np.random.shuffle(my_list)\n",
    "\n",
    "print(my_list)"
   ]
  },
  {
   "cell_type": "markdown",
   "metadata": {},
   "source": [
    "`shuffle()` works on string lists, too."
   ]
  },
  {
   "cell_type": "code",
   "execution_count": 41,
   "metadata": {},
   "outputs": [
    {
     "name": "stdout",
     "output_type": "stream",
     "text": [
      "['second', 'fifth', 'first', 'fourth', 'third']\n"
     ]
    }
   ],
   "source": [
    "string_list = [\"first\", \"second\", \"third\", \"fourth\", \"fifth\"]\n",
    "\n",
    "np.random.shuffle(string_list)\n",
    "\n",
    "print(string_list)"
   ]
  },
  {
   "cell_type": "markdown",
   "metadata": {},
   "source": [
    "`np.random.choice()` by default takes a random item from a list that we give it."
   ]
  },
  {
   "cell_type": "code",
   "execution_count": 45,
   "metadata": {},
   "outputs": [
    {
     "data": {
      "text/plain": [
       "6"
      ]
     },
     "execution_count": 45,
     "metadata": {},
     "output_type": "execute_result"
    }
   ],
   "source": [
    "np.random.choice(my_list)"
   ]
  },
  {
   "cell_type": "markdown",
   "metadata": {},
   "source": [
    "We can ask for more than one item, as well."
   ]
  },
  {
   "cell_type": "code",
   "execution_count": 46,
   "metadata": {},
   "outputs": [
    {
     "data": {
      "text/plain": [
       "array([8, 2, 5])"
      ]
     },
     "execution_count": 46,
     "metadata": {},
     "output_type": "execute_result"
    }
   ],
   "source": [
    "np.random.choice(my_list, 3)"
   ]
  },
  {
   "cell_type": "markdown",
   "metadata": {},
   "source": [
    "We take from the list **with replacement** by default, meaning that we don't remove future possibilities by sampling more."
   ]
  },
  {
   "cell_type": "code",
   "execution_count": 48,
   "metadata": {},
   "outputs": [
    {
     "data": {
      "text/plain": [
       "array([6, 3, 6, 1, 1, 2, 6, 6, 8, 1, 1, 1, 1, 3, 4, 6, 4, 8, 8, 2])"
      ]
     },
     "execution_count": 48,
     "metadata": {},
     "output_type": "execute_result"
    }
   ],
   "source": [
    "np.random.choice(my_list, 20)"
   ]
  },
  {
   "cell_type": "markdown",
   "metadata": {},
   "source": [
    "If we say `replace=False`, then we can only get each value once."
   ]
  },
  {
   "cell_type": "code",
   "execution_count": 52,
   "metadata": {},
   "outputs": [
    {
     "data": {
      "text/plain": [
       "array([4, 2, 6, 0, 3, 5, 8, 7])"
      ]
     },
     "execution_count": 52,
     "metadata": {},
     "output_type": "execute_result"
    }
   ],
   "source": [
    "np.random.choice(my_list, 8, replace=False)"
   ]
  },
  {
   "cell_type": "markdown",
   "metadata": {},
   "source": [
    "### Question \n",
    "\n",
    "Define a function called `sample_size_testing()` with one parameter called `n`.\n",
    "\n",
    "In this function, use `np.random.normal()` to make an array with a mean of 40, and a standard deviation of 20 with a sample size of `n`. \n",
    "\n",
    "Then, calculate the mean and standard deviation of the random array you have generated.\n",
    "\n",
    "As you increase n, do you notice any change in the sample mean or standard deviation?"
   ]
  },
  {
   "cell_type": "code",
   "execution_count": null,
   "metadata": {},
   "outputs": [],
   "source": [
    "### Your code here: "
   ]
  },
  {
   "cell_type": "markdown",
   "metadata": {},
   "source": [
    "## Resources\n",
    "\n",
    "- [NumPy docs](https://numpy.org/doc/stable/index.html)\n",
    "- [NumPy getting started](https://numpy.org/doc/stable/user/quickstart.html)\n",
    "- [Random samples with NumPy](https://numpy.org/doc/stable/reference/random/index.html)\n",
    "\n",
    "This lesson is adapted from \n",
    "[Software Carpentry](http://swcarpentry.github.io/python-novice-gapminder/design/)."
   ]
  }
 ],
 "metadata": {
  "kernelspec": {
   "display_name": "Python 3.9.12 ('base')",
   "language": "python",
   "name": "python3"
  },
  "language_info": {
   "codemirror_mode": {
    "name": "ipython",
    "version": 3
   },
   "file_extension": ".py",
   "mimetype": "text/x-python",
   "name": "python",
   "nbconvert_exporter": "python",
   "pygments_lexer": "ipython3",
   "version": "3.9.12"
  },
  "orig_nbformat": 4,
  "vscode": {
   "interpreter": {
    "hash": "b52b534d3e8b2df8a7f375ea8b488ed7c2e546a5d77230d70bd2c6badbd8c861"
   }
  }
 },
 "nbformat": 4,
 "nbformat_minor": 2
}
