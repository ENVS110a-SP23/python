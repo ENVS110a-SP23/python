{
 "cells": [
  {
   "cell_type": "markdown",
   "metadata": {},
   "source": [
    "# Writing Functions\n",
    "\n",
    "As humans, we can only keep a few items in our own working memory at a time. Trying to comprehend a Python script with hundreds of lines of code can be quite daunting.\n",
    "\n",
    "Thankfully, we can make this easier by breaking programs down into **functions** to make them easier to understand. We have used built-in functions, like `print()` in the past, but we can also write our own custom functions. \n",
    "\n",
    "Custom functions help us understand larger/more complicated ideas by encapsulating separate parts of our program, allowing us to view each as a single “thing”. Importantly, it also lets us re-use pieces of code without having to duplicate dozens of lines of code over and over again. \n",
    "\n",
    "Objectives:\n",
    "*Define a function using `def` with a name, parameters, and a block of code.*\n",
    "\n"
   ]
  },
  {
   "cell_type": "markdown",
   "metadata": {},
   "source": [
    "We can define a custom function using the keyword `def` (short for \"define\"), followed by the desired function name, parentheses, and a colon."
   ]
  },
  {
   "cell_type": "code",
   "execution_count": 62,
   "metadata": {},
   "outputs": [],
   "source": [
    "def print_greeting():\n",
    "    print('Hello!')"
   ]
  },
  {
   "cell_type": "markdown",
   "metadata": {},
   "source": [
    "Defining a function does not run the code within it. You need to **call** the function to run it."
   ]
  },
  {
   "cell_type": "code",
   "execution_count": 63,
   "metadata": {},
   "outputs": [
    {
     "name": "stdout",
     "output_type": "stream",
     "text": [
      "Hello!\n"
     ]
    }
   ],
   "source": [
    "print_greeting()"
   ]
  },
  {
   "cell_type": "markdown",
   "metadata": {},
   "source": [
    "We can also add **parameters** to functions. Python matches the **arguments** in the call to the parameters in the function definition.\n",
    "\n",
    "In the function call, we specify the values for `year`, `month`, and `day` in same order in function definition.\n",
    "\n",
    "Within the function, these parameters act like variables we have used before. However, they are only active within the **scope** of the function.\n",
    "\n",
    "**Parameters** refer to what we specify in the function definition, and **arguments** are their values in the function call. However, if you mix them up, people will still know what you're talking about!"
   ]
  },
  {
   "cell_type": "code",
   "execution_count": 64,
   "metadata": {},
   "outputs": [
    {
     "name": "stdout",
     "output_type": "stream",
     "text": [
      "1871/3/19\n"
     ]
    }
   ],
   "source": [
    "def print_date(year, month, day):\n",
    "    joined = str(year) + '/' + str(month) + '/' + str(day)\n",
    "    print(joined)\n",
    "\n",
    "print_date(1871, 3, 19)"
   ]
  },
  {
   "cell_type": "markdown",
   "metadata": {},
   "source": [
    "Or, we can name the arguments when we call the function, which allows us to specify them in any order:"
   ]
  },
  {
   "cell_type": "code",
   "execution_count": 65,
   "metadata": {},
   "outputs": [
    {
     "name": "stdout",
     "output_type": "stream",
     "text": [
      "1871/3/19\n"
     ]
    }
   ],
   "source": [
    "print_date(month=3, day=19, year=1871)"
   ]
  },
  {
   "cell_type": "markdown",
   "metadata": {},
   "source": [
    "Functions may return a result (a value) to their caller using `return`. Here we define a function called `average()` that takes a list and returns the mean."
   ]
  },
  {
   "cell_type": "code",
   "execution_count": 66,
   "metadata": {},
   "outputs": [
    {
     "name": "stdout",
     "output_type": "stream",
     "text": [
      "average: 2.6666666666666665\n"
     ]
    }
   ],
   "source": [
    "def average(values):\n",
    "    s = sum(values) # sum\n",
    "    n = len(values) # number of vals\n",
    "    return s/n\n",
    "\n",
    "a = average([1, 3, 4])\n",
    "print('average:', a)"
   ]
  },
  {
   "cell_type": "markdown",
   "metadata": {},
   "source": [
    "We need to be careful defining functions. If this function is called on an empty list, for instance, we will get an error."
   ]
  },
  {
   "cell_type": "code",
   "execution_count": 67,
   "metadata": {},
   "outputs": [
    {
     "ename": "ZeroDivisionError",
     "evalue": "division by zero",
     "output_type": "error",
     "traceback": [
      "\u001b[0;31m---------------------------------------------------------------------------\u001b[0m",
      "\u001b[0;31mZeroDivisionError\u001b[0m                         Traceback (most recent call last)",
      "\u001b[1;32m/Users/fordfishman/GitHub/python/sequential/functions.ipynb Cell 14'\u001b[0m in \u001b[0;36m<cell line: 1>\u001b[0;34m()\u001b[0m\n\u001b[0;32m----> <a href='vscode-notebook-cell:/Users/fordfishman/GitHub/python/sequential/functions.ipynb#ch0000013?line=0'>1</a>\u001b[0m average([])\n",
      "\u001b[1;32m/Users/fordfishman/GitHub/python/sequential/functions.ipynb Cell 12'\u001b[0m in \u001b[0;36maverage\u001b[0;34m(values)\u001b[0m\n\u001b[1;32m      <a href='vscode-notebook-cell:/Users/fordfishman/GitHub/python/sequential/functions.ipynb#ch0000011?line=1'>2</a>\u001b[0m s \u001b[39m=\u001b[39m \u001b[39msum\u001b[39m(values) \u001b[39m# sum\u001b[39;00m\n\u001b[1;32m      <a href='vscode-notebook-cell:/Users/fordfishman/GitHub/python/sequential/functions.ipynb#ch0000011?line=2'>3</a>\u001b[0m n \u001b[39m=\u001b[39m \u001b[39mlen\u001b[39m(values) \u001b[39m# number of vals\u001b[39;00m\n\u001b[0;32m----> <a href='vscode-notebook-cell:/Users/fordfishman/GitHub/python/sequential/functions.ipynb#ch0000011?line=3'>4</a>\u001b[0m \u001b[39mreturn\u001b[39;00m s\u001b[39m/\u001b[39;49mn\n",
      "\u001b[0;31mZeroDivisionError\u001b[0m: division by zero"
     ]
    }
   ],
   "source": [
    "average([])"
   ]
  },
  {
   "cell_type": "markdown",
   "metadata": {},
   "source": [
    "We can design functions in ways to avoid these errors by adding in conditionals."
   ]
  },
  {
   "cell_type": "code",
   "execution_count": 68,
   "metadata": {},
   "outputs": [
    {
     "name": "stdout",
     "output_type": "stream",
     "text": [
      "None\n"
     ]
    }
   ],
   "source": [
    "def better_average(values):\n",
    "    average = None\n",
    "    \n",
    "    if len(values) > 0: # list isnt empty\n",
    "        s = sum(values) # sum\n",
    "        n = len(values) # number of vals \n",
    "        average = s/n\n",
    "    \n",
    "    return average\n",
    "\n",
    "print(better_average([]))"
   ]
  },
  {
   "cell_type": "markdown",
   "metadata": {},
   "source": [
    "`None` is a special keyword in Python with no value. It is not equivalent to `0` or `False`.\n",
    "\n",
    "Every function returns something. A function that doesn’t explicitly return a value automatically returns `None`."
   ]
  },
  {
   "cell_type": "code",
   "execution_count": 69,
   "metadata": {},
   "outputs": [
    {
     "name": "stdout",
     "output_type": "stream",
     "text": [
      "1871/3/19\n",
      "result of call is: None\n"
     ]
    }
   ],
   "source": [
    "result = print_date(1871, 3, 19)\n",
    "print('result of call is:', result)"
   ]
  },
  {
   "cell_type": "markdown",
   "metadata": {},
   "source": [
    "#### Question 1\n",
    "What is the error in the code below?"
   ]
  },
  {
   "cell_type": "code",
   "execution_count": 87,
   "metadata": {},
   "outputs": [],
   "source": [
    "def another_function\n",
    "    print(\"Syntax errors are annoying.\")\n",
    "    print(\"But at least python tells us about them!\")\n",
    "    print(\"So they are usually not too hard to fix.\")"
   ]
  },
  {
   "cell_type": "markdown",
   "metadata": {},
   "source": [
    "#### Question 2 \n",
    "What does this code return?"
   ]
  },
  {
   "cell_type": "code",
   "execution_count": 86,
   "metadata": {},
   "outputs": [],
   "source": [
    "def report(pressure):\n",
    "    print('pressure is', pressure)\n",
    "\n",
    "print('calling', report, 22.5)"
   ]
  },
  {
   "cell_type": "markdown",
   "metadata": {},
   "source": [
    "## Default values\n",
    "\n",
    "For the parameters we have defined, we can also provide default values."
   ]
  },
  {
   "cell_type": "code",
   "execution_count": 72,
   "metadata": {},
   "outputs": [
    {
     "name": "stdout",
     "output_type": "stream",
     "text": [
      "Happy Birthday, Sarah\n",
      "Happy Birthday, Fred\n"
     ]
    }
   ],
   "source": [
    "def happy_birthday(name='Fred'):\n",
    "    print('Happy Birthday,', name)\n",
    "\n",
    "happy_birthday('Sarah')\n",
    "happy_birthday()"
   ]
  },
  {
   "cell_type": "markdown",
   "metadata": {},
   "source": [
    "When defining a function, we can use a combination of parameters with and without default values. However, parameters with default values must go **after** those without them."
   ]
  },
  {
   "cell_type": "code",
   "execution_count": 73,
   "metadata": {},
   "outputs": [
    {
     "data": {
      "text/plain": [
       "-2.0"
      ]
     },
     "execution_count": 73,
     "metadata": {},
     "output_type": "execute_result"
    }
   ],
   "source": [
    "def quadratic_equation(a, b, c, negative=False):\n",
    "    sqr_rt = (b**2 - 4*a*c)**(1/2)\n",
    "    \n",
    "    if negative:\n",
    "        x = (-b - sqr_rt) / (2*a)\n",
    "    \n",
    "    else:\n",
    "        x = (-b + sqr_rt) / (2*a)\n",
    "    \n",
    "    return x\n",
    "\n",
    "quadratic_equation(1, 7, 10)"
   ]
  },
  {
   "cell_type": "markdown",
   "metadata": {},
   "source": [
    "\n",
    "### Question 3\n",
    "Does order of operations matter for defining and calling functions?"
   ]
  },
  {
   "cell_type": "code",
   "execution_count": 74,
   "metadata": {},
   "outputs": [],
   "source": [
    "fahr_to_celsius(32)\n",
    "\n",
    "def fahr_to_celsius(temp):\n",
    "    return ((temp - 32) * (5/9))"
   ]
  },
  {
   "cell_type": "markdown",
   "metadata": {},
   "source": [
    "## Composing Functions"
   ]
  },
  {
   "cell_type": "markdown",
   "metadata": {},
   "source": [
    "Now that we’ve seen how to turn Fahrenheit into Celsius, we can also write the function to turn Celsius into Kelvin:"
   ]
  },
  {
   "cell_type": "code",
   "execution_count": 76,
   "metadata": {},
   "outputs": [
    {
     "name": "stdout",
     "output_type": "stream",
     "text": [
      "freezing point of water in Kelvin: 273.15\n"
     ]
    }
   ],
   "source": [
    "def celsius_to_kelvin(temp_c):\n",
    "    return temp_c + 273.15\n",
    "\n",
    "print('freezing point of water in Kelvin:', celsius_to_kelvin(0.))"
   ]
  },
  {
   "cell_type": "markdown",
   "metadata": {},
   "source": [
    "What about converting Fahrenheit to Kelvin? We could write out the formula, but we don’t need to. Instead, we can compose the two functions we have already created:"
   ]
  },
  {
   "cell_type": "code",
   "execution_count": 77,
   "metadata": {},
   "outputs": [
    {
     "name": "stdout",
     "output_type": "stream",
     "text": [
      "boiling point of water in Kelvin: 373.15\n"
     ]
    }
   ],
   "source": [
    "def fahr_to_kelvin(temp_f):\n",
    "    temp_c = fahr_to_celsius(temp_f)\n",
    "    temp_k = celsius_to_kelvin(temp_c)\n",
    "    return temp_k\n",
    "\n",
    "print('boiling point of water in Kelvin:', fahr_to_kelvin(212.0))"
   ]
  },
  {
   "cell_type": "markdown",
   "metadata": {},
   "source": [
    "This is our first taste of how larger programs are built: we define basic operations, then combine them in ever-larger chunks to get the effect we want. Real-life functions will usually be larger than the ones shown here — typically half a dozen to a few dozen lines — but they shouldn’t ever be much longer than that, or the next person who reads it won’t be able to understand what’s going on."
   ]
  },
  {
   "cell_type": "markdown",
   "metadata": {},
   "source": [
    "## Functions for tidying up code"
   ]
  },
  {
   "cell_type": "markdown",
   "metadata": {},
   "source": [
    "Now that we know how to wrap bits of code up in functions, we can make our analysis easier to read and easier to reuse. \n",
    "\n",
    "Below we have an example of calculating the distance between two points without a function."
   ]
  },
  {
   "cell_type": "code",
   "execution_count": 2,
   "metadata": {},
   "outputs": [
    {
     "name": "stdout",
     "output_type": "stream",
     "text": [
      "6.708203932499369\n"
     ]
    }
   ],
   "source": [
    "point1 = [1, 4]\n",
    "point2 = [4,-2]\n",
    "\n",
    "distance = ((point1[0] - point2[0]) ** 2 + (point1[1] - point2[1]) ** 2) ** 0.5\n",
    "print(distance)\n"
   ]
  },
  {
   "cell_type": "markdown",
   "metadata": {},
   "source": [
    "With this setup, if we want to calculate distance on any more points, we'll have to repeat the code several times. This is known as code duplication, and can cause issues if there are any typos in the original code or if you want to make a change to code. In these cases, you will need to change every instance you've run it.\n",
    "\n",
    "When you copy and paste to duplicate, you may also forget to update information."
   ]
  },
  {
   "cell_type": "code",
   "execution_count": 1,
   "metadata": {},
   "outputs": [
    {
     "name": "stdout",
     "output_type": "stream",
     "text": [
      "4.242640687119285\n",
      "4.242640687119285\n"
     ]
    }
   ],
   "source": [
    "point3 = [5, 11]\n",
    "point4 = [2, 8]\n",
    "\n",
    "distance1 = ((point3[0] - point4[0]) ** 2 + (point3[1] - point4[1]) ** 2) ** 0.5\n",
    "print(distance1)\n",
    "\n",
    "point5 = [5, 11]\n",
    "point6 = [2, 8]\n",
    "\n",
    "distance1 = ((point3[0] - point4[0]) ** 2 + (point3[1] - point4[1]) ** 2) ** 0.5\n",
    "print(distance1)"
   ]
  },
  {
   "cell_type": "markdown",
   "metadata": {},
   "source": [
    "We can remove this by defining a function for calculating distance and simply running the function several times.\n",
    "\n",
    "Limiting code duplication has an important benefit: if you need to change a feature of the code, you will only need to change it one place. \n",
    "\n",
    "Additionally, this helps clean up the code. We've given the function an informative name, and you can easily check to see what the function does."
   ]
  },
  {
   "cell_type": "code",
   "execution_count": null,
   "metadata": {},
   "outputs": [],
   "source": [
    "# Define a function to calculate the distance between two points\n",
    "def calculate_distance(x1, x2):\n",
    "    d = ((x1[0] - x2[0]) ** 2 + (x1[1] - x2[1]) ** 2) ** 0.5\n",
    "    return d\n",
    "\n",
    "# Calculate the distance between the points using the function\n",
    "print(calculate_distance(point1, point2))\n",
    "print(calculate_distance(point3, point4))\n",
    "print(calculate_distance(point5, point6))\n",
    "\n",
    "# Print the result\n",
    "print(\"Distance:\", distance)\n"
   ]
  },
  {
   "cell_type": "markdown",
   "metadata": {},
   "source": [
    "#### Question 4\n",
    "\n",
    "The code below takes 4 short DNA sequences and calculates the percentage of DNA bases that are either G or C for each of them. This runs the same process for each sequence.\n",
    "\n",
    "Take the code below and reduce some of the code duplication by creating one or more functions, or with other approaches."
   ]
  },
  {
   "cell_type": "code",
   "execution_count": 89,
   "metadata": {},
   "outputs": [
    {
     "name": "stdout",
     "output_type": "stream",
     "text": [
      "GC%: 0.5\n",
      "GC%: 0.6\n",
      "GC%: 0.4\n",
      "GC%: 0.49\n"
     ]
    }
   ],
   "source": [
    "# initialize sequences\n",
    "dna_sequence1 = 'CGACCAATAGTGATCCACGGATTCTCTGAAGAGTCAGCATGCGGGAAATATACGCACAACTAACGGGACGGCGATTAACGCCAAGCCTGGGCTGAATATT'\n",
    "dna_sequence2 = 'TGCGGCAGGATTTCGGACCGAACCTTGTCACCCTTACATTCATGCATAGCAGGTTGCGTTGCGTGGCAGCGTGCCCACCACCTCCCGCTGGTTGCCCGTA'\n",
    "dna_sequence3 = 'AAAGTTGTGGTACTAATCGTATTGTTGCATTGACCCATAAAGATCCTCATTTTACAGAGCACATGAGATCCCGTTGGTATCAACGCCTGATTCTTATAGG'\n",
    "dna_sequence4 = 'GAGCGAGAGCTTACTGTGTGCTATCCCTCAAGATGCGTTGAAAAGTCAACTCACCAGATACTTAGGCCTGACGAGACATCGATTGCCGGTTCGAAAAGTG'\n",
    "\n",
    "# sequence 1\n",
    "As1 = 0\n",
    "Ts1 = 0\n",
    "Gs1 = 0\n",
    "Cs1 = 0\n",
    "\n",
    "for base in dna_sequence1:\n",
    "    \n",
    "    if base == 'G':\n",
    "        Gs1 += 1\n",
    "    elif base == 'T':\n",
    "        Ts1 += 1\n",
    "    elif base == 'A':\n",
    "        As1 += 1\n",
    "    elif base == 'C':\n",
    "        Cs1 += 1\n",
    "    \n",
    "print(\"GC%:\", (Gs1+Cs1)/(Gs1+Cs1+Ts1+As1))\n",
    "\n",
    "# sequence 2\n",
    "As2 = 0\n",
    "Ts2 = 0\n",
    "Gs2 = 0\n",
    "Cs2 = 0\n",
    "\n",
    "for base in dna_sequence2:\n",
    "    \n",
    "    if base == 'G':\n",
    "        Gs2 += 1\n",
    "    elif base == 'T':\n",
    "        Ts2 += 1\n",
    "    elif base == 'A':\n",
    "        As2 += 1\n",
    "    elif base == 'C':\n",
    "        Cs2 += 1\n",
    "    \n",
    "print(\"GC%:\", (Gs2+Cs2)/(Gs2+Cs2+Ts2+As2))\n",
    "\n",
    "\n",
    "# sequence 3\n",
    "As3 = 0\n",
    "Ts3 = 0\n",
    "Gs3 = 0\n",
    "Cs3 = 0\n",
    "\n",
    "for base in dna_sequence3:\n",
    "    \n",
    "    if base == 'G':\n",
    "        Gs3 += 1\n",
    "    elif base == 'T':\n",
    "        Ts3 += 1\n",
    "    elif base == 'A':\n",
    "        As3 += 1\n",
    "    elif base == 'C':\n",
    "        Cs3 += 1\n",
    "    \n",
    "print(\"GC%:\", (Gs3+Cs3)/(Gs3+Cs3+Ts3+As3))\n",
    "\n",
    "# sequence 4\n",
    "As4 = 0\n",
    "Ts4 = 0\n",
    "Gs4 = 0\n",
    "Cs4 = 0\n",
    "\n",
    "for base in dna_sequence4:\n",
    "    \n",
    "    if base == 'G':\n",
    "        Gs4 += 1\n",
    "    elif base == 'T':\n",
    "        Ts4 += 1\n",
    "    elif base == 'A':\n",
    "        As4 += 1\n",
    "    elif base == 'C':\n",
    "        Cs4 += 1\n",
    "    \n",
    "print(\"GC%:\", (Gs4+Cs4)/(Gs4+Cs4+Ts4+As4))"
   ]
  },
  {
   "cell_type": "markdown",
   "metadata": {},
   "source": [
    "## Add documentation to your functions"
   ]
  },
  {
   "cell_type": "markdown",
   "metadata": {},
   "source": [
    "If the first thing in a function is a string that isn’t assigned to a variable, that string is attached to the function as its documentation.  This is called a *docstring* and is in triple quotes.\n",
    "\n",
    "It can be helpful to describe each argument, including the intended data type. \n",
    "\n",
    "*Note: You can also use triple quotes elsewhere in code as generic multi-line comments.*\n",
    "\n"
   ]
  },
  {
   "cell_type": "code",
   "execution_count": 81,
   "metadata": {},
   "outputs": [],
   "source": [
    "def offset_mean(data, target_mean_value):\n",
    "   \"\"\"\n",
    "   Return a new array containing the original data\n",
    "   with its mean offset to match the desired value.\n",
    "   ------------------------------------------------\n",
    "   data (list) - n x m dimensional array\n",
    "   target_mean_value (float) - desired mean value\n",
    "   \"\"\"\n",
    "   return (data - average(data)) + target_mean_value"
   ]
  },
  {
   "cell_type": "code",
   "execution_count": 82,
   "metadata": {},
   "outputs": [
    {
     "name": "stdout",
     "output_type": "stream",
     "text": [
      "Help on function offset_mean in module __main__:\n",
      "\n",
      "offset_mean(data, target_mean_value)\n",
      "    Return a new array containing the original data\n",
      "    with its mean offset to match the desired value.\n",
      "    ------------------------------------------------\n",
      "    data (numpy.array) - n x m dimensional array\n",
      "    target_mean_value (float) - desired mean value\n",
      "\n"
     ]
    }
   ],
   "source": [
    "help(offset_mean)"
   ]
  },
  {
   "cell_type": "markdown",
   "metadata": {},
   "source": [
    "We can label each parameter with the desired data type, as well. Note that this will not enforce each data type, so you will need to build in checks to actually limit the data types of arguments."
   ]
  },
  {
   "cell_type": "code",
   "execution_count": 83,
   "metadata": {},
   "outputs": [
    {
     "name": "stdout",
     "output_type": "stream",
     "text": [
      "Not a number\n"
     ]
    }
   ],
   "source": [
    "def my_func(x:int):\n",
    "    print(x)\n",
    "\n",
    "my_func('Not a number')\n",
    "\n"
   ]
  },
  {
   "cell_type": "markdown",
   "metadata": {},
   "source": [
    "We can use conditionals to do these sorts of checks. If you don't mind having errors thrown, you can use an `assert` statement, which allows you to make a quick boolean expression check with custom error message. The general format is `assert BOOLEAN_EXPRESSION, ERROR_MESSAGE`."
   ]
  },
  {
   "cell_type": "code",
   "execution_count": 84,
   "metadata": {},
   "outputs": [
    {
     "ename": "AssertionError",
     "evalue": "Not a number is not int",
     "output_type": "error",
     "traceback": [
      "\u001b[0;31m---------------------------------------------------------------------------\u001b[0m",
      "\u001b[0;31mAssertionError\u001b[0m                            Traceback (most recent call last)",
      "\u001b[1;32m/Users/fordfishman/GitHub/python/sequential/functions.ipynb Cell 51'\u001b[0m in \u001b[0;36m<cell line: 5>\u001b[0;34m()\u001b[0m\n\u001b[1;32m      <a href='vscode-notebook-cell:/Users/fordfishman/GitHub/python/sequential/functions.ipynb#ch0000051?line=1'>2</a>\u001b[0m     \u001b[39massert\u001b[39;00m \u001b[39misinstance\u001b[39m(x, \u001b[39mint\u001b[39m), x \u001b[39m+\u001b[39m \u001b[39m\"\u001b[39m\u001b[39m is not int\u001b[39m\u001b[39m\"\u001b[39m\n\u001b[1;32m      <a href='vscode-notebook-cell:/Users/fordfishman/GitHub/python/sequential/functions.ipynb#ch0000051?line=2'>3</a>\u001b[0m     \u001b[39mprint\u001b[39m(x)\n\u001b[0;32m----> <a href='vscode-notebook-cell:/Users/fordfishman/GitHub/python/sequential/functions.ipynb#ch0000051?line=4'>5</a>\u001b[0m better_func(\u001b[39m'\u001b[39;49m\u001b[39mNot a number\u001b[39;49m\u001b[39m'\u001b[39;49m)\n",
      "\u001b[1;32m/Users/fordfishman/GitHub/python/sequential/functions.ipynb Cell 51'\u001b[0m in \u001b[0;36mbetter_func\u001b[0;34m(x)\u001b[0m\n\u001b[1;32m      <a href='vscode-notebook-cell:/Users/fordfishman/GitHub/python/sequential/functions.ipynb#ch0000051?line=0'>1</a>\u001b[0m \u001b[39mdef\u001b[39;00m \u001b[39mbetter_func\u001b[39m(x:\u001b[39mint\u001b[39m):\n\u001b[0;32m----> <a href='vscode-notebook-cell:/Users/fordfishman/GitHub/python/sequential/functions.ipynb#ch0000051?line=1'>2</a>\u001b[0m     \u001b[39massert\u001b[39;00m \u001b[39misinstance\u001b[39m(x, \u001b[39mint\u001b[39m), x \u001b[39m+\u001b[39m \u001b[39m\"\u001b[39m\u001b[39m is not int\u001b[39m\u001b[39m\"\u001b[39m\n\u001b[1;32m      <a href='vscode-notebook-cell:/Users/fordfishman/GitHub/python/sequential/functions.ipynb#ch0000051?line=2'>3</a>\u001b[0m     \u001b[39mprint\u001b[39m(x)\n",
      "\u001b[0;31mAssertionError\u001b[0m: Not a number is not int"
     ]
    }
   ],
   "source": [
    "def better_func(x:int):\n",
    "    assert isinstance(x, int), x + \" is not int\"\n",
    "    print(x)\n",
    "\n",
    "better_func('Not a number')"
   ]
  },
  {
   "cell_type": "markdown",
   "metadata": {},
   "source": [
    "## Readable Functions"
   ]
  },
  {
   "cell_type": "markdown",
   "metadata": {},
   "source": [
    "### Question 5:  \n",
    "Which one of these functions is more readable - `s()` or `std_dev()`? Why?"
   ]
  },
  {
   "cell_type": "code",
   "execution_count": 85,
   "metadata": {},
   "outputs": [],
   "source": [
    "def s(p):\n",
    "    a = 0\n",
    "    for v in p:\n",
    "        a += v\n",
    "    m = a / len(p)\n",
    "    d = 0\n",
    "    for v in p:\n",
    "        d += (v - m) * (v - m)\n",
    "    return (d / (len(p) - 1))**0.5\n",
    "\n",
    "\n",
    "\n",
    "def std_dev(sample):\n",
    "    sample_sum = 0\n",
    "    for value in sample:\n",
    "        sample_sum += value\n",
    "\n",
    "    sample_mean = sample_sum / len(sample)\n",
    "\n",
    "    sum_squared_devs = 0\n",
    "    for value in sample:\n",
    "        sum_squared_devs += (value - sample_mean) * (value - sample_mean)\n",
    "\n",
    "    return (sum_squared_devs / (len(sample) - 1))**(0.5)"
   ]
  },
  {
   "cell_type": "markdown",
   "metadata": {},
   "source": [
    "#### References\n",
    "This lesson is developed from the following resources:\n",
    "- http://swcarpentry.github.io/python-novice-gapminder/16-writing-functions/index.html\n",
    "- https://swcarpentry.github.io/python-novice-inflammation/08-func/index.html"
   ]
  }
 ],
 "metadata": {
  "kernelspec": {
   "display_name": "Python 3.9.12 ('workshop')",
   "language": "python",
   "name": "python3"
  },
  "language_info": {
   "codemirror_mode": {
    "name": "ipython",
    "version": 3
   },
   "file_extension": ".py",
   "mimetype": "text/x-python",
   "name": "python",
   "nbconvert_exporter": "python",
   "pygments_lexer": "ipython3",
   "version": "3.9.12"
  },
  "vscode": {
   "interpreter": {
    "hash": "5e5670abb08844f1af3bbc7bb9ef8e3b4ef400ad7b254432ac9e559b82ca9501"
   }
  }
 },
 "nbformat": 4,
 "nbformat_minor": 4
}
