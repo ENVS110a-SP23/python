{
 "cells": [
  {
   "cell_type": "markdown",
   "metadata": {},
   "source": [
    "# Python Data Structures\n",
    "\n",
    "Going over the fundmentals, we learned how to store numbers and sets of characters as variables. Python also has built-in ways to store multiple strings and numbers, namely **lists**, **tuples**, **dictionaries**, and **sets**. These all allow you to groups of ints, floats, and strings in different arrangements. Here, we created a `list` of 5 ints called `x`."
   ]
  },
  {
   "cell_type": "code",
   "execution_count": 1,
   "metadata": {},
   "outputs": [],
   "source": [
    "x = [ 1, 2, 3, 4, 5 ] # integers 1 - 5"
   ]
  },
  {
   "cell_type": "markdown",
   "metadata": {},
   "source": [
    "Here are brief descriptions of the four structures.\n",
    "\n",
    "- Lists: store data in a **specific order**\n",
    "- Dictionaries: store combinations of **keys** and **values** without any order\n",
    "- Tuples: store data in a specific order and **cannot** be altered\n",
    "- Sets: store unordered data\n",
    "\n",
    "We will dive into these in more detail below, focusing primarily on lists and dictionaries."
   ]
  },
  {
   "cell_type": "markdown",
   "metadata": {},
   "source": [
    "## Lists\n",
    "\n",
    "Lists are very common tools in Python. They allow us to store large amounts of data with an order. They come with very handy tools to reference different objects stored in them. We can also easily add items to them."
   ]
  },
  {
   "cell_type": "markdown",
   "metadata": {},
   "source": [
    "### Initialize a list\n",
    "There are two ways of initializing an empty list: `list()` and ` [] `. "
   ]
  },
  {
   "cell_type": "code",
   "execution_count": 2,
   "metadata": {},
   "outputs": [],
   "source": [
    "# these do the same thing\n",
    "my_list = list() \n",
    "your_list = []"
   ]
  },
  {
   "cell_type": "markdown",
   "metadata": {},
   "source": [
    "To make a list with pre-populated with items, we can fill the brackets with comma-separated values."
   ]
  },
  {
   "cell_type": "code",
   "execution_count": 3,
   "metadata": {},
   "outputs": [],
   "source": [
    "number_list = [ 0.1, 0.2, 0.3, 0.4 ] # lists can hold numbers\n",
    "string_list = [ 'cat', 'dog', 'rabbit' ] # can also hold strings"
   ]
  },
  {
   "cell_type": "markdown",
   "metadata": {},
   "source": [
    "### Referencing to items in a list"
   ]
  },
  {
   "cell_type": "markdown",
   "metadata": {},
   "source": [
    "Each item in a list has an **index**. If your list has 3 items, it has 3 indexes (or indicies, depending on who you ask). \n",
    "\n",
    "In Python, indexes starts at 0. To reference the first item in `number_list`, we use `number_list[0]`."
   ]
  },
  {
   "cell_type": "code",
   "execution_count": 4,
   "metadata": {},
   "outputs": [
    {
     "data": {
      "text/plain": [
       "0.1"
      ]
     },
     "execution_count": 4,
     "metadata": {},
     "output_type": "execute_result"
    }
   ],
   "source": [
    "number_list[0] # get the first item from number_list"
   ]
  },
  {
   "cell_type": "markdown",
   "metadata": {},
   "source": [
    "We can reference the rest of the numbers in the list with indexes 1 through 3. Note that even though there are 4 items in the list, the index goes from 0 to 3. \n",
    "\n",
    "We also can use the items in a list the same way we can use variables to do math or other operations."
   ]
  },
  {
   "cell_type": "code",
   "execution_count": 5,
   "metadata": {},
   "outputs": [
    {
     "name": "stdout",
     "output_type": "stream",
     "text": [
      "-0.2\n",
      "my favorite kind of animal is rabbit\n"
     ]
    }
   ],
   "source": [
    "print( number_list[1] - number_list[3] ) # 0.2 - 0.4 \n",
    "print( 'my favorite kind of animal is', string_list[2] ) # prints rabbit"
   ]
  },
  {
   "cell_type": "markdown",
   "metadata": {},
   "source": [
    "If we try to reference an index that does not exist in a list, we get an error."
   ]
  },
  {
   "cell_type": "code",
   "execution_count": 6,
   "metadata": {},
   "outputs": [
    {
     "ename": "IndexError",
     "evalue": "list index out of range",
     "output_type": "error",
     "traceback": [
      "\u001b[0;31m---------------------------------------------------------------------------\u001b[0m",
      "\u001b[0;31mIndexError\u001b[0m                                Traceback (most recent call last)",
      "\u001b[1;32m/Users/fordfishman/GitHub/envs110/python/notebooks/data-structures.ipynb Cell 15'\u001b[0m in \u001b[0;36m<cell line: 1>\u001b[0;34m()\u001b[0m\n\u001b[0;32m----> <a href='vscode-notebook-cell:/Users/fordfishman/GitHub/envs110/python/notebooks/data-structures.ipynb#ch0000014?line=0'>1</a>\u001b[0m number_list[\u001b[39m4\u001b[39;49m]\n",
      "\u001b[0;31mIndexError\u001b[0m: list index out of range"
     ]
    }
   ],
   "source": [
    "number_list[4]"
   ]
  },
  {
   "cell_type": "markdown",
   "metadata": {},
   "source": [
    "If we want to reference the last item in a list, we can do it two ways. We can use the length of list and subtract 1. Alternatively, we can also use `[-1]` as a shorthand for the last item."
   ]
  },
  {
   "cell_type": "code",
   "execution_count": null,
   "metadata": {},
   "outputs": [
    {
     "name": "stdout",
     "output_type": "stream",
     "text": [
      "0.4\n",
      "0.4\n"
     ]
    }
   ],
   "source": [
    "print( number_list[ len(number_list) - 1 ] )\n",
    "print( number_list[-1])"
   ]
  },
  {
   "cell_type": "markdown",
   "metadata": {},
   "source": [
    "## Slicing\n",
    "\n",
    "We can also use indexes to get several values back from a list at once, as well. This is known as **slicing**. `list[i:j]`. Slicing is inclusive for the first index (`i`) and exclusive for the last index (`j`). `list[i:j]` returns values from `i` to `j-1`."
   ]
  },
  {
   "cell_type": "code",
   "execution_count": 36,
   "metadata": {},
   "outputs": [
    {
     "data": {
      "text/plain": [
       "[0.2, 0.3]"
      ]
     },
     "execution_count": 36,
     "metadata": {},
     "output_type": "execute_result"
    }
   ],
   "source": [
    "number_list[1:3]\n"
   ]
  },
  {
   "cell_type": "markdown",
   "metadata": {},
   "source": [
    "### Question: Slicing\n",
    "\n",
    "What happens when you use only a single number before or after the `:`? What happens when you slice with `-1`?"
   ]
  },
  {
   "cell_type": "code",
   "execution_count": null,
   "metadata": {},
   "outputs": [],
   "source": []
  },
  {
   "cell_type": "markdown",
   "metadata": {},
   "source": [
    "### Appending to a list"
   ]
  },
  {
   "cell_type": "markdown",
   "metadata": {},
   "source": [
    "If we want to add an item to the end of `string_list`, we can use `string_list.append()`."
   ]
  },
  {
   "cell_type": "code",
   "execution_count": null,
   "metadata": {},
   "outputs": [
    {
     "name": "stdout",
     "output_type": "stream",
     "text": [
      "['cat', 'dog', 'rabbit', 'bear']\n"
     ]
    }
   ],
   "source": [
    "string_list.append('bear')\n",
    "print(string_list)"
   ]
  },
  {
   "cell_type": "markdown",
   "metadata": {},
   "source": [
    "### Reassigning an item in a list"
   ]
  },
  {
   "cell_type": "markdown",
   "metadata": {},
   "source": [
    "We can also alter any item currently in a list."
   ]
  },
  {
   "cell_type": "code",
   "execution_count": null,
   "metadata": {},
   "outputs": [
    {
     "name": "stdout",
     "output_type": "stream",
     "text": [
      "[2096, 0.2, 0.3, 0.4]\n"
     ]
    }
   ],
   "source": [
    "number_list[0] = 2096\n",
    "print(number_list)"
   ]
  },
  {
   "cell_type": "markdown",
   "metadata": {},
   "source": [
    "### Adding lists\n",
    "\n",
    "When we add lists with `+`, the two lists combine. Remember to save the output as a variable if you want to use the combined list later. "
   ]
  },
  {
   "cell_type": "code",
   "execution_count": 27,
   "metadata": {},
   "outputs": [
    {
     "name": "stdout",
     "output_type": "stream",
     "text": [
      "[1, 2, 3, 4, 5, 6, 7, 8]\n"
     ]
    }
   ],
   "source": [
    "x = [1,2,3,4]\n",
    "y = [5,6,7,8]\n",
    "\n",
    "z = x + y\n",
    "\n",
    "print(z)"
   ]
  },
  {
   "cell_type": "markdown",
   "metadata": {},
   "source": [
    "## Pop\n",
    "\n",
    "We can use `.pop()` to remove the last item from a list. We can save the popped item as a variable."
   ]
  },
  {
   "cell_type": "code",
   "execution_count": 41,
   "metadata": {},
   "outputs": [
    {
     "name": "stdout",
     "output_type": "stream",
     "text": [
      "altered list: ['nitrogen', 'oxygen', 'carbon_dioxide']\n",
      "popped item: phosphorus\n"
     ]
    }
   ],
   "source": [
    "new_list = ['nitrogen', 'oxygen', 'carbon_dioxide','phosphorus']\n",
    "removed_item = new_list.pop()\n",
    "print('altered list:', new_list)\n",
    "print('popped item:', removed_item)"
   ]
  },
  {
   "cell_type": "markdown",
   "metadata": {},
   "source": [
    "You can also pop a specific item out with an index, as well."
   ]
  },
  {
   "cell_type": "code",
   "execution_count": 42,
   "metadata": {},
   "outputs": [
    {
     "name": "stdout",
     "output_type": "stream",
     "text": [
      "altered list: ['oxygen', 'carbon_dioxide']\n",
      "popped item: nitrogen\n"
     ]
    }
   ],
   "source": [
    "removed_item = new_list.pop(0)\n",
    "print('altered list:', new_list)\n",
    "print('popped item:', removed_item)"
   ]
  },
  {
   "cell_type": "markdown",
   "metadata": {},
   "source": [
    "#### Question 1: Lists\n",
    "Create a list of numbers. Add the first number in the list to the last number of the list. Append this value to the list."
   ]
  },
  {
   "cell_type": "code",
   "execution_count": null,
   "metadata": {},
   "outputs": [],
   "source": [
    "### Your code here:\n"
   ]
  },
  {
   "cell_type": "markdown",
   "metadata": {},
   "source": [
    "### Question: More slicing\n",
    "Create a list with 6 items in it of any data type. Use slicing to retrieve the middle 4 items."
   ]
  },
  {
   "cell_type": "code",
   "execution_count": null,
   "metadata": {},
   "outputs": [],
   "source": [
    "## your code here:\n"
   ]
  },
  {
   "cell_type": "markdown",
   "metadata": {},
   "source": [
    "## Dictionaries\n",
    "Like lists, dictionaries are powerful ways to store items. However, the two structures are quite different from each other. Instead of storing items in a specific order, like a list, dictionaries store them as **keys** and **values**. For example, you might have a key `giraffes` paired with the value `25`, and the key `kangaroos` paired with the value `32`. We can do this with using brackets (`{ }`) and colons (`:`) with the format of `{ KEY1: VALUE1, KEY2: VALUE2, ... }`."
   ]
  },
  {
   "cell_type": "code",
   "execution_count": 8,
   "metadata": {},
   "outputs": [],
   "source": [
    "animals_dict = { 'giraffes': 25, 'kangaroos': 32 }"
   ]
  },
  {
   "cell_type": "markdown",
   "metadata": {},
   "source": [
    "Notice that our keys are strings and our values here are ints. Keys and values can be any data types, though it tends to be best practice for keys to be strings. \n",
    "\n",
    "We can also write this vertically, putting key-value pairs on their own lines for visual clarity. You will still need to separate entries with a comma, however."
   ]
  },
  {
   "cell_type": "code",
   "execution_count": 21,
   "metadata": {},
   "outputs": [],
   "source": [
    "animals_dict = { \n",
    "    'giraffes': 25, \n",
    "    'kangaroos': 32 \n",
    "}"
   ]
  },
  {
   "cell_type": "markdown",
   "metadata": {},
   "source": [
    "Once we create a dictionary with keys and values, we can use the key to return the corresponding value. We do this by using `DICT[KEY]`:"
   ]
  },
  {
   "cell_type": "code",
   "execution_count": 10,
   "metadata": {},
   "outputs": [
    {
     "data": {
      "text/plain": [
       "25"
      ]
     },
     "execution_count": 10,
     "metadata": {},
     "output_type": "execute_result"
    }
   ],
   "source": [
    "animals_dict['giraffes']"
   ]
  },
  {
   "cell_type": "markdown",
   "metadata": {},
   "source": [
    "Similarly to lists, if we try to reference a key that is not present in the dictionary, we will get an error."
   ]
  },
  {
   "cell_type": "code",
   "execution_count": 11,
   "metadata": {},
   "outputs": [
    {
     "ename": "KeyError",
     "evalue": "'beaver'",
     "output_type": "error",
     "traceback": [
      "\u001b[0;31m---------------------------------------------------------------------------\u001b[0m",
      "\u001b[0;31mKeyError\u001b[0m                                  Traceback (most recent call last)",
      "\u001b[1;32m/Users/fordfishman/GitHub/envs110/python/notebooks/data-structures.ipynb Cell 33'\u001b[0m in \u001b[0;36m<cell line: 1>\u001b[0;34m()\u001b[0m\n\u001b[0;32m----> <a href='vscode-notebook-cell:/Users/fordfishman/GitHub/envs110/python/notebooks/data-structures.ipynb#ch0000032?line=0'>1</a>\u001b[0m animals_dict[\u001b[39m'\u001b[39;49m\u001b[39mbeaver\u001b[39;49m\u001b[39m'\u001b[39;49m]\n",
      "\u001b[0;31mKeyError\u001b[0m: 'beaver'"
     ]
    }
   ],
   "source": [
    "animals_dict['beaver']"
   ]
  },
  {
   "cell_type": "markdown",
   "metadata": {},
   "source": [
    "However, dictionaries have a way around this. We can use the `.get()` function to either return a value for a key or a default value that we specify. We run it with `DICT.get(KEY, DEFAULT_VALUE)`."
   ]
  },
  {
   "cell_type": "code",
   "execution_count": 12,
   "metadata": {},
   "outputs": [
    {
     "data": {
      "text/plain": [
       "0"
      ]
     },
     "execution_count": 12,
     "metadata": {},
     "output_type": "execute_result"
    }
   ],
   "source": [
    "animals_dict.get('beaver', 0) # will return 0 because beaver is not a key in this dictionary"
   ]
  },
  {
   "cell_type": "markdown",
   "metadata": {},
   "source": [
    "Making an empty dictionary is similar to making an empty list. We can either use `dict()` or `{}`."
   ]
  },
  {
   "cell_type": "code",
   "execution_count": 13,
   "metadata": {},
   "outputs": [],
   "source": [
    "# these do the same thing\n",
    "my_dict = dict()\n",
    "your_dict = {}"
   ]
  },
  {
   "cell_type": "markdown",
   "metadata": {},
   "source": [
    "### Adding to a dictionary\n",
    "It is very simple to add a new item to a dictionary. Instead of using the colon notation, we can simply run `DICT[KEY] = VALUE`. "
   ]
  },
  {
   "cell_type": "code",
   "execution_count": 22,
   "metadata": {},
   "outputs": [
    {
     "name": "stdout",
     "output_type": "stream",
     "text": [
      "{'giraffes': 25, 'kangaroos': 32, 'moose': 43}\n"
     ]
    }
   ],
   "source": [
    "animals_dict['moose'] = 43 # new key-value pair - moose: 43\n",
    "print(animals_dict)"
   ]
  },
  {
   "cell_type": "markdown",
   "metadata": {},
   "source": [
    "### Give a key a new value\n",
    "Giving a key a new value works just like reassigning an item in a list. Note that this means that you cannot have two identical keys in the same dictionary."
   ]
  },
  {
   "cell_type": "code",
   "execution_count": 23,
   "metadata": {},
   "outputs": [
    {
     "name": "stdout",
     "output_type": "stream",
     "text": [
      "{'giraffes': 85, 'kangaroos': 32, 'moose': 43}\n"
     ]
    }
   ],
   "source": [
    "animals_dict['giraffes'] = 85 # key giraffes assigned the value of 85\n",
    "print(animals_dict)"
   ]
  },
  {
   "cell_type": "markdown",
   "metadata": {},
   "source": [
    "### Dictionary functions\n",
    "\n",
    "Dictionaries have several useful functions that are commonly used.\n",
    "\n",
    "For instance, we can use `.keys()` to get all of the keys in the dictionary."
   ]
  },
  {
   "cell_type": "code",
   "execution_count": 24,
   "metadata": {},
   "outputs": [
    {
     "data": {
      "text/plain": [
       "dict_keys(['giraffes', 'kangaroos', 'moose'])"
      ]
     },
     "execution_count": 24,
     "metadata": {},
     "output_type": "execute_result"
    }
   ],
   "source": [
    "animals_dict.keys()"
   ]
  },
  {
   "cell_type": "markdown",
   "metadata": {},
   "source": [
    "Similarly, `.values()` retrieves the values only."
   ]
  },
  {
   "cell_type": "code",
   "execution_count": 25,
   "metadata": {},
   "outputs": [
    {
     "data": {
      "text/plain": [
       "dict_values([85, 32, 43])"
      ]
     },
     "execution_count": 25,
     "metadata": {},
     "output_type": "execute_result"
    }
   ],
   "source": [
    "animals_dict.values()"
   ]
  },
  {
   "cell_type": "markdown",
   "metadata": {},
   "source": [
    "We can get pairs of keys and items too. This isn't better than printing at first blush, but it will be down the road. "
   ]
  },
  {
   "cell_type": "code",
   "execution_count": 26,
   "metadata": {},
   "outputs": [
    {
     "data": {
      "text/plain": [
       "dict_items([('giraffes', 85), ('kangaroos', 32), ('moose', 43)])"
      ]
     },
     "execution_count": 26,
     "metadata": {},
     "output_type": "execute_result"
    }
   ],
   "source": [
    "animals_dict.items()"
   ]
  },
  {
   "cell_type": "markdown",
   "metadata": {},
   "source": [
    "We can also add one dictionary to another dictionary with `.update()`."
   ]
  },
  {
   "cell_type": "code",
   "execution_count": 18,
   "metadata": {},
   "outputs": [
    {
     "data": {
      "text/plain": [
       "{'giraffes': 85, 'kangaroos': 32, 'moose': 43, 'zebras': 13, 'dinos': 0}"
      ]
     },
     "execution_count": 18,
     "metadata": {},
     "output_type": "execute_result"
    }
   ],
   "source": [
    "new_animals = {'zebras':13,'dinos': 0}\n",
    "animals_dict.update(new_animals)\n",
    "\n",
    "animals_dict"
   ]
  },
  {
   "cell_type": "markdown",
   "metadata": {},
   "source": [
    "#### Question 2: Dictionaries\n",
    "Assign the value of `giraffes` in `animal_dict` to a new key `rabbit` in the same dictionary."
   ]
  },
  {
   "cell_type": "code",
   "execution_count": null,
   "metadata": {},
   "outputs": [],
   "source": [
    "### your code here: \n"
   ]
  },
  {
   "cell_type": "markdown",
   "metadata": {},
   "source": [
    "## Tuples\n",
    "Tuples are a lot like lists. They are ordered collections of items that can be referenced with number indexing. However, they are **immutable**, meaning that once you create one, you cannot change it by adding to it or editing items in it. They are a somewhat more efficient to use, so they are situationally useful.\n",
    "\n",
    "You can create a new tuple with parentheses. Note that creating an empty tuple has little use, since it cannot be altered."
   ]
  },
  {
   "cell_type": "code",
   "execution_count": null,
   "metadata": {},
   "outputs": [],
   "source": [
    "my_tuple = ( 0, 1, 2, 4, 8 ) "
   ]
  },
  {
   "cell_type": "markdown",
   "metadata": {},
   "source": [
    "## Sets"
   ]
  },
  {
   "cell_type": "markdown",
   "metadata": {},
   "source": [
    "Sets are unordered collections of items. You can think about about them like dictionaries that only consist of keys. Like tuples, they are more situationally useful than lists or dictionaries. Like dictionaries, they also use `{}` but they do not use colons. "
   ]
  },
  {
   "cell_type": "code",
   "execution_count": null,
   "metadata": {},
   "outputs": [],
   "source": [
    "my_set = set() # the only way to initialize an empty set\n",
    "\n",
    "new_set = { 'lions', 'tigers', 'bears' } # without colons, NOT a dictionary"
   ]
  },
  {
   "cell_type": "markdown",
   "metadata": {},
   "source": [
    "We can add items to a list using `.add()`. However, if the item is already present in the set, only one copy will be kept in it. Therefore, sets keep a unique group of items."
   ]
  },
  {
   "cell_type": "code",
   "execution_count": null,
   "metadata": {},
   "outputs": [
    {
     "name": "stdout",
     "output_type": "stream",
     "text": [
      "{'oh my', 'tigers', 'lions', 'bears'}\n",
      "{'oh my', 'tigers', 'lions', 'bears'}\n"
     ]
    }
   ],
   "source": [
    "new_set.add('oh my') # oh my will now be a string in the set\n",
    "print(new_set)\n",
    "\n",
    "new_set.add('bears') # won't have two beats in the set\n",
    "print(new_set)"
   ]
  },
  {
   "cell_type": "markdown",
   "metadata": {},
   "source": [
    "#### Question 3: Structures\n",
    "\n",
    "For each of the following examples, should you use a list, dictionary, tuple, or set?\n",
    "\n",
    "1. A group of employees and their IDs.\n",
    "2. All 12 months in order.\n",
    "3. Your favorite foods ranked.\n",
    "4. All of the foods you have tried."
   ]
  },
  {
   "cell_type": "markdown",
   "metadata": {},
   "source": [
    "## Nested structures\n",
    "\n",
    "We can place data structures within other data structures as well. These new structures are referred to as **nested data structures**, and they are powerful.\n",
    "\n",
    "We have lists containing lists, dictionaries containing dictionaries, dictionaries containing lists, and much more. "
   ]
  },
  {
   "cell_type": "code",
   "execution_count": 32,
   "metadata": {},
   "outputs": [
    {
     "name": "stdout",
     "output_type": "stream",
     "text": [
      "nested list: [['a', 'b', 'c'], ['e', 'f', 'g'], ['h', 'i', 'j']]\n",
      "{'s1': {'co2': [10.2, 3.4, 10.1], 'n': 23, 'city': 'Waltham'}, 's2': {'co2': [4.2, 2.3, 3.5], 'n': 4, 'city': 'Watertown'}}\n"
     ]
    }
   ],
   "source": [
    "# list of lists\n",
    "list1 = ['a','b','c']\n",
    "list2 = ['e','f','g']\n",
    "list3 = ['h','i','j']\n",
    "large_list = [list1, list2, list3]\n",
    "print('nested list:',large_list)\n",
    "\n",
    "# dictionary of dictionaries\n",
    "sample1 = {\n",
    "    'co2': [10.2, 3.4, 10.1], \n",
    "    'n': 23, \n",
    "    'city':'Waltham'\n",
    "}\n",
    "sample2 = {\n",
    "    'co2': [4.2, 2.3, 3.5], \n",
    "    'n': 4, \n",
    "    'city':'Watertown'\n",
    "}\n",
    "\n",
    "samples = {'s1': sample1, 's2':sample2}\n",
    "print(samples)\n"
   ]
  },
  {
   "cell_type": "markdown",
   "metadata": {},
   "source": [
    "Indexing and referencing items in these nested structures can get quite complicated. It's important to know the full nested structure when doing these references."
   ]
  },
  {
   "cell_type": "code",
   "execution_count": 33,
   "metadata": {},
   "outputs": [
    {
     "name": "stdout",
     "output_type": "stream",
     "text": [
      "c\n",
      "Waltham\n",
      "4.2\n"
     ]
    }
   ],
   "source": [
    "print(large_list[0][2])\n",
    "\n",
    "print(samples['s1']['city'])\n",
    "\n",
    "print(samples['s2']['co2'][0])"
   ]
  },
  {
   "cell_type": "markdown",
   "metadata": {},
   "source": [
    "### Question \n",
    "Create a list that contains and empty list, an empty dictionary, an empty tuple, and an empty set.\n",
    "\n",
    "Then, add any new item to the nested list and the set, and add a key-item pair to the dictionary."
   ]
  },
  {
   "cell_type": "code",
   "execution_count": null,
   "metadata": {},
   "outputs": [],
   "source": [
    "# your code here:\n"
   ]
  },
  {
   "cell_type": "markdown",
   "metadata": {},
   "source": [
    "### Question\n",
    "\n",
    "We want to store information regarding the ecological community in the local area.\n",
    "\n",
    "In Rivertown, there are 12 species of frogs, 2 species of snakes, and 20 species of birds. \n",
    "\n",
    "In Spring Valley, there are 4 species of frogs, 1 species of snake, 2 species of birds, and 13 species of rodents.\n",
    "\n",
    "In Ice Town, there are 4 species of birds, 6 species of rodents, and 1 species of bear.\n",
    "\n",
    "Store this information in one nested data structure."
   ]
  },
  {
   "cell_type": "code",
   "execution_count": null,
   "metadata": {},
   "outputs": [],
   "source": [
    "# your code here:\n"
   ]
  }
 ],
 "metadata": {
  "kernelspec": {
   "display_name": "Python 3.9.12 ('base')",
   "language": "python",
   "name": "python3"
  },
  "language_info": {
   "codemirror_mode": {
    "name": "ipython",
    "version": 3
   },
   "file_extension": ".py",
   "mimetype": "text/x-python",
   "name": "python",
   "nbconvert_exporter": "python",
   "pygments_lexer": "ipython3",
   "version": "3.9.12"
  },
  "orig_nbformat": 4,
  "vscode": {
   "interpreter": {
    "hash": "b52b534d3e8b2df8a7f375ea8b488ed7c2e546a5d77230d70bd2c6badbd8c861"
   }
  }
 },
 "nbformat": 4,
 "nbformat_minor": 2
}
