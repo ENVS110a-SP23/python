{
 "cells": [
  {
   "cell_type": "markdown",
   "metadata": {},
   "source": [
    "# Python Fundamentals\n",
    "\n",
    "Python is a very powerful tool for automating tasks that would otherwise be time-consuming or impossible to do by hand or other conventional tools. Here, we'll go over basic ways to use Python to introduce you to a slice of its potential.\n",
    "\n"
   ]
  },
  {
   "cell_type": "markdown",
   "metadata": {},
   "source": [
    "## Markdown\n",
    "\n",
    "Jupyter notebooks consist of text cells and code cells. Text cells are written in the language Markdown, which allows for straightforward text formatting. When it is executed, Markdown renders into HTML. Here is some basic ways to specify formatting in Markdown:\n",
    "\n",
    "# Heading 1\n",
    "## Heading 2\n",
    "### Heading 3\n",
    "\n",
    "- unordered\n",
    "- list\n",
    "- of \n",
    "- things\n",
    "\n",
    "1. Ordered\n",
    "2. list\n",
    "3. of\n",
    "4. things\n",
    "\n",
    "*italics*\n",
    "\n",
    "**boldface**\n",
    "\n",
    "[A link](www.google.com)\n",
    "\n",
    "![An image](https://www.palmpressinc.com/wp-content/uploads/cc_resize/3704-700x0.jpg)\n",
    "\n",
    "`Inline code`\n",
    "\n",
    "Inline LaTeX math equation: $x^2 + 3$\n",
    "\n",
    "Block LaTeX math equation:\n",
    "$$ \\frac{dy}{dx} = \\sqrt{a^x} $$\n",
    "\n",
    "To run a cell and render it, hit <kbd>Shift</kbd> + <kbd>Enter</kbd>. You can re-edit this cell by selecting a cell and hitting <kbd>Enter</kbd> or by double clicking.\n",
    "\n",
    "For more on Markdown, check out [this cheatsheet](https://www.markdownguide.org/cheat-sheet/)."
   ]
  },
  {
   "cell_type": "markdown",
   "metadata": {},
   "source": [
    "## Python cells\n",
    "\n",
    "Our Python will live in code cells. These cells will highlight different types of works and variables as different colors, which will provide a visual aid. \n",
    "\n",
    "Below is a code block showing some Python code showing what code coloring might look like this, with the printed output of the process below it:\n",
    "\n",
    "To run a code cell, you should be able to click a button on the cell. You may also be able to alternate between putting a cell into Edit and Command modes. Depending on where you are running Jupyter, you should also have very handy keyboard shortcuts. For instance:\n",
    "\n",
    "- Toggle between modes: <kbd>Esc</kbd> and <kbd>Enter</kbd>\n",
    "- Run cell: <kbd>Ctrl</kbd> + <kbd>Enter</kbd> or <kbd>Shift</kbd> + <kbd>Enter</kbd> \n",
    "- Add a cell above: <kbd>A</kbd> \n",
    "- Add a cell below: <kbd>B</kbd>"
   ]
  },
  {
   "cell_type": "markdown",
   "metadata": {},
   "source": [
    "### Question 1.  Do it yourself! Coding"
   ]
  },
  {
   "cell_type": "code",
   "execution_count": 3,
   "metadata": {},
   "outputs": [
    {
     "name": "stdout",
     "output_type": "stream",
     "text": [
      "\n"
     ]
    }
   ],
   "source": [
    "#  INSTRUCTIONS:   Write a message in the quotes.\n",
    "#  type Shift+Enter to run the cell.\n",
    "message = ''\n",
    "\n",
    "print(message)"
   ]
  },
  {
   "cell_type": "markdown",
   "metadata": {},
   "source": [
    "## Python as a calculator"
   ]
  },
  {
   "cell_type": "markdown",
   "metadata": {},
   "source": [
    "An incredibly simple yet pivotal role of Python is to perform math calculations (addition, subtraction, multiplication, etc.). We show how to basic action below.\n",
    "\n",
    "You'll see the symbol `#` used often. These are comments, and they are used to write descriptions. Any characters following `#` are not run or executed."
   ]
  },
  {
   "cell_type": "code",
   "execution_count": 31,
   "metadata": {},
   "outputs": [
    {
     "data": {
      "text/plain": [
       "23"
      ]
     },
     "execution_count": 31,
     "metadata": {},
     "output_type": "execute_result"
    }
   ],
   "source": [
    "3 + 4 * 5  # addition and multiplication "
   ]
  },
  {
   "cell_type": "markdown",
   "metadata": {},
   "source": [
    "After we run a cell, an output is displayed below. \n",
    "\n",
    "You may have noticed from that example that order of operations mattered for that calculation. You can parentheses too if you want to group calculations"
   ]
  },
  {
   "cell_type": "code",
   "execution_count": 32,
   "metadata": {},
   "outputs": [
    {
     "data": {
      "text/plain": [
       "6.0"
      ]
     },
     "execution_count": 32,
     "metadata": {},
     "output_type": "execute_result"
    }
   ],
   "source": [
    "12 / (6 - 4) # division and substraction"
   ]
  },
  {
   "cell_type": "markdown",
   "metadata": {},
   "source": [
    "Exponentiation (e.g. $2^3$) looks a little bit odd in Python as it uses `**` instead of a more traditional `^`."
   ]
  },
  {
   "cell_type": "code",
   "execution_count": 33,
   "metadata": {},
   "outputs": [
    {
     "data": {
      "text/plain": [
       "8"
      ]
     },
     "execution_count": 33,
     "metadata": {},
     "output_type": "execute_result"
    }
   ],
   "source": [
    "2 ** 3 # exponentiation"
   ]
  },
  {
   "cell_type": "markdown",
   "metadata": {},
   "source": [
    "#### Question 2: Calculate the following value in Python: $ \\frac{25}{(35 - 3)^3} $"
   ]
  },
  {
   "cell_type": "code",
   "execution_count": 34,
   "metadata": {},
   "outputs": [],
   "source": [
    "### Put your answer below: "
   ]
  },
  {
   "cell_type": "markdown",
   "metadata": {},
   "source": [
    "## Assigning Variables\n",
    "A foundational tool in Python is assigning values to variables. We do this with the `=` operator."
   ]
  },
  {
   "cell_type": "code",
   "execution_count": 35,
   "metadata": {},
   "outputs": [],
   "source": [
    "x = 50 # x is 50"
   ]
  },
  {
   "cell_type": "markdown",
   "metadata": {},
   "source": [
    "This sets the variable `x` to be 50, an **integer**, or `int`. This value of x is now stored in our notebook, and we can access this value in other cells until the notebook is reset. For instance, subtracting 20 from `x` prints out a value of 30."
   ]
  },
  {
   "cell_type": "code",
   "execution_count": 36,
   "metadata": {},
   "outputs": [
    {
     "data": {
      "text/plain": [
       "30"
      ]
     },
     "execution_count": 36,
     "metadata": {},
     "output_type": "execute_result"
    }
   ],
   "source": [
    "# What if I use x again in a different cell?\n",
    "x - 20"
   ]
  },
  {
   "cell_type": "markdown",
   "metadata": {},
   "source": [
    "**Variables persist between cells once they have been run (executed).**"
   ]
  },
  {
   "cell_type": "markdown",
   "metadata": {},
   "source": [
    "If we ever want to check the value of any variable, we can use the built-in `print()` command to display the value. "
   ]
  },
  {
   "cell_type": "code",
   "execution_count": 1,
   "metadata": {},
   "outputs": [
    {
     "name": "stdout",
     "output_type": "stream",
     "text": [
      "35\n"
     ]
    }
   ],
   "source": [
    "y = 35\n",
    "print(y)"
   ]
  },
  {
   "cell_type": "markdown",
   "metadata": {},
   "source": [
    "We can also assign the value of one variable to another variable. If we execute `x = y`, x takes the current value of `y` and assigns that to `x`.\n",
    "\n",
    "*Note: `y` will be unaffected by this assignment. `x = y` should be interpretted as \"let x take the current value of y\".*"
   ]
  },
  {
   "cell_type": "code",
   "execution_count": 2,
   "metadata": {},
   "outputs": [
    {
     "name": "stdout",
     "output_type": "stream",
     "text": [
      "35\n",
      "35\n"
     ]
    }
   ],
   "source": [
    "x = y\n",
    "print(x)\n",
    "print(y)"
   ]
  },
  {
   "cell_type": "markdown",
   "metadata": {},
   "source": [
    "If we change `y` to be a different value, `x` will be unaffected."
   ]
  },
  {
   "cell_type": "code",
   "execution_count": 3,
   "metadata": {},
   "outputs": [
    {
     "name": "stdout",
     "output_type": "stream",
     "text": [
      "35\n",
      "3.8\n"
     ]
    }
   ],
   "source": [
    "y = 3.8\n",
    "print(x) # will not always be the same value as y\n",
    "print(y)"
   ]
  },
  {
   "cell_type": "markdown",
   "metadata": {},
   "source": [
    "**Basic variables only change value when something is assigned to them.**\n",
    "They are **not** like spreadsheets where a cell can depend on another and update automatically."
   ]
  },
  {
   "cell_type": "markdown",
   "metadata": {},
   "source": [
    "### Question: Assigning Variables \n",
    "\n",
    "Create a variable named `pineapple` with the value `23` and a variable `banana` with the value `-50`. Store the product of these variables in a new variable named `apple`. "
   ]
  },
  {
   "cell_type": "code",
   "execution_count": null,
   "metadata": {},
   "outputs": [],
   "source": [
    "# your code below:\n"
   ]
  },
  {
   "cell_type": "markdown",
   "metadata": {},
   "source": [
    "### Question 3.  Swapping Values\n",
    "Given the code below, what is the value of the variable `swap` by the end of the block?"
   ]
  },
  {
   "cell_type": "code",
   "execution_count": null,
   "metadata": {},
   "outputs": [],
   "source": [
    "x = 1.0\n",
    "y = 3.0\n",
    "swap = x\n",
    "x = y\n",
    "y = swap "
   ]
  },
  {
   "cell_type": "code",
   "execution_count": null,
   "metadata": {},
   "outputs": [],
   "source": [
    "print(swap)"
   ]
  },
  {
   "cell_type": "markdown",
   "metadata": {},
   "source": [
    "**What's in a name?** _Variable name conventions_\n",
    "- Use only letters, digits, and underscores _\n",
    "- Start with a letter (typically lower case)\n",
    "- Variable names are case sensitive\n",
    "- Use meaningful names!\n",
    "\n",
    "**Variables must be created before they are used.** Otherwise, Python will throw an error."
   ]
  },
  {
   "cell_type": "code",
   "execution_count": 29,
   "metadata": {},
   "outputs": [
    {
     "ename": "NameError",
     "evalue": "name 'z' is not defined",
     "output_type": "error",
     "traceback": [
      "\u001b[0;31m---------------------------------------------------------------------------\u001b[0m",
      "\u001b[0;31mNameError\u001b[0m                                 Traceback (most recent call last)",
      "\u001b[1;32m/Users/fordfishman/GitHub/python/python-session1.ipynb Cell 26'\u001b[0m in \u001b[0;36m<cell line: 1>\u001b[0;34m()\u001b[0m\n\u001b[0;32m----> <a href='vscode-notebook-cell:/Users/fordfishman/GitHub/python/python-session1.ipynb#ch0000020?line=0'>1</a>\u001b[0m \u001b[39mprint\u001b[39m(z)\n",
      "\u001b[0;31mNameError\u001b[0m: name 'z' is not defined"
     ]
    }
   ],
   "source": [
    "print(z) # we haven't initialized z yet!"
   ]
  },
  {
   "cell_type": "markdown",
   "metadata": {},
   "source": [
    "In the following example, we specify a value for a variable after we print it. This will not work. Within a cell, the statements are executed from top to bottom. If the Python interpreter finds an error, execution stops."
   ]
  },
  {
   "cell_type": "code",
   "execution_count": null,
   "metadata": {},
   "outputs": [],
   "source": [
    "print(last_name) # last name does not exist yet\n",
    "# What happens if I try to correct my error in the same cell?\n",
    "last_name='Montoya'\n",
    "print(last_name)"
   ]
  },
  {
   "cell_type": "markdown",
   "metadata": {},
   "source": [
    "If we want to increase a value of a variable by a certain, we can use the `+=` operator. Here, we add 2 to the current value of x."
   ]
  },
  {
   "cell_type": "code",
   "execution_count": 4,
   "metadata": {},
   "outputs": [
    {
     "name": "stdout",
     "output_type": "stream",
     "text": [
      "35\n",
      "37\n"
     ]
    }
   ],
   "source": [
    "print(x) # before incrementing\n",
    "x += 2 \n",
    "print(x) # after incrementing"
   ]
  },
  {
   "cell_type": "markdown",
   "metadata": {},
   "source": [
    "This is equivalent to running `x = x + 2`. We can also do similar operations with subtraction, multiplication, and division."
   ]
  },
  {
   "cell_type": "code",
   "execution_count": 6,
   "metadata": {},
   "outputs": [
    {
     "name": "stdout",
     "output_type": "stream",
     "text": [
      "subtraction: 6\n",
      "multiplication: 24\n",
      "division: 4.0\n"
     ]
    }
   ],
   "source": [
    "x = 8\n",
    "x -= 2 # 8 - 2\n",
    "print(\"subtraction:\", x)\n",
    "x *= 4 # 6 * 4\n",
    "print(\"multiplication:\", x)\n",
    "x /= 6 # 24 / 6\n",
    "print(\"division:\", x)\n"
   ]
  },
  {
   "cell_type": "markdown",
   "metadata": {},
   "source": [
    "#### Question 4: `a` has been initialized to be 25. Assign variable `b` to be 5 less than `a` without using `b = 20`. Print the value of b.\n"
   ]
  },
  {
   "cell_type": "code",
   "execution_count": null,
   "metadata": {},
   "outputs": [],
   "source": [
    "a = 25\n",
    "# write your code here:"
   ]
  },
  {
   "cell_type": "markdown",
   "metadata": {},
   "source": [
    "## Strings\n",
    "\n",
    "So far, we have only assigned integer values to variables. We can also assign values characters to variables. These are called **strings**. You can specify a string by putting text within either single quotation (`'single'`) or double quotation marks (`\"double\"`)."
   ]
  },
  {
   "cell_type": "code",
   "execution_count": null,
   "metadata": {},
   "outputs": [
    {
     "name": "stdout",
     "output_type": "stream",
     "text": [
      "Inigo Montoya\n"
     ]
    }
   ],
   "source": [
    "my_name = \"Inigo Montoya\"\n",
    "print(my_name)"
   ]
  },
  {
   "cell_type": "markdown",
   "metadata": {},
   "source": [
    "We can print out a string directly in `print()`, as well."
   ]
  },
  {
   "cell_type": "code",
   "execution_count": null,
   "metadata": {},
   "outputs": [
    {
     "name": "stdout",
     "output_type": "stream",
     "text": [
      "My name is\n",
      "Inigo Montoya\n"
     ]
    }
   ],
   "source": [
    "print(\"My name is\")\n",
    "print(my_name) # will print on a second line"
   ]
  },
  {
   "cell_type": "markdown",
   "metadata": {},
   "source": [
    "We can also print out multiple values in a single `print()` statement."
   ]
  },
  {
   "cell_type": "code",
   "execution_count": null,
   "metadata": {},
   "outputs": [
    {
     "name": "stdout",
     "output_type": "stream",
     "text": [
      "My name is Inigo Montoya\n"
     ]
    }
   ],
   "source": [
    "print(\"My name is\", my_name) # print() adds a space between the values"
   ]
  },
  {
   "cell_type": "markdown",
   "metadata": {},
   "source": [
    "If we print out a string with an integer variable, it will convert the integer to a string in order to print it."
   ]
  },
  {
   "cell_type": "code",
   "execution_count": null,
   "metadata": {},
   "outputs": [
    {
     "name": "stdout",
     "output_type": "stream",
     "text": [
      "I would like 25 balloons.\n"
     ]
    }
   ],
   "source": [
    "num_balloons = 25\n",
    "print(\"I would like\", num_balloons, \"balloons.\")"
   ]
  },
  {
   "cell_type": "markdown",
   "metadata": {},
   "source": [
    "#### Question 5: What will happen if you run this code?"
   ]
  },
  {
   "cell_type": "code",
   "execution_count": null,
   "metadata": {},
   "outputs": [
    {
     "ename": "NameError",
     "evalue": "name 'Montoya' is not defined",
     "output_type": "error",
     "traceback": [
      "\u001b[0;31m---------------------------------------------------------------------------\u001b[0m",
      "\u001b[0;31mNameError\u001b[0m                                 Traceback (most recent call last)",
      "\u001b[1;32m/Users/fordfishman/GitHub/python/python-session1.ipynb Cell 40'\u001b[0m in \u001b[0;36m<cell line: 1>\u001b[0;34m()\u001b[0m\n\u001b[0;32m----> <a href='vscode-notebook-cell:/Users/fordfishman/GitHub/python/python-session1.ipynb#ch0000037?line=0'>1</a>\u001b[0m last_name \u001b[39m=\u001b[39m Montoya\n\u001b[1;32m      <a href='vscode-notebook-cell:/Users/fordfishman/GitHub/python/python-session1.ipynb#ch0000037?line=1'>2</a>\u001b[0m \u001b[39mprint\u001b[39m(last_name)\n",
      "\u001b[0;31mNameError\u001b[0m: name 'Montoya' is not defined"
     ]
    }
   ],
   "source": [
    "last_name = Montoya\n",
    "print(last_name)"
   ]
  },
  {
   "cell_type": "markdown",
   "metadata": {},
   "source": [
    "## Data Types:\n",
    "- integers (`int`) represent positive or negative whole numbers like 3 or -512\n",
    "- floating point numbers (`float`) represent real numbers like 3.14159 or -2.5 \n",
    "- character strings (`str`) are text\n",
    "   - written with single or double quotes (matching)\n",
    "   - quotations aren't printed when the string is displayed"
   ]
  },
  {
   "cell_type": "code",
   "execution_count": null,
   "metadata": {},
   "outputs": [
    {
     "name": "stdout",
     "output_type": "stream",
     "text": [
      "<class 'int'>\n",
      "<class 'int'>\n",
      "<class 'str'>\n",
      "<class 'float'>\n"
     ]
    }
   ],
   "source": [
    "# Find the type with function type()\n",
    "print(type(52))\n",
    "print(type(\"Inigo Montoya\"))\n",
    "print(type(3.14))\n",
    "\n",
    "# notice we are nesting functions -> type() is inside of print()"
   ]
  },
  {
   "cell_type": "markdown",
   "metadata": {},
   "source": [
    "### Combining and adding data types"
   ]
  },
  {
   "cell_type": "markdown",
   "metadata": {},
   "source": [
    "The `+` operator concatenates (adds) strings together. However if you try to add an integer and a string, you will receive an error. "
   ]
  },
  {
   "cell_type": "code",
   "execution_count": null,
   "metadata": {},
   "outputs": [
    {
     "name": "stdout",
     "output_type": "stream",
     "text": [
      "several concatenated strings\n"
     ]
    }
   ],
   "source": [
    "print(\"several\" + \" concatenated\" + \" strings\") # need to manually add spaces when concatenating"
   ]
  },
  {
   "cell_type": "code",
   "execution_count": null,
   "metadata": {},
   "outputs": [
    {
     "ename": "TypeError",
     "evalue": "unsupported operand type(s) for +: 'int' and 'str'",
     "output_type": "error",
     "traceback": [
      "\u001b[0;31m---------------------------------------------------------------------------\u001b[0m",
      "\u001b[0;31mTypeError\u001b[0m                                 Traceback (most recent call last)",
      "\u001b[1;32m/Users/fordfishman/GitHub/python/python-session1.ipynb Cell 17'\u001b[0m in \u001b[0;36m<cell line: 1>\u001b[0;34m()\u001b[0m\n\u001b[0;32m----> <a href='vscode-notebook-cell:/Users/fordfishman/GitHub/python/python-session1.ipynb#ch0000016?line=0'>1</a>\u001b[0m \u001b[39mprint\u001b[39m(\u001b[39m1\u001b[39;49m \u001b[39m+\u001b[39;49m \u001b[39m\"\u001b[39;49m\u001b[39m hat\u001b[39;49m\u001b[39m\"\u001b[39;49m)\n",
      "\u001b[0;31mTypeError\u001b[0m: unsupported operand type(s) for +: 'int' and 'str'"
     ]
    }
   ],
   "source": [
    "print(1 + \"2\") # adding string to int doesn't work"
   ]
  },
  {
   "cell_type": "markdown",
   "metadata": {},
   "source": [
    "We can convert an `int` to a `string` with the `str()` function to combine them. We must convert numbers to strings or vice versa when operating on them. Consistency is key!"
   ]
  },
  {
   "cell_type": "code",
   "execution_count": null,
   "metadata": {},
   "outputs": [
    {
     "name": "stdout",
     "output_type": "stream",
     "text": [
      "3\n",
      "12\n"
     ]
    }
   ],
   "source": [
    "print(1+int('2')) # convert string to int to do addition\n",
    "print(str(1)+'2') # convert int to string to concatenate"
   ]
  },
  {
   "cell_type": "markdown",
   "metadata": {},
   "source": [
    "However, we can mix integers and floats freely in operations. This will result in the final value being a float."
   ]
  },
  {
   "cell_type": "code",
   "execution_count": null,
   "metadata": {},
   "outputs": [
    {
     "name": "stdout",
     "output_type": "stream",
     "text": [
      "half is 0.5\n",
      "three squared is 9.0\n"
     ]
    }
   ],
   "source": [
    "print('half is', 1/2.0\n",
    "print('three squared is', 3.0 ** 2)"
   ]
  },
  {
   "cell_type": "markdown",
   "metadata": {},
   "source": [
    "### Length\n",
    "Strings have length (how many characters long they are), which can find with `len()`. Floats and ints do not have length."
   ]
  },
  {
   "cell_type": "code",
   "execution_count": null,
   "metadata": {},
   "outputs": [
    {
     "name": "stdout",
     "output_type": "stream",
     "text": [
      "13\n"
     ]
    }
   ],
   "source": [
    "print( len(\"a long string\") ) # spaces count in length"
   ]
  },
  {
   "cell_type": "code",
   "execution_count": null,
   "metadata": {},
   "outputs": [],
   "source": [
    "print( len(3.1415) ) # will get n error"
   ]
  },
  {
   "cell_type": "markdown",
   "metadata": {},
   "source": [
    "### Division Types with numbers\n",
    "- `//` operator performs integer floor division (rounds down to nearest integer)\n",
    "- `/` operator performs floating point division (returns a number with a decimal point)\n",
    "- `%` modulo operator returns the remainder from integer division"
   ]
  },
  {
   "cell_type": "code",
   "execution_count": null,
   "metadata": {},
   "outputs": [
    {
     "name": "stdout",
     "output_type": "stream",
     "text": [
      "1\n",
      "1.6666666666666667\n",
      "2\n"
     ]
    }
   ],
   "source": [
    "print(5//3)\n",
    "print(5/3)\n",
    "print(5%3)"
   ]
  },
  {
   "cell_type": "markdown",
   "metadata": {},
   "source": [
    "### Question 6.  Choose a type (int, float, str) that each of these descriptions should be:\n",
    "- Time elapsed from the start of the year until now in days.\n",
    "- Serial code of a piece of lab equipment\n",
    "- A lab specimen's age\n"
   ]
  },
  {
   "cell_type": "markdown",
   "metadata": {},
   "source": [
    "### Question: Quadratic formula\n",
    "\n",
    "A quadratic equation has the following form:\n",
    "\n",
    "$$0 = ax^2 + bx + c$$\n",
    "\n",
    "We can use the quadratic forumula (below) to find the roots of a quadratic equation.\n",
    "\n",
    "$$x = \\frac{-b\\pm\\sqrt{b^2-4ac}}{2a}$$\n",
    "\n",
    "Create variables $a$, $b$, and $c$ with the value of $4$, $-25$, and $20$, respectively.\n",
    "\n",
    "Calculate the values of $x$ for a quadratic equation with $a=4$, $b=-25$, and $c = 20$. Remember to calculate the values for both plus and minus ($\\pm$). \n"
   ]
  },
  {
   "cell_type": "markdown",
   "metadata": {},
   "source": [
    "## Challenge Project \n",
    "\n"
   ]
  },
  {
   "cell_type": "code",
   "execution_count": null,
   "metadata": {},
   "outputs": [],
   "source": [
    "first  = 1.0\n",
    "second = \"1\"\n",
    "third  = \"1.1\""
   ]
  },
  {
   "cell_type": "markdown",
   "metadata": {},
   "source": [
    "Which of the following will return the floating point number `2.0`?"
   ]
  },
  {
   "cell_type": "code",
   "execution_count": null,
   "metadata": {},
   "outputs": [
    {
     "data": {
      "text/plain": [
       "2.0"
      ]
     },
     "execution_count": 65,
     "metadata": {},
     "output_type": "execute_result"
    }
   ],
   "source": [
    "# first + float(second)          # choice a\n",
    "# float(second) + float(third)   # choice b\n",
    "# first + int(third)             # choice c\n",
    "# first + int(float(third))      # choice d\n",
    "# int(first) + int(float(third)) # choice e\n",
    "# 2.0 * second                   # choice f"
   ]
  },
  {
   "cell_type": "markdown",
   "metadata": {},
   "source": [
    "Follow along with materials and sessions at <a href=\"https://deisdata.github.io\">https://deisdata.github.io</a>.\n",
    "\n",
    "**Reference and Resource**\n",
    "\n",
    "This lesson is adapted from \n",
    "<a href='http://swcarpentry.github.io/python-novice-gapminder/design/'>Software Carpentry.</a>"
   ]
  }
 ],
 "metadata": {
  "kernelspec": {
   "display_name": "Python 3.9.12 ('base')",
   "language": "python",
   "name": "python3"
  },
  "language_info": {
   "codemirror_mode": {
    "name": "ipython",
    "version": 3
   },
   "file_extension": ".py",
   "mimetype": "text/x-python",
   "name": "python",
   "nbconvert_exporter": "python",
   "pygments_lexer": "ipython3",
   "version": "3.9.12"
  },
  "vscode": {
   "interpreter": {
    "hash": "b52b534d3e8b2df8a7f375ea8b488ed7c2e546a5d77230d70bd2c6badbd8c861"
   }
  }
 },
 "nbformat": 4,
 "nbformat_minor": 4
}
