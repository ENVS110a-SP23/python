{
 "cells": [
  {
   "cell_type": "markdown",
   "metadata": {},
   "source": [
    "# Correlation and linear models"
   ]
  },
  {
   "cell_type": "code",
   "execution_count": 12,
   "metadata": {},
   "outputs": [
    {
     "data": {
      "text/html": [
       "<div>\n",
       "<style scoped>\n",
       "    .dataframe tbody tr th:only-of-type {\n",
       "        vertical-align: middle;\n",
       "    }\n",
       "\n",
       "    .dataframe tbody tr th {\n",
       "        vertical-align: top;\n",
       "    }\n",
       "\n",
       "    .dataframe thead th {\n",
       "        text-align: right;\n",
       "    }\n",
       "</style>\n",
       "<table border=\"1\" class=\"dataframe\">\n",
       "  <thead>\n",
       "    <tr style=\"text-align: right;\">\n",
       "      <th></th>\n",
       "      <th>station</th>\n",
       "      <th>name</th>\n",
       "      <th>date</th>\n",
       "      <th>temp</th>\n",
       "      <th>diurnal_temp_range</th>\n",
       "      <th>precip-total</th>\n",
       "      <th>snow-totals</th>\n",
       "    </tr>\n",
       "  </thead>\n",
       "  <tbody>\n",
       "    <tr>\n",
       "      <th>0</th>\n",
       "      <td>USW00054704</td>\n",
       "      <td>NORWOOD MEMORIAL AIRPORT, MA US</td>\n",
       "      <td>1</td>\n",
       "      <td>25.9</td>\n",
       "      <td>19.7</td>\n",
       "      <td>3.43</td>\n",
       "      <td>NaN</td>\n",
       "    </tr>\n",
       "    <tr>\n",
       "      <th>1</th>\n",
       "      <td>USW00054704</td>\n",
       "      <td>NORWOOD MEMORIAL AIRPORT, MA US</td>\n",
       "      <td>2</td>\n",
       "      <td>28.9</td>\n",
       "      <td>21.0</td>\n",
       "      <td>3.25</td>\n",
       "      <td>NaN</td>\n",
       "    </tr>\n",
       "    <tr>\n",
       "      <th>2</th>\n",
       "      <td>USW00054704</td>\n",
       "      <td>NORWOOD MEMORIAL AIRPORT, MA US</td>\n",
       "      <td>3</td>\n",
       "      <td>36.4</td>\n",
       "      <td>21.5</td>\n",
       "      <td>4.45</td>\n",
       "      <td>NaN</td>\n",
       "    </tr>\n",
       "    <tr>\n",
       "      <th>3</th>\n",
       "      <td>USW00054704</td>\n",
       "      <td>NORWOOD MEMORIAL AIRPORT, MA US</td>\n",
       "      <td>4</td>\n",
       "      <td>46.8</td>\n",
       "      <td>22.7</td>\n",
       "      <td>4.19</td>\n",
       "      <td>NaN</td>\n",
       "    </tr>\n",
       "    <tr>\n",
       "      <th>4</th>\n",
       "      <td>USW00054704</td>\n",
       "      <td>NORWOOD MEMORIAL AIRPORT, MA US</td>\n",
       "      <td>5</td>\n",
       "      <td>56.4</td>\n",
       "      <td>24.9</td>\n",
       "      <td>3.68</td>\n",
       "      <td>NaN</td>\n",
       "    </tr>\n",
       "  </tbody>\n",
       "</table>\n",
       "</div>"
      ],
      "text/plain": [
       "       station                             name  date  temp  \\\n",
       "0  USW00054704  NORWOOD MEMORIAL AIRPORT, MA US     1  25.9   \n",
       "1  USW00054704  NORWOOD MEMORIAL AIRPORT, MA US     2  28.9   \n",
       "2  USW00054704  NORWOOD MEMORIAL AIRPORT, MA US     3  36.4   \n",
       "3  USW00054704  NORWOOD MEMORIAL AIRPORT, MA US     4  46.8   \n",
       "4  USW00054704  NORWOOD MEMORIAL AIRPORT, MA US     5  56.4   \n",
       "\n",
       "   diurnal_temp_range  precip-total  snow-totals  \n",
       "0                19.7          3.43          NaN  \n",
       "1                21.0          3.25          NaN  \n",
       "2                21.5          4.45          NaN  \n",
       "3                22.7          4.19          NaN  \n",
       "4                24.9          3.68          NaN  "
      ]
     },
     "execution_count": 12,
     "metadata": {},
     "output_type": "execute_result"
    }
   ],
   "source": [
    "import numpy as np\n",
    "import pandas as pd\n",
    "import matplotlib.pyplot as plt\n",
    "import seaborn as sns\n",
    "import scipy.stats as stats\n",
    "\n",
    "df = pd.read_csv('../data/boston_precip_temp.csv')\n",
    "df.head()\n"
   ]
  },
  {
   "cell_type": "markdown",
   "metadata": {},
   "source": [
    "## Correlation\n",
    "Often in data analysis, we want to determine if there is a relationship between two values. Using a scatter plot with each variable on an axis is a great way to do a qualitative first pass at this. You can then see if one value increases with the other one, or if one decreases when the other increases."
   ]
  },
  {
   "cell_type": "code",
   "execution_count": 2,
   "metadata": {},
   "outputs": [],
   "source": [
    "df_sub = df.loc[(df['snow-totals']>0) & (df['snow-totals'].notnull()) & (df['temp'].notnull()),:].reset_index(drop=True)\n",
    "\n"
   ]
  },
  {
   "cell_type": "markdown",
   "metadata": {},
   "source": [
    "Scipy has a function called `pearsonr()` that calculates correlation between a pair of variables. It also calculates a p-value, which is the probability of seeing a correlation this extreme if the true correlation is zero. \n",
    "\n",
    "The documentation does note that the p-values are not super reliable for sample sizes below 500. "
   ]
  },
  {
   "cell_type": "code",
   "execution_count": null,
   "metadata": {},
   "outputs": [],
   "source": []
  },
  {
   "cell_type": "markdown",
   "metadata": {},
   "source": [
    "You can also calculate correlation values between all possible pairs of numerical variables and display these in a matrix plot using a method built into pandas data frames called `corr()`."
   ]
  },
  {
   "cell_type": "code",
   "execution_count": null,
   "metadata": {},
   "outputs": [],
   "source": []
  },
  {
   "cell_type": "code",
   "execution_count": null,
   "metadata": {},
   "outputs": [],
   "source": []
  },
  {
   "cell_type": "markdown",
   "metadata": {},
   "source": [
    "### Question\n",
    "\n",
    "Load in the gapminder data set. Calculate correlations between the numerical variables. Which are highly positively correlated? Which are highly negatively correlated?"
   ]
  },
  {
   "cell_type": "code",
   "execution_count": 17,
   "metadata": {},
   "outputs": [],
   "source": [
    "gap = pd.read_csv('../data/gapminder.csv')\n",
    "\n",
    "## your code here"
   ]
  },
  {
   "cell_type": "markdown",
   "metadata": {},
   "source": [
    "## Linear regression\n",
    "We can further quantify the relationship between two variables by using linear regression. At its simplest, linear regression tries to find a line that fits our data the closest. Essentially, we want our line to be as close as possible to all points. \n",
    "\n",
    "You may remember that a line in algebra has the equation $y = mx + b$. In linear regression, we are trying to construct a line with essentially that same formula. In linear regression, $y$ is called the dependent variable, and it is typically the value we are trying to predict. We try to predict the value using $x$, the independent variable. We call $y$ the dependent variable because in our equation, its value depends on $x$. \n",
    "\n",
    "In the equation of a line above, $m$ is the slope of the line. In linear regression, we label the slope as $\\beta_1$ instead of $m$, and we call it the regression coefficient. When we increase $x$ by 1 unit, the amount that y changes will depend on the size and sign of $\\beta_1$. \n",
    "\n",
    "Similarly, $b$ is the intercept, or where the line crosses the $y$ intercept. In linear regression, this is still sometimes referred to as the intercept coefficient, and we label it as $\\beta_0$ . It represents the prediction for $y$ when $x$ is zero.\n",
    "\n",
    "Therefore, the line we make in linear regression has the formula:\n",
    "\n",
    "$$y = \\beta_0+\\beta_1x$$\n",
    "\n",
    "Linear regression uses an algorithm called ordinary least squares to find the best values of $\\beta_0$ and $\\beta_1$ for your variables. This process results in a linear model, and the process is called fitting a linear model. "
   ]
  },
  {
   "cell_type": "code",
   "execution_count": 70,
   "metadata": {},
   "outputs": [
    {
     "data": {
      "image/png": "[encoded data removed]",
      "text/plain": [
       "<Figure size 432x288 with 1 Axes>"
      ]
     },
     "metadata": {
      "needs_background": "light"
     },
     "output_type": "display_data"
    }
   ],
   "source": [
    "sns.scatterplot(data=df_sub, x='temp', y='snow-totals' )\n",
    "plt.show()"
   ]
  },
  {
   "cell_type": "markdown",
   "metadata": {},
   "source": [
    "### Question\n",
    "Be your own linear regression! Change `b0` and `b1` to get them to match the relationship of the data as closely as possible. "
   ]
  },
  {
   "cell_type": "code",
   "execution_count": null,
   "metadata": {},
   "outputs": [],
   "source": []
  },
  {
   "cell_type": "markdown",
   "metadata": {},
   "source": [
    "statsmodels is another python library with statistical tools. It has great tools for running linear regressions.\n",
    "\n",
    "Specifically, we're going to use the submodule `statsmoduls.formula.api`.\n",
    "\n",
    "Within this module we will use the `ols()` function, which takes in two primary parameters: `formula`, and `data`. The data is your pandas data frame. \n",
    "\n",
    "`formula` essentially lets you tell the model which columns are the dependent and independent variables. The column name on left will be the dependent variable ($y$), the variable we are trying to predict, and the one the right is the independent variables ($x$), our predictor. \n",
    "\n",
    "We separate the two with a `~`, which you can kind of think of as the equal sign in the equation.\n",
    "\n",
    "Make sure the formula is all in quotes! Additionally, if the column names have certain characters, like dashes or spaces, statsmodels doesn't like this, and we have to specify `Q(\"colname\")`.\n",
    "\n",
    "**Make sure to run `.fit()` on the model to actually run the regression.**\n"
   ]
  },
  {
   "cell_type": "code",
   "execution_count": 71,
   "metadata": {},
   "outputs": [],
   "source": []
  },
  {
   "cell_type": "markdown",
   "metadata": {},
   "source": [
    "It can be easier to get around this by just changing the column names. "
   ]
  },
  {
   "cell_type": "code",
   "execution_count": 72,
   "metadata": {},
   "outputs": [],
   "source": []
  },
  {
   "cell_type": "markdown",
   "metadata": {},
   "source": [
    "### Residuals\n",
    "Linear regression uses values of $x$ to predict $y$ using the model we have just fit. However, the predicted values from the model are not always correct. The differences between the predictions from the model and the actual values are called residuals. It's important that residuals have certain qualities, as discussed below.  \n",
    "\n",
    "Residuals that are positive means that the prediction from the line is too low, and residuals that are negative means the prediction was too high.\n",
    "\n",
    "![model residuals](https://dfrrh0itwp1ti.cloudfront.net/img/a/probability-and-statistics/regression/residual/residual.png)\n",
    "\n",
    "Ordinary least squares (OLS) tries to minimize these residuals. Specifically, it minimizes the square of the residuals, since residuals can have negative values. "
   ]
  },
  {
   "cell_type": "markdown",
   "metadata": {},
   "source": [
    "### Diagnostic plots\n",
    "Linear regression is a great tool for evaluating relationships between variables, but it may not always be appropriate for your data. It makes several assumptions about your data, and if these assumptions are not met, linear regression may not be appropriate. \n",
    "\n",
    "There are some standard plots to look at to evaluate if your regression may be violating any assumptions.\n",
    "\n",
    "These \"standard\" plots are unfortunately not implemented by default in statsmodels. I've added them to a **script** called `utils.py` containing functions of importance. \n",
    "\n",
    "1. Residual vs fitted\n",
    "   - This a scatter plot of our residuals against the predicted (values) with a red line showing any relationship. We want to see a horizontal line to indicate that the size of the residuals are not related to the fitted values. In general, we also want to see an equal spread of the residuals above and below the line across all of the fitted values. Consider transforming your data if one of these is not the case. "
   ]
  },
  {
   "cell_type": "code",
   "execution_count": null,
   "metadata": {},
   "outputs": [],
   "source": []
  },
  {
   "cell_type": "markdown",
   "metadata": {},
   "source": [
    "2. Q-Q plot\n",
    "   - Also called a Quantile-Quantile plot. Plots our residuals against theoretical values. If the points on the plot roughly fall on the diagonal one-to-one line, our residuals are normally distributed. Otherwise, you may have non-normally distributed data. If so, consider transforming your data (or using a different type of model). "
   ]
  },
  {
   "cell_type": "code",
   "execution_count": null,
   "metadata": {},
   "outputs": [],
   "source": []
  },
  {
   "cell_type": "markdown",
   "metadata": {},
   "source": [
    "3. Scale-location \n",
    "   - Similar to the residual vs fitted, we want to see a horizontal line, and equal spread across all of the fitted values. Consider transforming your data if one of these is not the case. "
   ]
  },
  {
   "cell_type": "code",
   "execution_count": null,
   "metadata": {},
   "outputs": [],
   "source": []
  },
  {
   "cell_type": "markdown",
   "metadata": {},
   "source": [
    "4. Residuals vs Leverage\n",
    "   - Used to detect outliers. If there are points well outside the red dotted lines (may not appear if you have no outliers) in the top or bottom right of the plot, you may consider removing these points from your analysis. \n"
   ]
  },
  {
   "cell_type": "code",
   "execution_count": null,
   "metadata": {},
   "outputs": [],
   "source": []
  },
  {
   "cell_type": "markdown",
   "metadata": {},
   "source": [
    "## Regression summary\n",
    "When we check the summary of a linear model, we are presented with several lines of text. We are going to focus on the important parts of the table necessary for analysis. \n",
    "\n",
    "The second column has information about R-squared. R-squared is a measure of how much of the variance* in your data is explained by the model. It is a proportion, so it can be between 0 and 1. This row lists both Multiple R-squared and Adjusted R-squared. You should always use Adjusted R-squared for reasons covered later.\n",
    "\n",
    "The F-statistic is a statistic measuring if there is a relationship between the predictors we have used and the dependent variable. The larger it is, the better, and a p-value (\"Prob F-statistic\") less than 0.05 suggests that the relationship is real. Again, technically, the p-value is the probability of seeing an F-statistic that large given your model and sample size if there is no relationship between $x$ and $y$. \n",
    "\n",
    "The summary also displays information about the $\\beta$ coefficients. It lists the intercept ($\\beta_0$) first, followed by the coefficient representing your independent variable ($\\beta_1$). In the “Estimate” column, this is the actual fitted value of $\\beta_0$ and $\\beta_1$. \n",
    "\n",
    "The “std err” column is a measure of how precise this estimate is. The smaller the standard error is relative to the estimate is, the better.\n",
    "\n",
    "Like t-tests, regressions also have t-values. Here, the t-values are the coefficient values divided by the standard error. The larger these values, the better, but the thresholds for what values we are looking for changes with our model and the sample size. \n",
    "\n",
    "Thankfully, the summary knows what these conditions are, and provides p-values “(Pr>|t|)” for us. P-values are probabilities. Here, they are the probability of getting the coefficient and standard error values we got if the true value were zero. For $\\beta_1$, this is the probability that our coefficient estimate could have generated by a sample of the same size where x and y had no relationship or correlation. \n",
    "\n",
    "We call the situation where the true value of the coefficient is zero the null hypothesis. If the p-value is small, typically below 0.05, we reject the null hypothesis, and our data supports the alternative hypothesis that the value of the coefficient is not zero, and that the best estimate of its value is the estimate the model has made. \n",
    "\n",
    "*Note: variance is technically its own statistic, which can be calculated as the square of standard deviation.\n"
   ]
  },
  {
   "cell_type": "code",
   "execution_count": null,
   "metadata": {},
   "outputs": [],
   "source": []
  },
  {
   "cell_type": "markdown",
   "metadata": {},
   "source": [
    "We can take the coefficient our model estimated and use them to make our line. "
   ]
  },
  {
   "cell_type": "code",
   "execution_count": 3,
   "metadata": {},
   "outputs": [],
   "source": [
    "b0 = \n",
    "b1 = \n",
    "\n",
    "x = np.linspace(22, 55, 1000)\n",
    "y = b0 + x*b1 \n",
    "\n",
    "sns.scatterplot(data=df_sub, x='temp', y='snow-totals' )\n",
    "sns.lineplot(x=x, y=y)\n",
    "plt.show()"
   ]
  },
  {
   "cell_type": "markdown",
   "metadata": {},
   "source": [
    "### Question\n",
    "\n",
    "Work in groups. Using the gapminder dataset, create models predicting life expectancy with different numerical variables. Which columns give the highest R-squared values as predictors?"
   ]
  },
  {
   "cell_type": "code",
   "execution_count": 63,
   "metadata": {},
   "outputs": [],
   "source": [
    "### your code\n"
   ]
  }
 ],
 "metadata": {
  "kernelspec": {
   "display_name": "Python 3.9.12 ('base')",
   "language": "python",
   "name": "python3"
  },
  "language_info": {
   "codemirror_mode": {
    "name": "ipython",
    "version": 3
   },
   "file_extension": ".py",
   "mimetype": "text/x-python",
   "name": "python",
   "nbconvert_exporter": "python",
   "pygments_lexer": "ipython3",
   "version": "3.9.12"
  },
  "orig_nbformat": 4,
  "vscode": {
   "interpreter": {
    "hash": "b52b534d3e8b2df8a7f375ea8b488ed7c2e546a5d77230d70bd2c6badbd8c861"
   }
  }
 },
 "nbformat": 4,
 "nbformat_minor": 2
}
