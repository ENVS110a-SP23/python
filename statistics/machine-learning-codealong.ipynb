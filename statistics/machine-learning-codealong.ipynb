{
 "cells": [
  {
   "cell_type": "markdown",
   "metadata": {},
   "source": [
    "# Basic machine learning\n",
    "\n",
    "Machine learning is a somewhat of a buzz term today, particularly a subset of it called deep learning or AI. But what is it?\n",
    "\n",
    "Essentially, machine learning is just fancy statistics. We build models, some of which are the same as models we've already made in class, and we use these models to make predictions on new data. \n",
    "\n",
    "An important subset of machine learning is deep learning, also called AI, which uses algorithms designed to mimic the connection between neurons. However, at their base, deep learning is essentially just a fancy regression.\n",
    "\n",
    "There are a wide variety of algorithms in machine learning, and there are many ways to group them. One such is way is to group them into **regression** versus **classification** algorithms. Regression algorithms do what we have already done with linear regression: use information in a data set to predict a continuous variable, which in machine learning is called the **target** variable. Classification is essentially the same, except that the target variable is **categorical**.\n",
    "\n",
    "To do machine learning, we will be use a very useful package called [`scikit-learn`](https://scikit-learn.org/stable/index.html), which has everything we need to get started with basic machine learning. "
   ]
  },
  {
   "cell_type": "code",
   "execution_count": 1,
   "metadata": {},
   "outputs": [],
   "source": [
    "import numpy as np\n",
    "import pandas as pd\n",
    "import matplotlib.pyplot as plt\n",
    "\n",
    "penguins = pd.read_csv('../data/penguins.csv')\n",
    "penguins.head()\n"
   ]
  },
  {
   "cell_type": "markdown",
   "metadata": {},
   "source": [
    "Our data set has missing data. `scikit-learn` doesn't handle missing data as well as some of the libraries we've used before. "
   ]
  },
  {
   "cell_type": "code",
   "execution_count": 27,
   "metadata": {},
   "outputs": [],
   "source": [
    "penguins = penguins"
   ]
  },
  {
   "cell_type": "markdown",
   "metadata": {},
   "source": [
    "We also need to take the target variable out of rest of the data set. We label the target variable as `y`, and the remaining variables as `X`. We often call `X` our features or our feature set. "
   ]
  },
  {
   "cell_type": "code",
   "execution_count": null,
   "metadata": {},
   "outputs": [],
   "source": []
  },
  {
   "cell_type": "markdown",
   "metadata": {},
   "source": [
    "`scikit-learn` also does not not automatically make dummy variables,so we need to do this ourselves."
   ]
  },
  {
   "cell_type": "code",
   "execution_count": null,
   "metadata": {},
   "outputs": [],
   "source": []
  },
  {
   "cell_type": "markdown",
   "metadata": {},
   "source": [
    "## Training and test data\n",
    "\n",
    "A key differentiator between machine learning and a standard regression approach is with the way we fit our model.\n",
    "\n",
    "In the regression we've done in the past, we use all of our data to fit our model. This gives us the most power to test our hypotheses and determine whether or not our data show that there are relationships between variables.\n",
    "\n",
    "In machine learning, the emphasis is less on describing these relationships and testing hypotheses, and more on prediction. We want to make sure that when we give our model new information, it makes accurate predictions.\n",
    "\n",
    "We do this by fitting our model on only part of our data, instead of all of it. We call this subset the **training set**. \n",
    "\n",
    "What this allows us to do is use the remainder of the data set to test how good our model was. We call the remaining data the **test set**, and we want our model to make good prediction on the test set, despite having never seen those data before."
   ]
  },
  {
   "cell_type": "code",
   "execution_count": null,
   "metadata": {},
   "outputs": [],
   "source": []
  },
  {
   "cell_type": "markdown",
   "metadata": {},
   "source": [
    "The train-test split is randomly generated from our data set with a 75-25 split. We can manually change this proportion, as well as providing a random seed to make sure you get the same split each time."
   ]
  },
  {
   "cell_type": "code",
   "execution_count": null,
   "metadata": {},
   "outputs": [],
   "source": []
  },
  {
   "cell_type": "markdown",
   "metadata": {},
   "source": [
    "## Linear regression but machine learning\n",
    "\n",
    "We can actually use the exact same algorithms we used for standard linear regression, but with a machine learning approach.\n",
    "\n",
    "OLS works the same using all of our data versus just our training set. However, we'll use the `scikit-learn` version. "
   ]
  },
  {
   "cell_type": "code",
   "execution_count": null,
   "metadata": {},
   "outputs": [],
   "source": [
    "\n"
   ]
  },
  {
   "cell_type": "markdown",
   "metadata": {},
   "source": [
    "We can use `.score()` to see how well our model does. For regression models, this method returns the R-squared for the X and y data you give it. "
   ]
  },
  {
   "cell_type": "code",
   "execution_count": null,
   "metadata": {},
   "outputs": [],
   "source": []
  },
  {
   "cell_type": "code",
   "execution_count": null,
   "metadata": {},
   "outputs": [],
   "source": []
  },
  {
   "cell_type": "markdown",
   "metadata": {},
   "source": [
    "We can take a look at the size of the coefficients in our model to see how each variable is affecting the model."
   ]
  },
  {
   "cell_type": "code",
   "execution_count": 2,
   "metadata": {},
   "outputs": [],
   "source": [
    "coefficients = model.coef_\n",
    "\n",
    "fig, ax = plt.subplots(figsize=(10,5))\n",
    "# bar plot \n",
    "plt.xticks(rotation=45);"
   ]
  },
  {
   "cell_type": "markdown",
   "metadata": {},
   "source": [
    "## Other algorithms\n",
    "\n",
    "Some data will be difficult for linear regression to handle. These can include data that have complex or non-linear relationships.\n",
    "\n",
    "One such algorithm is called **decision trees**. This algorithm takes our data and splits it into two branches. For instance, we could split our data into samples that are the species Gentoo, and samples that aren't, and make a prediction based on this distinction. These predictions are called the **leaves** of the tree.\n",
    "\n",
    "![Decision tree](../images/Decision_trees_depth1.png)\n",
    "\n",
    "Decision trees can also have more layers and splits. In this way, we can have leaves with fewer samples and more specific predictions. \n",
    "\n",
    "![Decision tree depth 2](../images/Decision_trees_depth2.png)\n",
    "\n",
    "The more splits a tree has, the higher **depth** it has. The actual splits will be determined by the data you have. \n",
    "\n",
    "On their own, decision trees tend to perform poorly. However, when you train many trees as use them together, they can perform much better. One such machine learning algorithm that does is called **random forest regression**. This algorithm trains many decision trees and uses each tree essentially as a vote for what the final prediction is. \n",
    "\n"
   ]
  },
  {
   "cell_type": "code",
   "execution_count": 36,
   "metadata": {},
   "outputs": [
    {
     "data": {
      "text/plain": [
       "RandomForestRegressor()"
      ]
     },
     "execution_count": 36,
     "metadata": {},
     "output_type": "execute_result"
    }
   ],
   "source": [
    "# random forest"
   ]
  },
  {
   "cell_type": "markdown",
   "metadata": {},
   "source": [
    "We can still use the same scoring function, giving us the R-squared of our model for training and test set."
   ]
  },
  {
   "cell_type": "code",
   "execution_count": null,
   "metadata": {},
   "outputs": [],
   "source": []
  },
  {
   "cell_type": "markdown",
   "metadata": {},
   "source": [
    "You'll notice that our model was nearly perfect at predicting the training set, but performs about as well on the test set. "
   ]
  },
  {
   "cell_type": "code",
   "execution_count": null,
   "metadata": {},
   "outputs": [],
   "source": []
  },
  {
   "cell_type": "markdown",
   "metadata": {},
   "source": [
    "Model selection is a very key part of machine learning. Here, we see that our random forest model performed no better on the test set than the linear regression model did. This suggests that the relationships in our data are relatively simple. However, there are many machine learning algorithms out there (SVM, gradient boosted trees, deep learning models, etc.) to consider, and each have situations where they might perform better than the other. A key point in many machine learning algorithms is samples size: the more complex the algorithm, the larger the sample size you'll need to take advantage of it. "
   ]
  },
  {
   "cell_type": "markdown",
   "metadata": {},
   "source": [
    "## Forecasting with Machine Learning\n",
    "\n",
    "We can also use a machine learning approach to forecasting. Here, we can make a training test split, but we shouldn't make it random. Instead, we can make the first part of the time series the training set, and the latter part the test set. \n",
    "\n",
    "Our model will only be trained on the training set, and we can use the test set to see how well our model performed. "
   ]
  },
  {
   "cell_type": "code",
   "execution_count": 39,
   "metadata": {},
   "outputs": [
    {
     "data": {
      "text/html": [
       "<div>\n",
       "<style scoped>\n",
       "    .dataframe tbody tr th:only-of-type {\n",
       "        vertical-align: middle;\n",
       "    }\n",
       "\n",
       "    .dataframe tbody tr th {\n",
       "        vertical-align: top;\n",
       "    }\n",
       "\n",
       "    .dataframe thead th {\n",
       "        text-align: right;\n",
       "    }\n",
       "</style>\n",
       "<table border=\"1\" class=\"dataframe\">\n",
       "  <thead>\n",
       "    <tr style=\"text-align: right;\">\n",
       "      <th></th>\n",
       "      <th>year</th>\n",
       "      <th>temp</th>\n",
       "    </tr>\n",
       "  </thead>\n",
       "  <tbody>\n",
       "    <tr>\n",
       "      <th>0</th>\n",
       "      <td>1901</td>\n",
       "      <td>8.59</td>\n",
       "    </tr>\n",
       "    <tr>\n",
       "      <th>1</th>\n",
       "      <td>1902</td>\n",
       "      <td>8.39</td>\n",
       "    </tr>\n",
       "    <tr>\n",
       "      <th>2</th>\n",
       "      <td>1903</td>\n",
       "      <td>7.95</td>\n",
       "    </tr>\n",
       "    <tr>\n",
       "      <th>3</th>\n",
       "      <td>1904</td>\n",
       "      <td>8.09</td>\n",
       "    </tr>\n",
       "    <tr>\n",
       "      <th>4</th>\n",
       "      <td>1905</td>\n",
       "      <td>8.40</td>\n",
       "    </tr>\n",
       "  </tbody>\n",
       "</table>\n",
       "</div>"
      ],
      "text/plain": [
       "   year  temp\n",
       "0  1901  8.59\n",
       "1  1902  8.39\n",
       "2  1903  7.95\n",
       "3  1904  8.09\n",
       "4  1905  8.40"
      ]
     },
     "execution_count": 39,
     "metadata": {},
     "output_type": "execute_result"
    }
   ],
   "source": [
    "us_temp = pd.read_csv('../data/usa-annual-temp.csv')\n",
    "us_temp.head()"
   ]
  },
  {
   "cell_type": "code",
   "execution_count": 40,
   "metadata": {},
   "outputs": [
    {
     "data": {
      "image/png": "[encoded data removed]",
      "text/plain": [
       "<Figure size 432x288 with 1 Axes>"
      ]
     },
     "metadata": {
      "needs_background": "light"
     },
     "output_type": "display_data"
    }
   ],
   "source": [
    "us_temp['year'] = pd.to_datetime(us_temp['year'], format='%Y')\n",
    "us_temp = us_temp.set_index('year')\n",
    "\n",
    "fig, ax = plt.subplots()\n",
    "ax.plot(us_temp)\n",
    "ax.set_xlabel('Year')\n",
    "ax.set_ylabel('Temperature (C)');"
   ]
  },
  {
   "cell_type": "markdown",
   "metadata": {},
   "source": [
    "We can split our data into training and test sets manually here, but again, we want our training set to be the first part of the time series, and the test set to be the end. We have about a 75:25 split here. "
   ]
  },
  {
   "cell_type": "code",
   "execution_count": null,
   "metadata": {},
   "outputs": [],
   "source": []
  },
  {
   "cell_type": "markdown",
   "metadata": {},
   "source": [
    "We can then fit the model to the training set. "
   ]
  },
  {
   "cell_type": "code",
   "execution_count": 3,
   "metadata": {},
   "outputs": [],
   "source": [
    "from pmdarima import auto_arima\n",
    "\n",
    "auto_arima_model = auto_arima( )\n",
    "auto_arima_model.summary()"
   ]
  },
  {
   "cell_type": "code",
   "execution_count": 43,
   "metadata": {},
   "outputs": [],
   "source": [
    "# training prediction"
   ]
  },
  {
   "cell_type": "code",
   "execution_count": 44,
   "metadata": {},
   "outputs": [],
   "source": [
    "# test prediction"
   ]
  },
  {
   "cell_type": "code",
   "execution_count": 4,
   "metadata": {},
   "outputs": [],
   "source": [
    "fig, ax = plt.subplots(figsize=(14,6))\n",
    "ax.plot(us_temp,label='Observed Data')\n",
    "ax.plot(predict_train[1:], label='Training Prediction')\n",
    "ax.plot(predict_test, label='Test Prediction')\n",
    "ax.fill_between(predict_test.index, ci[:,0], ci[:,1], color = 'gray', alpha=0.5)\n",
    "ax.legend();\n"
   ]
  },
  {
   "cell_type": "markdown",
   "metadata": {},
   "source": [
    "Our model performs decently for several years but slowly begins to perform more poorly over time. Predicting the future is inherently difficult, and the further out you go, the more difficult it becomes. \n",
    "\n",
    "This can especially be the case when the data in the training set do not resemble the test set. The increasing trend in the test set does not resemble the training set. A model can only be as good as the data you provide it. \n",
    "\n",
    "There are also more powerful ways to build machine learning forecasting models. For more information, you can view [this article from Kaggle](https://www.kaggle.com/code/ryanholbrook/forecasting-with-machine-learning#Defining-the-Forecasting-Task)."
   ]
  },
  {
   "cell_type": "markdown",
   "metadata": {},
   "source": [
    "## Some resources\n",
    "\n",
    "A lot of machine learning is understanding why your model didn't perform as well as it could have, and making changes to account for that. These changes can come in a lot of different flavors, and it takes a lot of practice to know what direction to go. But it also takes being willing to play around with your data to see which levers to pull.\n",
    "\n",
    "Below are a bunch of resources on various topics in machine learning. The field of machine learning is very vast, but you can learn a lot by just dipping your toes in the water in a narrow topic, and then slowly expanding outward from it.\n",
    "\n",
    "- [Classification vs Regression](https://machinelearningmastery.com/classification-versus-regression-in-machine-learning/)\n",
    "- [Supervised vs unsupervised learning](https://www.ibm.com/cloud/blog/supervised-vs-unsupervised-learning)\n",
    "- [Hyperparameter tuning](https://www.jeremyjordan.me/hyperparameter-tuning/)\n",
    "- [Tensorflow for deep learning](https://www.tensorflow.org/)\n",
    "- [Scikit-learn preprocessing pipelines](https://scikit-learn.org/stable/modules/preprocessing.html#preprocessing)\n",
    "- [Picking the right machine-learning algorithm](https://www.analyticsvidhya.com/blog/2021/07/how-to-choose-an-appropriate-ml-algorithm-data-science-projects/)\n",
    "- [Ethics of machine learning and AI](https://www.nature.com/articles/s41599-020-0501-9)"
   ]
  },
  {
   "cell_type": "markdown",
   "metadata": {},
   "source": [
    "![](https://staticc.sportskeeda.com/editor/2023/04/dd4c6-16805319883703-1920.jpg?w=840)"
   ]
  },
  {
   "cell_type": "markdown",
   "metadata": {},
   "source": [
    "*Harry Potter by Balenciaga, a silly example of the power of the emerging techology of AI/DL.*"
   ]
  }
 ],
 "metadata": {
  "kernelspec": {
   "display_name": "Python 3.9.12 ('base')",
   "language": "python",
   "name": "python3"
  },
  "language_info": {
   "codemirror_mode": {
    "name": "ipython",
    "version": 3
   },
   "file_extension": ".py",
   "mimetype": "text/x-python",
   "name": "python",
   "nbconvert_exporter": "python",
   "pygments_lexer": "ipython3",
   "version": "3.9.12"
  },
  "orig_nbformat": 4,
  "vscode": {
   "interpreter": {
    "hash": "b52b534d3e8b2df8a7f375ea8b488ed7c2e546a5d77230d70bd2c6badbd8c861"
   }
  }
 },
 "nbformat": 4,
 "nbformat_minor": 2
}
