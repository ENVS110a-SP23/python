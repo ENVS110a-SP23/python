{
 "cells": [
  {
   "cell_type": "markdown",
   "metadata": {},
   "source": [
    "# Data distributions and sampling\n"
   ]
  },
  {
   "cell_type": "code",
   "execution_count": 2,
   "metadata": {},
   "outputs": [],
   "source": [
    "import numpy as np\n",
    "import pandas as pd\n",
    "import matplotlib.pyplot as plt\n",
    "import seaborn as sns\n",
    "\n",
    "df = pd.read_csv('boston_precip_temp.csv')\n",
    "df.head()\n"
   ]
  },
  {
   "cell_type": "markdown",
   "metadata": {},
   "source": [
    "## Uniform distribution\n",
    "One thing we are often concerned about in data analysis is the **distribution** of our data: the values of the samples we have, and how often those values occur. We often visualize distributions in a type of plot called a **histogram**.\n",
    "\n",
    "Below, we generate data from a **uniform** distribution. A uniform distribution is one where all values are equally likely. In the example below, we create a sample of a uniform distribution between 0 and 10 using `np.random.uniform()`.\n",
    "\n",
    "In this uniform distribution, values close to zero are just as likely as values close to 10 and all values in-between. "
   ]
  },
  {
   "cell_type": "code",
   "execution_count": 1,
   "metadata": {},
   "outputs": [],
   "source": [
    "uniform_data\n",
    "sns.set_style()\n",
    "\n",
    "sns.histplot(uniform_data)\n",
    "# plt.show()"
   ]
  },
  {
   "cell_type": "markdown",
   "metadata": {},
   "source": [
    "The uniform distrbution is straightforward to understand, and some variables you may be interested in follow it. For examples, in our Boston temperature and precipitation values, temperature is approximately **uniformly distributed**. "
   ]
  },
  {
   "cell_type": "code",
   "execution_count": 4,
   "metadata": {},
   "outputs": [
    {
     "data": {
      "image/png": "[encoded data removed]",
      "text/plain": [
       "<Figure size 432x288 with 1 Axes>"
      ]
     },
     "metadata": {},
     "output_type": "display_data"
    }
   ],
   "source": [
    "sns.histplot()\n",
    "plt.show()"
   ]
  },
  {
   "cell_type": "markdown",
   "metadata": {},
   "source": [
    "## Normal distribution\n",
    "\n",
    "The **normal distribution** is one of the most important types of distributions. Data that are normally distributed appear as a bell-shaped curve. \n",
    "\n",
    "The data is centered on a central value, which is the mean and median of the data. \n",
    "\n",
    "Values further from the mean are less common; these occupy the **tails** of the distribution.\n"
   ]
  },
  {
   "cell_type": "code",
   "execution_count": 3,
   "metadata": {},
   "outputs": [],
   "source": [
    "normal_data\n",
    "\n",
    "sns.histplot(normal_data)\n",
    "plt.show()"
   ]
  },
  {
   "cell_type": "code",
   "execution_count": 4,
   "metadata": {},
   "outputs": [],
   "source": [
    "mean_normal \n",
    "median_normal \n",
    "\n",
    "sns.histplot(normal_data)\n",
    "\n",
    "plt.show()\n",
    "print('mean:', mean_normal)\n",
    "print('median:', median_normal)"
   ]
  },
  {
   "cell_type": "markdown",
   "metadata": {},
   "source": [
    "\n",
    "The two most important values that define a particular normal distribution are the **mean** and **standard deviation** of the distribution. Standard deviation ($\\sigma$) is a measure of the spread of data, and is calculated as the square root of the average difference between each data point and the mean:\n",
    "\n",
    "$$ \\sigma = \\sqrt{\\frac{\\sum_{i=1}^N(x_i-\\bar{x})^2}{N}}$$\n",
    "\n",
    "In this equation, $N$ is the total number of samples, $x_i$ represents the values of a single sample, and $\\bar{x}$ is the sample mean.\n",
    "\n",
    "Approximately ⅔ of data (68%) lie within ±1 standard deviation of the mean, and ~95% lie within ±2 standard deviations."
   ]
  },
  {
   "cell_type": "code",
   "execution_count": 6,
   "metadata": {},
   "outputs": [],
   "source": [
    "std_normal\n",
    "\n",
    "sns.histplot(normal_data)\n",
    "plt.axvline(x=mean_normal, color=\"red\")\n",
    "plt.show()\n",
    "\n",
    "print('Standard deviation:',std_normal)"
   ]
  },
  {
   "cell_type": "markdown",
   "metadata": {},
   "source": [
    "**Variance** is another measurement of spread. It is simply the square of standard deviation. "
   ]
  },
  {
   "cell_type": "code",
   "execution_count": 8,
   "metadata": {},
   "outputs": [],
   "source": [
    "var_normal\n",
    "print(\"variance:\", var_normal)"
   ]
  },
  {
   "cell_type": "markdown",
   "metadata": {},
   "source": [
    "A lot of our numerical data will be normally distributed (though not as nice looking as the ones directly from numpy)."
   ]
  },
  {
   "cell_type": "code",
   "execution_count": 9,
   "metadata": {},
   "outputs": [],
   "source": [
    "sns.histplot()\n",
    "plt.show()"
   ]
  },
  {
   "cell_type": "markdown",
   "metadata": {},
   "source": [
    "### Question\n",
    "\n",
    "Create a uniform distribution and visualize it with a histogram. Change the sample size and revisualize. What happens when you decrease the sample size? What happens when you increase it?\n",
    "\n",
    "Now do the same thing for a normal distribution. What changes when you change the sample size? How close are the mean and standard deviation to the values you put into `np.random.normal()`?"
   ]
  },
  {
   "cell_type": "code",
   "execution_count": null,
   "metadata": {},
   "outputs": [],
   "source": [
    "### your code here:\n"
   ]
  },
  {
   "cell_type": "markdown",
   "metadata": {},
   "source": [
    "## Skewed data\n",
    "Not all data comes in a normal distribution. Sometimes, the distribution is **skewed**, where one of the tails of the distribution is longer than the other. In this case, the mean and median of our data will not be equal."
   ]
  },
  {
   "cell_type": "code",
   "execution_count": 10,
   "metadata": {},
   "outputs": [],
   "source": [
    "lognormal_data\n",
    "\n",
    "lognormal_mean = np.mean(lognormal_data)\n",
    "lognormal_median = np.median(lognormal_data)\n",
    "\n",
    "sns.histplot(lognormal_data)\n",
    "plt.axvline(x=lognormal_mean, color=\"red\")\n",
    "plt.axvline(x=lognormal_median, color=\"black\")\n",
    "plt.show()\n",
    "\n",
    "print('mean:', lognormal_mean)\n",
    "print('lognormal_median', lognormal_median)"
   ]
  },
  {
   "cell_type": "markdown",
   "metadata": {},
   "source": [
    "Having data normally distributed can be quite useful, and there are ways to transform skewed data to make them more normally distributed. A log transformation is a common way to do this: taking the base-10 logarithm of your data. This will be useful later when we talk about linear regression. "
   ]
  },
  {
   "cell_type": "code",
   "execution_count": 11,
   "metadata": {},
   "outputs": [],
   "source": [
    "transformed_data\n",
    "\n",
    "sns.histplot(transformed_data)\n",
    "plt.show()"
   ]
  },
  {
   "cell_type": "markdown",
   "metadata": {},
   "source": [
    "### Question\n",
    "\n",
    "Make a histogram of the following data. Are these data normally distributed? Why or why not? If not, does log transforming help?\n",
    "\n",
    "- `data/boston_precip_temp.csv`: 'diurnal_temp_range'\n",
    "- `data/gapminder.csv`: 'population' \n",
    "- `data/boston_precip_temp.csv`: 'snow-totals' (remove all negative numbers first!)"
   ]
  },
  {
   "cell_type": "code",
   "execution_count": 122,
   "metadata": {},
   "outputs": [],
   "source": [
    "### your code here:"
   ]
  },
  {
   "cell_type": "markdown",
   "metadata": {},
   "source": [
    "## Sampling\n",
    "When we acquire data, we are taking a sample of a larger **population**. A population is the entire group of entities we are interested in studying. This can be an actual human, animal or plant population, or it could be all of the factories in the US, or a body of water you are taking samples from. Every statistical question has a population of interest. \n",
    "\n",
    "Say our population is US factories and our value of interest is emissions made by each factory, which is normally distributed. There is a true value for the mean emissions for all US factories. However, if you collected information on only some of them, the mean number of that sample might be somewhat different from the overall mean just due to random chance. This is called **sampling error**. The larger our sample, the closer it should be to the actual mean.\n",
    "\n",
    "We also want to make sure our sample is representative. For instance, a sample from all US states is more representative of the population than a sample only from Arkansas. If you do not have a representative sample, your sample mean may be far from the true mean, another source of sampling error. "
   ]
  },
  {
   "cell_type": "code",
   "execution_count": 8,
   "metadata": {},
   "outputs": [
    {
     "name": "stdout",
     "output_type": "stream",
     "text": [
      ">2 SD 0.0\n",
      ">1 SD 0.0026\n"
     ]
    }
   ],
   "source": [
    "greater_than_1 = list()\n",
    "greater_than_2 = list()\n",
    "\n",
    "# take 10000 samples\n",
    "    \n",
    "\n",
    "print('>2 SD:',len(greater_than_2)/10000)\n",
    "\n",
    "print('>1 SD:', len(greater_than_1)/10000)"
   ]
  },
  {
   "cell_type": "markdown",
   "metadata": {},
   "source": [
    "### Question\n",
    "\n",
    "Using the code above for detecting possibility of sample error, change the standard deviation, sample size, and number of iterations. How does this affect the possibility of seeing samples with means that exceed 1 or 2?"
   ]
  },
  {
   "cell_type": "code",
   "execution_count": 124,
   "metadata": {},
   "outputs": [],
   "source": [
    "### your code here"
   ]
  },
  {
   "cell_type": "markdown",
   "metadata": {},
   "source": [
    "### Question\n",
    "\n",
    "Create two random samples (100 values each) from a normal distribution with a mean of 100 and a standard deviation of 10. Visualize each as a distribution, displaying the mean by printing the value or putting a vertical line in the plot.\n",
    "\n",
    "Do the two histograms looks approximately the same? Calculate the difference between the means of the two samples.\n",
    "\n",
    "Re-run the code to get two different samples several times. How similar do the distributions look each time? How different are the means?"
   ]
  },
  {
   "cell_type": "code",
   "execution_count": 125,
   "metadata": {},
   "outputs": [],
   "source": [
    "### your code here:"
   ]
  },
  {
   "cell_type": "markdown",
   "metadata": {},
   "source": [
    "### Bonus Question\n",
    "\n",
    "Write your own custom function to calculate standard deviation from a list of numbers. Double check with the numpy version to see if you get the same values"
   ]
  },
  {
   "cell_type": "code",
   "execution_count": 126,
   "metadata": {},
   "outputs": [],
   "source": [
    "### your code hre"
   ]
  }
 ],
 "metadata": {
  "kernelspec": {
   "display_name": "Python 3.9.12 ('base')",
   "language": "python",
   "name": "python3"
  },
  "language_info": {
   "codemirror_mode": {
    "name": "ipython",
    "version": 3
   },
   "file_extension": ".py",
   "mimetype": "text/x-python",
   "name": "python",
   "nbconvert_exporter": "python",
   "pygments_lexer": "ipython3",
   "version": "3.9.12"
  },
  "orig_nbformat": 4,
  "vscode": {
   "interpreter": {
    "hash": "b52b534d3e8b2df8a7f375ea8b488ed7c2e546a5d77230d70bd2c6badbd8c861"
   }
  }
 },
 "nbformat": 4,
 "nbformat_minor": 2
}
